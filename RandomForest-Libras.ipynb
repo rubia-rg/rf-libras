{
 "cells": [
  {
   "cell_type": "markdown",
   "metadata": {},
   "source": [
    "# Random Forest + LIBRAS"
   ]
  },
  {
   "cell_type": "markdown",
   "metadata": {},
   "source": [
    "This notebook covers a Python-based solution to be compared to the experiments 1 to 4 presented in <cite data-cite=\"6013574/XD5B9TZQ\"></cite>."
   ]
  },
  {
   "cell_type": "markdown",
   "metadata": {},
   "source": [
    "The presented solution consists in reproducing the feature vectors for each of the experiments utilizing (x, y) points in <cite data-cite=\"6013574/XD5B9TZQ\"></cite>, applying a RandomForest classifier, and lastly, comparing the resulting performance to the ones obtained by SVM and k-NN approaches."
   ]
  },
  {
   "cell_type": "markdown",
   "metadata": {},
   "source": [
    "## Context"
   ]
  },
  {
   "cell_type": "markdown",
   "metadata": {},
   "source": [
    "\\# TO DO"
   ]
  },
  {
   "cell_type": "markdown",
   "metadata": {},
   "source": [
    "## Dataset"
   ]
  },
  {
   "cell_type": "markdown",
   "metadata": {},
   "source": [
    "\\# TO DO"
   ]
  },
  {
   "cell_type": "markdown",
   "metadata": {},
   "source": [
    "## Experiments"
   ]
  },
  {
   "cell_type": "markdown",
   "metadata": {},
   "source": [
    "\\# TO DO"
   ]
  },
  {
   "cell_type": "code",
   "execution_count": 1,
   "metadata": {
    "collapsed": true
   },
   "outputs": [],
   "source": [
    "import glob as gl\n",
    "import numpy as np\n",
    "from scipy.io import loadmat\n",
    "from typing import List\n",
    "import pandas as pd"
   ]
  },
  {
   "cell_type": "code",
   "execution_count": 2,
   "metadata": {
    "collapsed": true
   },
   "outputs": [],
   "source": [
    "def labelname(file_name):  # Extract labels from filenames \n",
    "    label = file_name.replace(\"data/points/sample\", \"\").lower()\n",
    "    return label.replace(\".mat\", \"\")\n",
    "\n",
    "\n",
    "class Signal:  # Signal representation containing x and y coordinates and corresponding label\n",
    "    def __init__(self, x, y, label):\n",
    "        self.x = x\n",
    "        self.y = y\n",
    "        self.label = label"
   ]
  },
  {
   "cell_type": "markdown",
   "metadata": {},
   "source": [
    "### Experiment 1"
   ]
  },
  {
   "cell_type": "markdown",
   "metadata": {},
   "source": [
    "The first experiment utilizes each signal in its raw form."
   ]
  },
  {
   "cell_type": "code",
   "execution_count": 3,
   "metadata": {
    "collapsed": true
   },
   "outputs": [],
   "source": [
    "def sigvalues(sig):  # EX.1: raw data\n",
    "    updsig = np.zeros((np.shape(sig.x)[0], np.shape(sig.x)[1] * 2))\n",
    "    updsig[:, ::2] = sig.x\n",
    "    updsig[:, 1::2] = sig.y\n",
    "\n",
    "    return updsig  # Updated signal"
   ]
  },
  {
   "cell_type": "markdown",
   "metadata": {},
   "source": [
    "### Experiment 2"
   ]
  },
  {
   "cell_type": "markdown",
   "metadata": {},
   "source": [
    "The second experiment consists of applying z-normalization to each sample. The updated coordinates are:\n",
    "\\begin{align}\n",
    "x_{\\mathcal{N(0,1)}}=\\frac{x-\\bar{x}}{\\sigma(x)} \\\\\n",
    "y_{\\mathcal{N(0,1)}}=\\frac{y-\\bar{y}}{\\sigma(y)}\n",
    "\\end{align}\n"
   ]
  },
  {
   "cell_type": "code",
   "execution_count": null,
   "metadata": {
    "collapsed": true
   },
   "outputs": [],
   "source": [
    "def sigvalues(sig):  # EX.2: z-norm\n",
    "    updsig = np.zeros((np.shape(sig.x)[0], np.shape(sig.x)[1] * 2))\n",
    "    for idx, x in enumerate(sig.x):\n",
    "        sig.x[idx] = np.divide((np.transpose(x) - np.mean(x)), np.std(x))\n",
    "    for idx, y in enumerate(sig.y):\n",
    "        sig.y[idx] = np.divide((np.transpose(y) - np.mean(y)), np.std(y))\n",
    "\n",
    "    updsig[:, ::2] = sig.x\n",
    "    updsig[:, 1::2] = sig.y\n",
    "\n",
    "    return updsig  # Updated signal"
   ]
  },
  {
   "cell_type": "markdown",
   "metadata": {},
   "source": [
    "### Experiment 3"
   ]
  },
  {
   "cell_type": "markdown",
   "metadata": {},
   "source": [
    "The third experiment consists of normalizing each signal by its 1st frame centroid, as follows:\n",
    "\\begin{align}\n",
    "\\tilde{x}_{P,f}=x_{P,f}-\\bar{x}_{1} \\\\\n",
    "\\tilde{y}_{P,f}=y_{P,f}-\\bar{y}_{1}\n",
    "\\end{align}"
   ]
  },
  {
   "cell_type": "code",
   "execution_count": null,
   "metadata": {
    "collapsed": true
   },
   "outputs": [],
   "source": [
    "def sigvalues(sig): # EX.3: norm by 1st frame centroid\n",
    "    frame_x = np.split(sig.x, 5, axis=1)  # x-coordinates by frame\n",
    "    frame_y = np.split(sig.y, 5, axis=1)  # y-coordinates by frame\n",
    "    cent_x, cent_y = (np.mean(frame_x[0], axis=1), np.mean(frame_y[0], axis=1))  # first frame centroid of each recording\n",
    "\n",
    "    updsig = np.zeros((np.shape(sig.x)[0], np.shape(sig.x)[1] * 2))\n",
    "    for idx, x in enumerate(sig.x):\n",
    "        sig.x[idx] = x - cent_x[idx]\n",
    "    for idx, y in enumerate(sig.y):\n",
    "        sig.y[idx] = y - cent_y[idx]\n",
    "\n",
    "    updsig[:, ::2] = sig.x\n",
    "    updsig[:, 1::2] = sig.y\n",
    "\n",
    "    return updsig  # Updated signal"
   ]
  },
  {
   "cell_type": "markdown",
   "metadata": {},
   "source": [
    "### Experiment 4"
   ]
  },
  {
   "cell_type": "markdown",
   "metadata": {},
   "source": [
    "The fourth experiment consists of normalizing each signal by its current frame centroid, as follows:\n",
    "\\begin{align}\n",
    "\\tilde{x}_{P,f}=x_{P,f}-\\bar{x}_{f} \\\\\n",
    "\\tilde{y}_{P,f}=y_{P,f}-\\bar{y}_{f}\n",
    "\\end{align}"
   ]
  },
  {
   "cell_type": "code",
   "execution_count": null,
   "metadata": {
    "collapsed": true
   },
   "outputs": [],
   "source": [
    "def sigvalues(sig):  # EX.4\n",
    "    frame_x = np.split(sig.x, 5, axis=1)  # x-coordinates by frame\n",
    "    frame_y = np.split(sig.y, 5, axis=1)  # y-coordinates by frame\n",
    "    cent_x, cent_y = (np.mean(frame_x, axis=2), np.mean(frame_y, axis=2))  # centroids of each recording\n",
    "\n",
    "    nframes, nrecs, idx = np.shape(frame_x)\n",
    "    updsig = np.zeros((np.shape(sig.x)[0], np.shape(sig.x)[1] * 2))\n",
    "    for fx in range(nframes):\n",
    "        frame_x[fx] = np.transpose(np.transpose(frame_x[fx]) - cent_x[fx])\n",
    "    for fy in range(nframes):\n",
    "        frame_y[fy] = np.transpose(np.transpose(frame_y[fy]) - cent_y[fy])\n",
    "\n",
    "    updsig[:, ::2] = np.hstack(frame_x)\n",
    "    updsig[:, 1::2] = np.hstack(frame_y)\n",
    "\n",
    "    return updsig  # Updated signal"
   ]
  },
  {
   "cell_type": "markdown",
   "metadata": {},
   "source": [
    "## Classification"
   ]
  },
  {
   "cell_type": "markdown",
   "metadata": {},
   "source": [
    "For means of comparison, this solution utilizes the Random Forest algorithm for the classification task. Tuning is done on every iteration utilizing GridSearchCV. "
   ]
  },
  {
   "cell_type": "code",
   "execution_count": 4,
   "metadata": {
    "collapsed": false
   },
   "outputs": [],
   "source": [
    "files = gl.glob(\"data/points/*.mat\")  # type: list\n",
    "\n",
    "signals = []  # type: List[Signal]\n",
    "\n",
    "for f in files:\n",
    "    data = loadmat(f).get('pontosSinal')\n",
    "    signals.append(Signal(data[:, ::2], data[:, 1::2], labelname(f)))\n",
    "\n",
    "n_signs = len(signals)\n",
    "n_recs, n_x = np.shape(signals[0].x)  # Number of recordings and number of features\n",
    "\n",
    "signals_feat = []  # Updated signals, according to each experiment\n",
    "signals_labels = []\n",
    "labels_dict = {}  # Dictionary of signals' labels, for reference\n",
    "i = 0\n",
    "\n",
    "for s in signals:\n",
    "    signals_feat.append(sigvalues(s))\n",
    "    signals_labels.append([i] * n_recs)\n",
    "    labels_dict[i] = s.label\n",
    "    i += 1\n",
    "    \n",
    "sig_features = np.reshape(signals_feat, (n_signs * n_recs, n_x * 2))\n",
    "sig_labels = np.reshape(signals_labels, (n_signs * n_recs,))"
   ]
  },
  {
   "cell_type": "code",
   "execution_count": 5,
   "metadata": {
    "collapsed": true
   },
   "outputs": [],
   "source": [
    "from sklearn.model_selection import StratifiedShuffleSplit\n",
    "from sklearn.ensemble import RandomForestClassifier\n",
    "from sklearn.metrics import accuracy_score\n",
    "from sklearn.metrics import confusion_matrix\n",
    "from sklearn.model_selection import RandomizedSearchCV\n",
    "# from sklearn.model_selection import GridSearchCV\n",
    "from sklearn.metrics import classification_report\n",
    "from pprint import pprint"
   ]
  },
  {
   "cell_type": "markdown",
   "metadata": {},
   "source": [
    "\\# TO DO: PARAMETER SELECTION"
   ]
  },
  {
   "cell_type": "code",
   "execution_count": 6,
   "metadata": {
    "collapsed": true
   },
   "outputs": [],
   "source": [
    "# Number of trees in random forest\n",
    "n_estimators = [int(x) for x in np.linspace(start=200, stop=2000, num=10)]\n",
    "# Number of features to consider at every split\n",
    "max_features = ['log2', 'sqrt']\n",
    "# Maximum number of levels in tree\n",
    "max_depth = [int(x) for x in np.linspace(10, 110, num=11)]\n",
    "max_depth.append(None)\n",
    "# Minimum number of samples required to split a node\n",
    "min_samples_split = [2, 5, 7]\n",
    "# Minimum number of samples required at each leaf node\n",
    "min_samples_leaf = [1, 2, 4]\n",
    "# Method of selecting samples for training each tree\n",
    "bootstrap = [True, False]\n",
    "# Create the random grid\n",
    "random_grid = {'n_estimators': n_estimators,\n",
    "               'max_features': max_features,\n",
    "               'max_depth': max_depth,\n",
    "               'min_samples_split': min_samples_split,\n",
    "               'min_samples_leaf': min_samples_leaf,\n",
    "               'bootstrap': bootstrap}"
   ]
  },
  {
   "cell_type": "markdown",
   "metadata": {},
   "source": [
    "\\# TO DO"
   ]
  },
  {
   "cell_type": "code",
   "execution_count": 7,
   "metadata": {
    "collapsed": false
   },
   "outputs": [
    {
     "name": "stdout",
     "output_type": "stream",
     "text": [
      "Iteration::  0\n",
      "Fitting 3 folds for each of 100 candidates, totalling 300 fits\n"
     ]
    },
    {
     "name": "stderr",
     "output_type": "stream",
     "text": [
      "[Parallel(n_jobs=-1)]: Done  42 tasks      | elapsed:   47.4s\n",
      "[Parallel(n_jobs=-1)]: Done 192 tasks      | elapsed:  3.9min\n",
      "[Parallel(n_jobs=-1)]: Done 300 out of 300 | elapsed:  6.5min finished\n",
      "/anaconda/envs/tensorflow/lib/python3.4/site-packages/sklearn/metrics/classification.py:1135: UndefinedMetricWarning: Precision and F-score are ill-defined and being set to 0.0 in labels with no predicted samples.\n",
      "  'precision', 'predicted', average, warn_for)\n"
     ]
    },
    {
     "name": "stdout",
     "output_type": "stream",
     "text": [
      "Iteration::  1\n",
      "Fitting 3 folds for each of 100 candidates, totalling 300 fits\n"
     ]
    },
    {
     "name": "stderr",
     "output_type": "stream",
     "text": [
      "[Parallel(n_jobs=-1)]: Done  42 tasks      | elapsed:   35.2s\n",
      "[Parallel(n_jobs=-1)]: Done 192 tasks      | elapsed:  3.2min\n",
      "[Parallel(n_jobs=-1)]: Done 300 out of 300 | elapsed:  5.2min finished\n",
      "/anaconda/envs/tensorflow/lib/python3.4/site-packages/sklearn/metrics/classification.py:1135: UndefinedMetricWarning: Precision and F-score are ill-defined and being set to 0.0 in labels with no predicted samples.\n",
      "  'precision', 'predicted', average, warn_for)\n"
     ]
    },
    {
     "name": "stdout",
     "output_type": "stream",
     "text": [
      "Iteration::  2\n",
      "Fitting 3 folds for each of 100 candidates, totalling 300 fits\n"
     ]
    },
    {
     "name": "stderr",
     "output_type": "stream",
     "text": [
      "[Parallel(n_jobs=-1)]: Done  42 tasks      | elapsed:   46.0s\n",
      "[Parallel(n_jobs=-1)]: Done 192 tasks      | elapsed:  3.3min\n",
      "[Parallel(n_jobs=-1)]: Done 300 out of 300 | elapsed:  5.4min finished\n"
     ]
    },
    {
     "name": "stdout",
     "output_type": "stream",
     "text": [
      "Iteration::  3\n",
      "Fitting 3 folds for each of 100 candidates, totalling 300 fits\n"
     ]
    },
    {
     "name": "stderr",
     "output_type": "stream",
     "text": [
      "/anaconda/envs/tensorflow/lib/python3.4/site-packages/sklearn/metrics/classification.py:1135: UndefinedMetricWarning: Precision and F-score are ill-defined and being set to 0.0 in labels with no predicted samples.\n",
      "  'precision', 'predicted', average, warn_for)\n",
      "[Parallel(n_jobs=-1)]: Done  42 tasks      | elapsed:   51.2s\n",
      "[Parallel(n_jobs=-1)]: Done 192 tasks      | elapsed:  3.6min\n",
      "[Parallel(n_jobs=-1)]: Done 300 out of 300 | elapsed:  5.9min finished\n",
      "/anaconda/envs/tensorflow/lib/python3.4/site-packages/sklearn/metrics/classification.py:1135: UndefinedMetricWarning: Precision and F-score are ill-defined and being set to 0.0 in labels with no predicted samples.\n",
      "  'precision', 'predicted', average, warn_for)\n"
     ]
    },
    {
     "name": "stdout",
     "output_type": "stream",
     "text": [
      "Iteration::  4\n",
      "Fitting 3 folds for each of 100 candidates, totalling 300 fits\n"
     ]
    },
    {
     "name": "stderr",
     "output_type": "stream",
     "text": [
      "[Parallel(n_jobs=-1)]: Done  42 tasks      | elapsed:   41.2s\n",
      "[Parallel(n_jobs=-1)]: Done 192 tasks      | elapsed:  3.5min\n",
      "[Parallel(n_jobs=-1)]: Done 300 out of 300 | elapsed:  5.5min finished\n"
     ]
    },
    {
     "name": "stdout",
     "output_type": "stream",
     "text": [
      "Iteration::  5\n",
      "Fitting 3 folds for each of 100 candidates, totalling 300 fits\n"
     ]
    },
    {
     "name": "stderr",
     "output_type": "stream",
     "text": [
      "/anaconda/envs/tensorflow/lib/python3.4/site-packages/sklearn/metrics/classification.py:1135: UndefinedMetricWarning: Precision and F-score are ill-defined and being set to 0.0 in labels with no predicted samples.\n",
      "  'precision', 'predicted', average, warn_for)\n",
      "[Parallel(n_jobs=-1)]: Done  42 tasks      | elapsed:  1.1min\n",
      "[Parallel(n_jobs=-1)]: Done 192 tasks      | elapsed:  3.9min\n",
      "[Parallel(n_jobs=-1)]: Done 300 out of 300 | elapsed:  5.9min finished\n"
     ]
    },
    {
     "name": "stdout",
     "output_type": "stream",
     "text": [
      "Iteration::  6\n",
      "Fitting 3 folds for each of 100 candidates, totalling 300 fits\n"
     ]
    },
    {
     "name": "stderr",
     "output_type": "stream",
     "text": [
      "/anaconda/envs/tensorflow/lib/python3.4/site-packages/sklearn/metrics/classification.py:1135: UndefinedMetricWarning: Precision and F-score are ill-defined and being set to 0.0 in labels with no predicted samples.\n",
      "  'precision', 'predicted', average, warn_for)\n",
      "[Parallel(n_jobs=-1)]: Done  42 tasks      | elapsed:   46.7s\n",
      "[Parallel(n_jobs=-1)]: Done 192 tasks      | elapsed:  3.9min\n",
      "[Parallel(n_jobs=-1)]: Done 300 out of 300 | elapsed:  6.1min finished\n"
     ]
    },
    {
     "name": "stdout",
     "output_type": "stream",
     "text": [
      "Iteration::  7\n",
      "Fitting 3 folds for each of 100 candidates, totalling 300 fits\n"
     ]
    },
    {
     "name": "stderr",
     "output_type": "stream",
     "text": [
      "/anaconda/envs/tensorflow/lib/python3.4/site-packages/sklearn/metrics/classification.py:1135: UndefinedMetricWarning: Precision and F-score are ill-defined and being set to 0.0 in labels with no predicted samples.\n",
      "  'precision', 'predicted', average, warn_for)\n",
      "[Parallel(n_jobs=-1)]: Done  42 tasks      | elapsed:   38.1s\n",
      "[Parallel(n_jobs=-1)]: Done 192 tasks      | elapsed:  3.5min\n",
      "[Parallel(n_jobs=-1)]: Done 300 out of 300 | elapsed:  5.2min finished\n"
     ]
    },
    {
     "name": "stdout",
     "output_type": "stream",
     "text": [
      "Iteration::  8\n",
      "Fitting 3 folds for each of 100 candidates, totalling 300 fits\n"
     ]
    },
    {
     "name": "stderr",
     "output_type": "stream",
     "text": [
      "/anaconda/envs/tensorflow/lib/python3.4/site-packages/sklearn/metrics/classification.py:1135: UndefinedMetricWarning: Precision and F-score are ill-defined and being set to 0.0 in labels with no predicted samples.\n",
      "  'precision', 'predicted', average, warn_for)\n",
      "[Parallel(n_jobs=-1)]: Done  42 tasks      | elapsed:   45.2s\n",
      "[Parallel(n_jobs=-1)]: Done 192 tasks      | elapsed:  3.7min\n",
      "[Parallel(n_jobs=-1)]: Done 300 out of 300 | elapsed:  5.5min finished\n"
     ]
    },
    {
     "name": "stdout",
     "output_type": "stream",
     "text": [
      "Iteration::  9\n",
      "Fitting 3 folds for each of 100 candidates, totalling 300 fits\n"
     ]
    },
    {
     "name": "stderr",
     "output_type": "stream",
     "text": [
      "/anaconda/envs/tensorflow/lib/python3.4/site-packages/sklearn/metrics/classification.py:1135: UndefinedMetricWarning: Precision and F-score are ill-defined and being set to 0.0 in labels with no predicted samples.\n",
      "  'precision', 'predicted', average, warn_for)\n",
      "[Parallel(n_jobs=-1)]: Done  42 tasks      | elapsed:   42.0s\n",
      "[Parallel(n_jobs=-1)]: Done 192 tasks      | elapsed:  4.0min\n",
      "[Parallel(n_jobs=-1)]: Done 300 out of 300 | elapsed:  6.6min finished\n"
     ]
    },
    {
     "name": "stdout",
     "output_type": "stream",
     "text": [
      "Iteration::  10\n",
      "Fitting 3 folds for each of 100 candidates, totalling 300 fits\n"
     ]
    },
    {
     "name": "stderr",
     "output_type": "stream",
     "text": [
      "/anaconda/envs/tensorflow/lib/python3.4/site-packages/sklearn/metrics/classification.py:1135: UndefinedMetricWarning: Precision and F-score are ill-defined and being set to 0.0 in labels with no predicted samples.\n",
      "  'precision', 'predicted', average, warn_for)\n",
      "[Parallel(n_jobs=-1)]: Done  42 tasks      | elapsed:   44.2s\n",
      "[Parallel(n_jobs=-1)]: Done 192 tasks      | elapsed:  4.1min\n",
      "[Parallel(n_jobs=-1)]: Done 300 out of 300 | elapsed:  6.1min finished\n",
      "/anaconda/envs/tensorflow/lib/python3.4/site-packages/sklearn/metrics/classification.py:1135: UndefinedMetricWarning: Precision and F-score are ill-defined and being set to 0.0 in labels with no predicted samples.\n",
      "  'precision', 'predicted', average, warn_for)\n"
     ]
    },
    {
     "name": "stdout",
     "output_type": "stream",
     "text": [
      "Iteration::  11\n",
      "Fitting 3 folds for each of 100 candidates, totalling 300 fits\n"
     ]
    },
    {
     "name": "stderr",
     "output_type": "stream",
     "text": [
      "[Parallel(n_jobs=-1)]: Done  42 tasks      | elapsed:   49.6s\n",
      "[Parallel(n_jobs=-1)]: Done 192 tasks      | elapsed:  4.1min\n",
      "[Parallel(n_jobs=-1)]: Done 300 out of 300 | elapsed:  6.9min finished\n",
      "/anaconda/envs/tensorflow/lib/python3.4/site-packages/sklearn/metrics/classification.py:1135: UndefinedMetricWarning: Precision and F-score are ill-defined and being set to 0.0 in labels with no predicted samples.\n",
      "  'precision', 'predicted', average, warn_for)\n"
     ]
    },
    {
     "name": "stdout",
     "output_type": "stream",
     "text": [
      "Iteration::  12\n",
      "Fitting 3 folds for each of 100 candidates, totalling 300 fits\n"
     ]
    },
    {
     "name": "stderr",
     "output_type": "stream",
     "text": [
      "[Parallel(n_jobs=-1)]: Done  42 tasks      | elapsed:   56.9s\n",
      "[Parallel(n_jobs=-1)]: Done 192 tasks      | elapsed:  4.3min\n",
      "[Parallel(n_jobs=-1)]: Done 300 out of 300 | elapsed:  6.5min finished\n"
     ]
    },
    {
     "name": "stdout",
     "output_type": "stream",
     "text": [
      "Iteration::  13\n",
      "Fitting 3 folds for each of 100 candidates, totalling 300 fits\n"
     ]
    },
    {
     "name": "stderr",
     "output_type": "stream",
     "text": [
      "/anaconda/envs/tensorflow/lib/python3.4/site-packages/sklearn/metrics/classification.py:1135: UndefinedMetricWarning: Precision and F-score are ill-defined and being set to 0.0 in labels with no predicted samples.\n",
      "  'precision', 'predicted', average, warn_for)\n",
      "[Parallel(n_jobs=-1)]: Done  42 tasks      | elapsed:   51.2s\n",
      "[Parallel(n_jobs=-1)]: Done 192 tasks      | elapsed:  4.5min\n",
      "[Parallel(n_jobs=-1)]: Done 300 out of 300 | elapsed:  6.2min finished\n"
     ]
    },
    {
     "name": "stdout",
     "output_type": "stream",
     "text": [
      "Iteration::  14\n",
      "Fitting 3 folds for each of 100 candidates, totalling 300 fits\n"
     ]
    },
    {
     "name": "stderr",
     "output_type": "stream",
     "text": [
      "/anaconda/envs/tensorflow/lib/python3.4/site-packages/sklearn/metrics/classification.py:1135: UndefinedMetricWarning: Precision and F-score are ill-defined and being set to 0.0 in labels with no predicted samples.\n",
      "  'precision', 'predicted', average, warn_for)\n",
      "[Parallel(n_jobs=-1)]: Done  42 tasks      | elapsed:   35.6s\n",
      "[Parallel(n_jobs=-1)]: Done 192 tasks      | elapsed:  3.7min\n",
      "[Parallel(n_jobs=-1)]: Done 300 out of 300 | elapsed:  5.9min finished\n"
     ]
    },
    {
     "name": "stdout",
     "output_type": "stream",
     "text": [
      "Iteration::  15\n",
      "Fitting 3 folds for each of 100 candidates, totalling 300 fits\n"
     ]
    },
    {
     "name": "stderr",
     "output_type": "stream",
     "text": [
      "/anaconda/envs/tensorflow/lib/python3.4/site-packages/sklearn/metrics/classification.py:1135: UndefinedMetricWarning: Precision and F-score are ill-defined and being set to 0.0 in labels with no predicted samples.\n",
      "  'precision', 'predicted', average, warn_for)\n",
      "[Parallel(n_jobs=-1)]: Done  42 tasks      | elapsed:   46.5s\n",
      "[Parallel(n_jobs=-1)]: Done 192 tasks      | elapsed:  3.9min\n",
      "[Parallel(n_jobs=-1)]: Done 300 out of 300 | elapsed:  6.1min finished\n"
     ]
    },
    {
     "name": "stdout",
     "output_type": "stream",
     "text": [
      "Iteration::  16\n",
      "Fitting 3 folds for each of 100 candidates, totalling 300 fits\n"
     ]
    },
    {
     "name": "stderr",
     "output_type": "stream",
     "text": [
      "/anaconda/envs/tensorflow/lib/python3.4/site-packages/sklearn/metrics/classification.py:1135: UndefinedMetricWarning: Precision and F-score are ill-defined and being set to 0.0 in labels with no predicted samples.\n",
      "  'precision', 'predicted', average, warn_for)\n",
      "[Parallel(n_jobs=-1)]: Done  42 tasks      | elapsed:   46.0s\n",
      "[Parallel(n_jobs=-1)]: Done 192 tasks      | elapsed:  3.2min\n",
      "[Parallel(n_jobs=-1)]: Done 300 out of 300 | elapsed:  4.7min finished\n",
      "/anaconda/envs/tensorflow/lib/python3.4/site-packages/sklearn/metrics/classification.py:1135: UndefinedMetricWarning: Precision and F-score are ill-defined and being set to 0.0 in labels with no predicted samples.\n",
      "  'precision', 'predicted', average, warn_for)\n"
     ]
    },
    {
     "name": "stdout",
     "output_type": "stream",
     "text": [
      "Iteration::  17\n",
      "Fitting 3 folds for each of 100 candidates, totalling 300 fits\n"
     ]
    },
    {
     "name": "stderr",
     "output_type": "stream",
     "text": [
      "[Parallel(n_jobs=-1)]: Done  42 tasks      | elapsed:   49.0s\n",
      "[Parallel(n_jobs=-1)]: Done 192 tasks      | elapsed:  3.6min\n",
      "[Parallel(n_jobs=-1)]: Done 300 out of 300 | elapsed:  6.1min finished\n",
      "/anaconda/envs/tensorflow/lib/python3.4/site-packages/sklearn/metrics/classification.py:1135: UndefinedMetricWarning: Precision and F-score are ill-defined and being set to 0.0 in labels with no predicted samples.\n",
      "  'precision', 'predicted', average, warn_for)\n"
     ]
    },
    {
     "name": "stdout",
     "output_type": "stream",
     "text": [
      "Iteration::  18\n",
      "Fitting 3 folds for each of 100 candidates, totalling 300 fits\n"
     ]
    },
    {
     "name": "stderr",
     "output_type": "stream",
     "text": [
      "[Parallel(n_jobs=-1)]: Done  42 tasks      | elapsed:   42.1s\n",
      "[Parallel(n_jobs=-1)]: Done 192 tasks      | elapsed:  3.5min\n",
      "[Parallel(n_jobs=-1)]: Done 300 out of 300 | elapsed:  5.9min finished\n"
     ]
    },
    {
     "name": "stdout",
     "output_type": "stream",
     "text": [
      "Iteration::  19\n",
      "Fitting 3 folds for each of 100 candidates, totalling 300 fits\n"
     ]
    },
    {
     "name": "stderr",
     "output_type": "stream",
     "text": [
      "/anaconda/envs/tensorflow/lib/python3.4/site-packages/sklearn/metrics/classification.py:1135: UndefinedMetricWarning: Precision and F-score are ill-defined and being set to 0.0 in labels with no predicted samples.\n",
      "  'precision', 'predicted', average, warn_for)\n",
      "[Parallel(n_jobs=-1)]: Done  42 tasks      | elapsed:   45.7s\n",
      "[Parallel(n_jobs=-1)]: Done 192 tasks      | elapsed:  3.7min\n",
      "[Parallel(n_jobs=-1)]: Done 300 out of 300 | elapsed:  5.7min finished\n"
     ]
    },
    {
     "name": "stdout",
     "output_type": "stream",
     "text": [
      "Iteration::  20\n",
      "Fitting 3 folds for each of 100 candidates, totalling 300 fits\n"
     ]
    },
    {
     "name": "stderr",
     "output_type": "stream",
     "text": [
      "/anaconda/envs/tensorflow/lib/python3.4/site-packages/sklearn/metrics/classification.py:1135: UndefinedMetricWarning: Precision and F-score are ill-defined and being set to 0.0 in labels with no predicted samples.\n",
      "  'precision', 'predicted', average, warn_for)\n",
      "[Parallel(n_jobs=-1)]: Done  42 tasks      | elapsed:   39.3s\n",
      "[Parallel(n_jobs=-1)]: Done 192 tasks      | elapsed:  3.2min\n",
      "[Parallel(n_jobs=-1)]: Done 300 out of 300 | elapsed:  4.8min finished\n"
     ]
    },
    {
     "name": "stdout",
     "output_type": "stream",
     "text": [
      "Iteration::  21\n",
      "Fitting 3 folds for each of 100 candidates, totalling 300 fits\n"
     ]
    },
    {
     "name": "stderr",
     "output_type": "stream",
     "text": [
      "/anaconda/envs/tensorflow/lib/python3.4/site-packages/sklearn/metrics/classification.py:1135: UndefinedMetricWarning: Precision and F-score are ill-defined and being set to 0.0 in labels with no predicted samples.\n",
      "  'precision', 'predicted', average, warn_for)\n",
      "[Parallel(n_jobs=-1)]: Done  42 tasks      | elapsed:   46.7s\n",
      "[Parallel(n_jobs=-1)]: Done 192 tasks      | elapsed:  3.3min\n",
      "[Parallel(n_jobs=-1)]: Done 300 out of 300 | elapsed:  5.0min finished\n"
     ]
    },
    {
     "name": "stdout",
     "output_type": "stream",
     "text": [
      "Iteration::  22\n",
      "Fitting 3 folds for each of 100 candidates, totalling 300 fits\n"
     ]
    },
    {
     "name": "stderr",
     "output_type": "stream",
     "text": [
      "/anaconda/envs/tensorflow/lib/python3.4/site-packages/sklearn/metrics/classification.py:1135: UndefinedMetricWarning: Precision and F-score are ill-defined and being set to 0.0 in labels with no predicted samples.\n",
      "  'precision', 'predicted', average, warn_for)\n",
      "[Parallel(n_jobs=-1)]: Done  42 tasks      | elapsed:   41.5s\n",
      "[Parallel(n_jobs=-1)]: Done 192 tasks      | elapsed:  3.8min\n",
      "[Parallel(n_jobs=-1)]: Done 300 out of 300 | elapsed:  5.3min finished\n"
     ]
    },
    {
     "name": "stdout",
     "output_type": "stream",
     "text": [
      "Iteration::  23\n",
      "Fitting 3 folds for each of 100 candidates, totalling 300 fits\n"
     ]
    },
    {
     "name": "stderr",
     "output_type": "stream",
     "text": [
      "/anaconda/envs/tensorflow/lib/python3.4/site-packages/sklearn/metrics/classification.py:1135: UndefinedMetricWarning: Precision and F-score are ill-defined and being set to 0.0 in labels with no predicted samples.\n",
      "  'precision', 'predicted', average, warn_for)\n",
      "[Parallel(n_jobs=-1)]: Done  42 tasks      | elapsed:   49.8s\n",
      "[Parallel(n_jobs=-1)]: Done 192 tasks      | elapsed:  3.9min\n",
      "[Parallel(n_jobs=-1)]: Done 300 out of 300 | elapsed:  5.9min finished\n"
     ]
    },
    {
     "name": "stdout",
     "output_type": "stream",
     "text": [
      "Iteration::  24\n",
      "Fitting 3 folds for each of 100 candidates, totalling 300 fits\n"
     ]
    },
    {
     "name": "stderr",
     "output_type": "stream",
     "text": [
      "/anaconda/envs/tensorflow/lib/python3.4/site-packages/sklearn/metrics/classification.py:1135: UndefinedMetricWarning: Precision and F-score are ill-defined and being set to 0.0 in labels with no predicted samples.\n",
      "  'precision', 'predicted', average, warn_for)\n",
      "[Parallel(n_jobs=-1)]: Done  42 tasks      | elapsed:   53.8s\n",
      "[Parallel(n_jobs=-1)]: Done 192 tasks      | elapsed:  3.6min\n",
      "[Parallel(n_jobs=-1)]: Done 300 out of 300 | elapsed:  5.7min finished\n"
     ]
    },
    {
     "name": "stdout",
     "output_type": "stream",
     "text": [
      "Iteration::  25\n",
      "Fitting 3 folds for each of 100 candidates, totalling 300 fits\n"
     ]
    },
    {
     "name": "stderr",
     "output_type": "stream",
     "text": [
      "/anaconda/envs/tensorflow/lib/python3.4/site-packages/sklearn/metrics/classification.py:1135: UndefinedMetricWarning: Precision and F-score are ill-defined and being set to 0.0 in labels with no predicted samples.\n",
      "  'precision', 'predicted', average, warn_for)\n",
      "[Parallel(n_jobs=-1)]: Done  42 tasks      | elapsed:   59.2s\n",
      "[Parallel(n_jobs=-1)]: Done 192 tasks      | elapsed:  4.1min\n",
      "[Parallel(n_jobs=-1)]: Done 300 out of 300 | elapsed:  5.9min finished\n"
     ]
    },
    {
     "name": "stdout",
     "output_type": "stream",
     "text": [
      "Iteration::  26\n",
      "Fitting 3 folds for each of 100 candidates, totalling 300 fits\n"
     ]
    },
    {
     "name": "stderr",
     "output_type": "stream",
     "text": [
      "/anaconda/envs/tensorflow/lib/python3.4/site-packages/sklearn/metrics/classification.py:1135: UndefinedMetricWarning: Precision and F-score are ill-defined and being set to 0.0 in labels with no predicted samples.\n",
      "  'precision', 'predicted', average, warn_for)\n",
      "[Parallel(n_jobs=-1)]: Done  42 tasks      | elapsed:   31.1s\n",
      "[Parallel(n_jobs=-1)]: Done 192 tasks      | elapsed:  2.8min\n",
      "[Parallel(n_jobs=-1)]: Done 300 out of 300 | elapsed:  4.7min finished\n"
     ]
    },
    {
     "name": "stdout",
     "output_type": "stream",
     "text": [
      "Iteration::  27\n",
      "Fitting 3 folds for each of 100 candidates, totalling 300 fits\n"
     ]
    },
    {
     "name": "stderr",
     "output_type": "stream",
     "text": [
      "/anaconda/envs/tensorflow/lib/python3.4/site-packages/sklearn/metrics/classification.py:1135: UndefinedMetricWarning: Precision and F-score are ill-defined and being set to 0.0 in labels with no predicted samples.\n",
      "  'precision', 'predicted', average, warn_for)\n",
      "[Parallel(n_jobs=-1)]: Done  42 tasks      | elapsed:   42.4s\n",
      "[Parallel(n_jobs=-1)]: Done 192 tasks      | elapsed:  3.2min\n",
      "[Parallel(n_jobs=-1)]: Done 300 out of 300 | elapsed:  4.8min finished\n"
     ]
    },
    {
     "name": "stdout",
     "output_type": "stream",
     "text": [
      "Iteration::  28\n",
      "Fitting 3 folds for each of 100 candidates, totalling 300 fits\n"
     ]
    },
    {
     "name": "stderr",
     "output_type": "stream",
     "text": [
      "/anaconda/envs/tensorflow/lib/python3.4/site-packages/sklearn/metrics/classification.py:1135: UndefinedMetricWarning: Precision and F-score are ill-defined and being set to 0.0 in labels with no predicted samples.\n",
      "  'precision', 'predicted', average, warn_for)\n",
      "[Parallel(n_jobs=-1)]: Done  42 tasks      | elapsed:   48.2s\n",
      "[Parallel(n_jobs=-1)]: Done 192 tasks      | elapsed:  3.0min\n",
      "[Parallel(n_jobs=-1)]: Done 300 out of 300 | elapsed:  4.4min finished\n"
     ]
    },
    {
     "name": "stdout",
     "output_type": "stream",
     "text": [
      "Iteration::  29\n",
      "Fitting 3 folds for each of 100 candidates, totalling 300 fits\n"
     ]
    },
    {
     "name": "stderr",
     "output_type": "stream",
     "text": [
      "/anaconda/envs/tensorflow/lib/python3.4/site-packages/sklearn/metrics/classification.py:1135: UndefinedMetricWarning: Precision and F-score are ill-defined and being set to 0.0 in labels with no predicted samples.\n",
      "  'precision', 'predicted', average, warn_for)\n",
      "[Parallel(n_jobs=-1)]: Done  42 tasks      | elapsed:   43.0s\n",
      "[Parallel(n_jobs=-1)]: Done 192 tasks      | elapsed:  3.2min\n",
      "[Parallel(n_jobs=-1)]: Done 300 out of 300 | elapsed:  5.0min finished\n",
      "/anaconda/envs/tensorflow/lib/python3.4/site-packages/sklearn/metrics/classification.py:1135: UndefinedMetricWarning: Precision and F-score are ill-defined and being set to 0.0 in labels with no predicted samples.\n",
      "  'precision', 'predicted', average, warn_for)\n"
     ]
    }
   ],
   "source": [
    "niter = 30\n",
    "results = []\n",
    "train_acc = []\n",
    "test_acc = []\n",
    "train_report =[]\n",
    "class_report = []\n",
    "selected_params = []\n",
    "cm = [] # confusion matrix\n",
    "feature_importance = []\n",
    "col_names = range(1,1211)\n",
    "\n",
    "for i in range(niter):\n",
    "    print(\"Iteration:: \", i)\n",
    "    sss = StratifiedShuffleSplit(n_splits=3, test_size=0.2, random_state=42)\n",
    "    sss.get_n_splits(sig_features, sig_labels)\n",
    "\n",
    "    for train_index, test_index in sss.split(sig_features, sig_labels):\n",
    "        train_x, test_x = sig_features[train_index], sig_features[test_index]\n",
    "        train_y, test_y = sig_labels[train_index], sig_labels[test_index]\n",
    "\n",
    "    rf = RandomForestClassifier()\n",
    "    rf_random = RandomizedSearchCV(estimator=rf, param_distributions=random_grid, \n",
    "                                   n_iter=100, cv=3, verbose=1, n_jobs=-1)\n",
    "\n",
    "    rf_random.fit(train_x, train_y)\n",
    "    predictions = rf_random.predict(test_x)\n",
    "    \n",
    "    selected_params.append(rf_random.best_params_)\n",
    "    train_acc.append(accuracy_score(train_y, rf_random.predict(train_x)))\n",
    "    test_acc.append(accuracy_score(test_y, predictions))\n",
    "    cm.append(confusion_matrix(test_y, predictions, labels=test_y))\n",
    "    class_report.append(classification_report(test_y, predictions, target_names=list(labels_dict.values())))\n",
    "    feature_importance.append(pd.DataFrame(data=sorted(zip(map(lambda x: round(x, 4), \n",
    "                                                               rf_random.best_estimator_.feature_importances_), \n",
    "                                                           col_names), reverse=True)))\n"
   ]
  },
  {
   "cell_type": "markdown",
   "metadata": {
    "collapsed": true
   },
   "source": [
    "## Results"
   ]
  },
  {
   "cell_type": "code",
   "execution_count": 8,
   "metadata": {
    "collapsed": true
   },
   "outputs": [],
   "source": [
    "np.savetxt(\"rawtrainacc.csv\",train_acc,delimiter=\",\")\n",
    "np.savetxt(\"rawtestacc.csv\",test_acc,delimiter=\",\")"
   ]
  },
  {
   "cell_type": "code",
   "execution_count": 9,
   "metadata": {
    "collapsed": true
   },
   "outputs": [],
   "source": [
    "np.savetxt('rawselected_params.txt',selected_params,fmt='%s',delimiter='\\n')\n",
    "np.savetxt(\"rawclassreport.txt\",class_report,fmt='%s',delimiter='\\n')\n",
    "\n",
    "import pickle\n",
    "with open('rawcm.txt', 'wb') as fp:\n",
    "    pickle.dump(cm, fp)\n",
    "with open('rawfeatimportance.txt', 'wb') as fp:\n",
    "    pickle.dump(feature_importance, fp)"
   ]
  },
  {
   "cell_type": "code",
   "execution_count": 11,
   "metadata": {
    "collapsed": false
   },
   "outputs": [
    {
     "data": {
      "application/javascript": [
       "/* Put everything inside the global mpl namespace */\n",
       "window.mpl = {};\n",
       "\n",
       "\n",
       "mpl.get_websocket_type = function() {\n",
       "    if (typeof(WebSocket) !== 'undefined') {\n",
       "        return WebSocket;\n",
       "    } else if (typeof(MozWebSocket) !== 'undefined') {\n",
       "        return MozWebSocket;\n",
       "    } else {\n",
       "        alert('Your browser does not have WebSocket support.' +\n",
       "              'Please try Chrome, Safari or Firefox ≥ 6. ' +\n",
       "              'Firefox 4 and 5 are also supported but you ' +\n",
       "              'have to enable WebSockets in about:config.');\n",
       "    };\n",
       "}\n",
       "\n",
       "mpl.figure = function(figure_id, websocket, ondownload, parent_element) {\n",
       "    this.id = figure_id;\n",
       "\n",
       "    this.ws = websocket;\n",
       "\n",
       "    this.supports_binary = (this.ws.binaryType != undefined);\n",
       "\n",
       "    if (!this.supports_binary) {\n",
       "        var warnings = document.getElementById(\"mpl-warnings\");\n",
       "        if (warnings) {\n",
       "            warnings.style.display = 'block';\n",
       "            warnings.textContent = (\n",
       "                \"This browser does not support binary websocket messages. \" +\n",
       "                    \"Performance may be slow.\");\n",
       "        }\n",
       "    }\n",
       "\n",
       "    this.imageObj = new Image();\n",
       "\n",
       "    this.context = undefined;\n",
       "    this.message = undefined;\n",
       "    this.canvas = undefined;\n",
       "    this.rubberband_canvas = undefined;\n",
       "    this.rubberband_context = undefined;\n",
       "    this.format_dropdown = undefined;\n",
       "\n",
       "    this.image_mode = 'full';\n",
       "\n",
       "    this.root = $('<div/>');\n",
       "    this._root_extra_style(this.root)\n",
       "    this.root.attr('style', 'display: inline-block');\n",
       "\n",
       "    $(parent_element).append(this.root);\n",
       "\n",
       "    this._init_header(this);\n",
       "    this._init_canvas(this);\n",
       "    this._init_toolbar(this);\n",
       "\n",
       "    var fig = this;\n",
       "\n",
       "    this.waiting = false;\n",
       "\n",
       "    this.ws.onopen =  function () {\n",
       "            fig.send_message(\"supports_binary\", {value: fig.supports_binary});\n",
       "            fig.send_message(\"send_image_mode\", {});\n",
       "            if (mpl.ratio != 1) {\n",
       "                fig.send_message(\"set_dpi_ratio\", {'dpi_ratio': mpl.ratio});\n",
       "            }\n",
       "            fig.send_message(\"refresh\", {});\n",
       "        }\n",
       "\n",
       "    this.imageObj.onload = function() {\n",
       "            if (fig.image_mode == 'full') {\n",
       "                // Full images could contain transparency (where diff images\n",
       "                // almost always do), so we need to clear the canvas so that\n",
       "                // there is no ghosting.\n",
       "                fig.context.clearRect(0, 0, fig.canvas.width, fig.canvas.height);\n",
       "            }\n",
       "            fig.context.drawImage(fig.imageObj, 0, 0);\n",
       "        };\n",
       "\n",
       "    this.imageObj.onunload = function() {\n",
       "        fig.ws.close();\n",
       "    }\n",
       "\n",
       "    this.ws.onmessage = this._make_on_message_function(this);\n",
       "\n",
       "    this.ondownload = ondownload;\n",
       "}\n",
       "\n",
       "mpl.figure.prototype._init_header = function() {\n",
       "    var titlebar = $(\n",
       "        '<div class=\"ui-dialog-titlebar ui-widget-header ui-corner-all ' +\n",
       "        'ui-helper-clearfix\"/>');\n",
       "    var titletext = $(\n",
       "        '<div class=\"ui-dialog-title\" style=\"width: 100%; ' +\n",
       "        'text-align: center; padding: 3px;\"/>');\n",
       "    titlebar.append(titletext)\n",
       "    this.root.append(titlebar);\n",
       "    this.header = titletext[0];\n",
       "}\n",
       "\n",
       "\n",
       "\n",
       "mpl.figure.prototype._canvas_extra_style = function(canvas_div) {\n",
       "\n",
       "}\n",
       "\n",
       "\n",
       "mpl.figure.prototype._root_extra_style = function(canvas_div) {\n",
       "\n",
       "}\n",
       "\n",
       "mpl.figure.prototype._init_canvas = function() {\n",
       "    var fig = this;\n",
       "\n",
       "    var canvas_div = $('<div/>');\n",
       "\n",
       "    canvas_div.attr('style', 'position: relative; clear: both; outline: 0');\n",
       "\n",
       "    function canvas_keyboard_event(event) {\n",
       "        return fig.key_event(event, event['data']);\n",
       "    }\n",
       "\n",
       "    canvas_div.keydown('key_press', canvas_keyboard_event);\n",
       "    canvas_div.keyup('key_release', canvas_keyboard_event);\n",
       "    this.canvas_div = canvas_div\n",
       "    this._canvas_extra_style(canvas_div)\n",
       "    this.root.append(canvas_div);\n",
       "\n",
       "    var canvas = $('<canvas/>');\n",
       "    canvas.addClass('mpl-canvas');\n",
       "    canvas.attr('style', \"left: 0; top: 0; z-index: 0; outline: 0\")\n",
       "\n",
       "    this.canvas = canvas[0];\n",
       "    this.context = canvas[0].getContext(\"2d\");\n",
       "\n",
       "    var backingStore = this.context.backingStorePixelRatio ||\n",
       "\tthis.context.webkitBackingStorePixelRatio ||\n",
       "\tthis.context.mozBackingStorePixelRatio ||\n",
       "\tthis.context.msBackingStorePixelRatio ||\n",
       "\tthis.context.oBackingStorePixelRatio ||\n",
       "\tthis.context.backingStorePixelRatio || 1;\n",
       "\n",
       "    mpl.ratio = (window.devicePixelRatio || 1) / backingStore;\n",
       "\n",
       "    var rubberband = $('<canvas/>');\n",
       "    rubberband.attr('style', \"position: absolute; left: 0; top: 0; z-index: 1;\")\n",
       "\n",
       "    var pass_mouse_events = true;\n",
       "\n",
       "    canvas_div.resizable({\n",
       "        start: function(event, ui) {\n",
       "            pass_mouse_events = false;\n",
       "        },\n",
       "        resize: function(event, ui) {\n",
       "            fig.request_resize(ui.size.width, ui.size.height);\n",
       "        },\n",
       "        stop: function(event, ui) {\n",
       "            pass_mouse_events = true;\n",
       "            fig.request_resize(ui.size.width, ui.size.height);\n",
       "        },\n",
       "    });\n",
       "\n",
       "    function mouse_event_fn(event) {\n",
       "        if (pass_mouse_events)\n",
       "            return fig.mouse_event(event, event['data']);\n",
       "    }\n",
       "\n",
       "    rubberband.mousedown('button_press', mouse_event_fn);\n",
       "    rubberband.mouseup('button_release', mouse_event_fn);\n",
       "    // Throttle sequential mouse events to 1 every 20ms.\n",
       "    rubberband.mousemove('motion_notify', mouse_event_fn);\n",
       "\n",
       "    rubberband.mouseenter('figure_enter', mouse_event_fn);\n",
       "    rubberband.mouseleave('figure_leave', mouse_event_fn);\n",
       "\n",
       "    canvas_div.on(\"wheel\", function (event) {\n",
       "        event = event.originalEvent;\n",
       "        event['data'] = 'scroll'\n",
       "        if (event.deltaY < 0) {\n",
       "            event.step = 1;\n",
       "        } else {\n",
       "            event.step = -1;\n",
       "        }\n",
       "        mouse_event_fn(event);\n",
       "    });\n",
       "\n",
       "    canvas_div.append(canvas);\n",
       "    canvas_div.append(rubberband);\n",
       "\n",
       "    this.rubberband = rubberband;\n",
       "    this.rubberband_canvas = rubberband[0];\n",
       "    this.rubberband_context = rubberband[0].getContext(\"2d\");\n",
       "    this.rubberband_context.strokeStyle = \"#000000\";\n",
       "\n",
       "    this._resize_canvas = function(width, height) {\n",
       "        // Keep the size of the canvas, canvas container, and rubber band\n",
       "        // canvas in synch.\n",
       "        canvas_div.css('width', width)\n",
       "        canvas_div.css('height', height)\n",
       "\n",
       "        canvas.attr('width', width * mpl.ratio);\n",
       "        canvas.attr('height', height * mpl.ratio);\n",
       "        canvas.attr('style', 'width: ' + width + 'px; height: ' + height + 'px;');\n",
       "\n",
       "        rubberband.attr('width', width);\n",
       "        rubberband.attr('height', height);\n",
       "    }\n",
       "\n",
       "    // Set the figure to an initial 600x600px, this will subsequently be updated\n",
       "    // upon first draw.\n",
       "    this._resize_canvas(600, 600);\n",
       "\n",
       "    // Disable right mouse context menu.\n",
       "    $(this.rubberband_canvas).bind(\"contextmenu\",function(e){\n",
       "        return false;\n",
       "    });\n",
       "\n",
       "    function set_focus () {\n",
       "        canvas.focus();\n",
       "        canvas_div.focus();\n",
       "    }\n",
       "\n",
       "    window.setTimeout(set_focus, 100);\n",
       "}\n",
       "\n",
       "mpl.figure.prototype._init_toolbar = function() {\n",
       "    var fig = this;\n",
       "\n",
       "    var nav_element = $('<div/>')\n",
       "    nav_element.attr('style', 'width: 100%');\n",
       "    this.root.append(nav_element);\n",
       "\n",
       "    // Define a callback function for later on.\n",
       "    function toolbar_event(event) {\n",
       "        return fig.toolbar_button_onclick(event['data']);\n",
       "    }\n",
       "    function toolbar_mouse_event(event) {\n",
       "        return fig.toolbar_button_onmouseover(event['data']);\n",
       "    }\n",
       "\n",
       "    for(var toolbar_ind in mpl.toolbar_items) {\n",
       "        var name = mpl.toolbar_items[toolbar_ind][0];\n",
       "        var tooltip = mpl.toolbar_items[toolbar_ind][1];\n",
       "        var image = mpl.toolbar_items[toolbar_ind][2];\n",
       "        var method_name = mpl.toolbar_items[toolbar_ind][3];\n",
       "\n",
       "        if (!name) {\n",
       "            // put a spacer in here.\n",
       "            continue;\n",
       "        }\n",
       "        var button = $('<button/>');\n",
       "        button.addClass('ui-button ui-widget ui-state-default ui-corner-all ' +\n",
       "                        'ui-button-icon-only');\n",
       "        button.attr('role', 'button');\n",
       "        button.attr('aria-disabled', 'false');\n",
       "        button.click(method_name, toolbar_event);\n",
       "        button.mouseover(tooltip, toolbar_mouse_event);\n",
       "\n",
       "        var icon_img = $('<span/>');\n",
       "        icon_img.addClass('ui-button-icon-primary ui-icon');\n",
       "        icon_img.addClass(image);\n",
       "        icon_img.addClass('ui-corner-all');\n",
       "\n",
       "        var tooltip_span = $('<span/>');\n",
       "        tooltip_span.addClass('ui-button-text');\n",
       "        tooltip_span.html(tooltip);\n",
       "\n",
       "        button.append(icon_img);\n",
       "        button.append(tooltip_span);\n",
       "\n",
       "        nav_element.append(button);\n",
       "    }\n",
       "\n",
       "    var fmt_picker_span = $('<span/>');\n",
       "\n",
       "    var fmt_picker = $('<select/>');\n",
       "    fmt_picker.addClass('mpl-toolbar-option ui-widget ui-widget-content');\n",
       "    fmt_picker_span.append(fmt_picker);\n",
       "    nav_element.append(fmt_picker_span);\n",
       "    this.format_dropdown = fmt_picker[0];\n",
       "\n",
       "    for (var ind in mpl.extensions) {\n",
       "        var fmt = mpl.extensions[ind];\n",
       "        var option = $(\n",
       "            '<option/>', {selected: fmt === mpl.default_extension}).html(fmt);\n",
       "        fmt_picker.append(option)\n",
       "    }\n",
       "\n",
       "    // Add hover states to the ui-buttons\n",
       "    $( \".ui-button\" ).hover(\n",
       "        function() { $(this).addClass(\"ui-state-hover\");},\n",
       "        function() { $(this).removeClass(\"ui-state-hover\");}\n",
       "    );\n",
       "\n",
       "    var status_bar = $('<span class=\"mpl-message\"/>');\n",
       "    nav_element.append(status_bar);\n",
       "    this.message = status_bar[0];\n",
       "}\n",
       "\n",
       "mpl.figure.prototype.request_resize = function(x_pixels, y_pixels) {\n",
       "    // Request matplotlib to resize the figure. Matplotlib will then trigger a resize in the client,\n",
       "    // which will in turn request a refresh of the image.\n",
       "    this.send_message('resize', {'width': x_pixels, 'height': y_pixels});\n",
       "}\n",
       "\n",
       "mpl.figure.prototype.send_message = function(type, properties) {\n",
       "    properties['type'] = type;\n",
       "    properties['figure_id'] = this.id;\n",
       "    this.ws.send(JSON.stringify(properties));\n",
       "}\n",
       "\n",
       "mpl.figure.prototype.send_draw_message = function() {\n",
       "    if (!this.waiting) {\n",
       "        this.waiting = true;\n",
       "        this.ws.send(JSON.stringify({type: \"draw\", figure_id: this.id}));\n",
       "    }\n",
       "}\n",
       "\n",
       "\n",
       "mpl.figure.prototype.handle_save = function(fig, msg) {\n",
       "    var format_dropdown = fig.format_dropdown;\n",
       "    var format = format_dropdown.options[format_dropdown.selectedIndex].value;\n",
       "    fig.ondownload(fig, format);\n",
       "}\n",
       "\n",
       "\n",
       "mpl.figure.prototype.handle_resize = function(fig, msg) {\n",
       "    var size = msg['size'];\n",
       "    if (size[0] != fig.canvas.width || size[1] != fig.canvas.height) {\n",
       "        fig._resize_canvas(size[0], size[1]);\n",
       "        fig.send_message(\"refresh\", {});\n",
       "    };\n",
       "}\n",
       "\n",
       "mpl.figure.prototype.handle_rubberband = function(fig, msg) {\n",
       "    var x0 = msg['x0'] / mpl.ratio;\n",
       "    var y0 = (fig.canvas.height - msg['y0']) / mpl.ratio;\n",
       "    var x1 = msg['x1'] / mpl.ratio;\n",
       "    var y1 = (fig.canvas.height - msg['y1']) / mpl.ratio;\n",
       "    x0 = Math.floor(x0) + 0.5;\n",
       "    y0 = Math.floor(y0) + 0.5;\n",
       "    x1 = Math.floor(x1) + 0.5;\n",
       "    y1 = Math.floor(y1) + 0.5;\n",
       "    var min_x = Math.min(x0, x1);\n",
       "    var min_y = Math.min(y0, y1);\n",
       "    var width = Math.abs(x1 - x0);\n",
       "    var height = Math.abs(y1 - y0);\n",
       "\n",
       "    fig.rubberband_context.clearRect(\n",
       "        0, 0, fig.canvas.width, fig.canvas.height);\n",
       "\n",
       "    fig.rubberband_context.strokeRect(min_x, min_y, width, height);\n",
       "}\n",
       "\n",
       "mpl.figure.prototype.handle_figure_label = function(fig, msg) {\n",
       "    // Updates the figure title.\n",
       "    fig.header.textContent = msg['label'];\n",
       "}\n",
       "\n",
       "mpl.figure.prototype.handle_cursor = function(fig, msg) {\n",
       "    var cursor = msg['cursor'];\n",
       "    switch(cursor)\n",
       "    {\n",
       "    case 0:\n",
       "        cursor = 'pointer';\n",
       "        break;\n",
       "    case 1:\n",
       "        cursor = 'default';\n",
       "        break;\n",
       "    case 2:\n",
       "        cursor = 'crosshair';\n",
       "        break;\n",
       "    case 3:\n",
       "        cursor = 'move';\n",
       "        break;\n",
       "    }\n",
       "    fig.rubberband_canvas.style.cursor = cursor;\n",
       "}\n",
       "\n",
       "mpl.figure.prototype.handle_message = function(fig, msg) {\n",
       "    fig.message.textContent = msg['message'];\n",
       "}\n",
       "\n",
       "mpl.figure.prototype.handle_draw = function(fig, msg) {\n",
       "    // Request the server to send over a new figure.\n",
       "    fig.send_draw_message();\n",
       "}\n",
       "\n",
       "mpl.figure.prototype.handle_image_mode = function(fig, msg) {\n",
       "    fig.image_mode = msg['mode'];\n",
       "}\n",
       "\n",
       "mpl.figure.prototype.updated_canvas_event = function() {\n",
       "    // Called whenever the canvas gets updated.\n",
       "    this.send_message(\"ack\", {});\n",
       "}\n",
       "\n",
       "// A function to construct a web socket function for onmessage handling.\n",
       "// Called in the figure constructor.\n",
       "mpl.figure.prototype._make_on_message_function = function(fig) {\n",
       "    return function socket_on_message(evt) {\n",
       "        if (evt.data instanceof Blob) {\n",
       "            /* FIXME: We get \"Resource interpreted as Image but\n",
       "             * transferred with MIME type text/plain:\" errors on\n",
       "             * Chrome.  But how to set the MIME type?  It doesn't seem\n",
       "             * to be part of the websocket stream */\n",
       "            evt.data.type = \"image/png\";\n",
       "\n",
       "            /* Free the memory for the previous frames */\n",
       "            if (fig.imageObj.src) {\n",
       "                (window.URL || window.webkitURL).revokeObjectURL(\n",
       "                    fig.imageObj.src);\n",
       "            }\n",
       "\n",
       "            fig.imageObj.src = (window.URL || window.webkitURL).createObjectURL(\n",
       "                evt.data);\n",
       "            fig.updated_canvas_event();\n",
       "            fig.waiting = false;\n",
       "            return;\n",
       "        }\n",
       "        else if (typeof evt.data === 'string' && evt.data.slice(0, 21) == \"data:image/png;base64\") {\n",
       "            fig.imageObj.src = evt.data;\n",
       "            fig.updated_canvas_event();\n",
       "            fig.waiting = false;\n",
       "            return;\n",
       "        }\n",
       "\n",
       "        var msg = JSON.parse(evt.data);\n",
       "        var msg_type = msg['type'];\n",
       "\n",
       "        // Call the  \"handle_{type}\" callback, which takes\n",
       "        // the figure and JSON message as its only arguments.\n",
       "        try {\n",
       "            var callback = fig[\"handle_\" + msg_type];\n",
       "        } catch (e) {\n",
       "            console.log(\"No handler for the '\" + msg_type + \"' message type: \", msg);\n",
       "            return;\n",
       "        }\n",
       "\n",
       "        if (callback) {\n",
       "            try {\n",
       "                // console.log(\"Handling '\" + msg_type + \"' message: \", msg);\n",
       "                callback(fig, msg);\n",
       "            } catch (e) {\n",
       "                console.log(\"Exception inside the 'handler_\" + msg_type + \"' callback:\", e, e.stack, msg);\n",
       "            }\n",
       "        }\n",
       "    };\n",
       "}\n",
       "\n",
       "// from http://stackoverflow.com/questions/1114465/getting-mouse-location-in-canvas\n",
       "mpl.findpos = function(e) {\n",
       "    //this section is from http://www.quirksmode.org/js/events_properties.html\n",
       "    var targ;\n",
       "    if (!e)\n",
       "        e = window.event;\n",
       "    if (e.target)\n",
       "        targ = e.target;\n",
       "    else if (e.srcElement)\n",
       "        targ = e.srcElement;\n",
       "    if (targ.nodeType == 3) // defeat Safari bug\n",
       "        targ = targ.parentNode;\n",
       "\n",
       "    // jQuery normalizes the pageX and pageY\n",
       "    // pageX,Y are the mouse positions relative to the document\n",
       "    // offset() returns the position of the element relative to the document\n",
       "    var x = e.pageX - $(targ).offset().left;\n",
       "    var y = e.pageY - $(targ).offset().top;\n",
       "\n",
       "    return {\"x\": x, \"y\": y};\n",
       "};\n",
       "\n",
       "/*\n",
       " * return a copy of an object with only non-object keys\n",
       " * we need this to avoid circular references\n",
       " * http://stackoverflow.com/a/24161582/3208463\n",
       " */\n",
       "function simpleKeys (original) {\n",
       "  return Object.keys(original).reduce(function (obj, key) {\n",
       "    if (typeof original[key] !== 'object')\n",
       "        obj[key] = original[key]\n",
       "    return obj;\n",
       "  }, {});\n",
       "}\n",
       "\n",
       "mpl.figure.prototype.mouse_event = function(event, name) {\n",
       "    var canvas_pos = mpl.findpos(event)\n",
       "\n",
       "    if (name === 'button_press')\n",
       "    {\n",
       "        this.canvas.focus();\n",
       "        this.canvas_div.focus();\n",
       "    }\n",
       "\n",
       "    var x = canvas_pos.x * mpl.ratio;\n",
       "    var y = canvas_pos.y * mpl.ratio;\n",
       "\n",
       "    this.send_message(name, {x: x, y: y, button: event.button,\n",
       "                             step: event.step,\n",
       "                             guiEvent: simpleKeys(event)});\n",
       "\n",
       "    /* This prevents the web browser from automatically changing to\n",
       "     * the text insertion cursor when the button is pressed.  We want\n",
       "     * to control all of the cursor setting manually through the\n",
       "     * 'cursor' event from matplotlib */\n",
       "    event.preventDefault();\n",
       "    return false;\n",
       "}\n",
       "\n",
       "mpl.figure.prototype._key_event_extra = function(event, name) {\n",
       "    // Handle any extra behaviour associated with a key event\n",
       "}\n",
       "\n",
       "mpl.figure.prototype.key_event = function(event, name) {\n",
       "\n",
       "    // Prevent repeat events\n",
       "    if (name == 'key_press')\n",
       "    {\n",
       "        if (event.which === this._key)\n",
       "            return;\n",
       "        else\n",
       "            this._key = event.which;\n",
       "    }\n",
       "    if (name == 'key_release')\n",
       "        this._key = null;\n",
       "\n",
       "    var value = '';\n",
       "    if (event.ctrlKey && event.which != 17)\n",
       "        value += \"ctrl+\";\n",
       "    if (event.altKey && event.which != 18)\n",
       "        value += \"alt+\";\n",
       "    if (event.shiftKey && event.which != 16)\n",
       "        value += \"shift+\";\n",
       "\n",
       "    value += 'k';\n",
       "    value += event.which.toString();\n",
       "\n",
       "    this._key_event_extra(event, name);\n",
       "\n",
       "    this.send_message(name, {key: value,\n",
       "                             guiEvent: simpleKeys(event)});\n",
       "    return false;\n",
       "}\n",
       "\n",
       "mpl.figure.prototype.toolbar_button_onclick = function(name) {\n",
       "    if (name == 'download') {\n",
       "        this.handle_save(this, null);\n",
       "    } else {\n",
       "        this.send_message(\"toolbar_button\", {name: name});\n",
       "    }\n",
       "};\n",
       "\n",
       "mpl.figure.prototype.toolbar_button_onmouseover = function(tooltip) {\n",
       "    this.message.textContent = tooltip;\n",
       "};\n",
       "mpl.toolbar_items = [[\"Home\", \"Reset original view\", \"fa fa-home icon-home\", \"home\"], [\"Back\", \"Back to  previous view\", \"fa fa-arrow-left icon-arrow-left\", \"back\"], [\"Forward\", \"Forward to next view\", \"fa fa-arrow-right icon-arrow-right\", \"forward\"], [\"\", \"\", \"\", \"\"], [\"Pan\", \"Pan axes with left mouse, zoom with right\", \"fa fa-arrows icon-move\", \"pan\"], [\"Zoom\", \"Zoom to rectangle\", \"fa fa-square-o icon-check-empty\", \"zoom\"], [\"\", \"\", \"\", \"\"], [\"Download\", \"Download plot\", \"fa fa-floppy-o icon-save\", \"download\"]];\n",
       "\n",
       "mpl.extensions = [\"eps\", \"pdf\", \"png\", \"ps\", \"raw\", \"svg\"];\n",
       "\n",
       "mpl.default_extension = \"png\";var comm_websocket_adapter = function(comm) {\n",
       "    // Create a \"websocket\"-like object which calls the given IPython comm\n",
       "    // object with the appropriate methods. Currently this is a non binary\n",
       "    // socket, so there is still some room for performance tuning.\n",
       "    var ws = {};\n",
       "\n",
       "    ws.close = function() {\n",
       "        comm.close()\n",
       "    };\n",
       "    ws.send = function(m) {\n",
       "        //console.log('sending', m);\n",
       "        comm.send(m);\n",
       "    };\n",
       "    // Register the callback with on_msg.\n",
       "    comm.on_msg(function(msg) {\n",
       "        //console.log('receiving', msg['content']['data'], msg);\n",
       "        // Pass the mpl event to the overridden (by mpl) onmessage function.\n",
       "        ws.onmessage(msg['content']['data'])\n",
       "    });\n",
       "    return ws;\n",
       "}\n",
       "\n",
       "mpl.mpl_figure_comm = function(comm, msg) {\n",
       "    // This is the function which gets called when the mpl process\n",
       "    // starts-up an IPython Comm through the \"matplotlib\" channel.\n",
       "\n",
       "    var id = msg.content.data.id;\n",
       "    // Get hold of the div created by the display call when the Comm\n",
       "    // socket was opened in Python.\n",
       "    var element = $(\"#\" + id);\n",
       "    var ws_proxy = comm_websocket_adapter(comm)\n",
       "\n",
       "    function ondownload(figure, format) {\n",
       "        window.open(figure.imageObj.src);\n",
       "    }\n",
       "\n",
       "    var fig = new mpl.figure(id, ws_proxy,\n",
       "                           ondownload,\n",
       "                           element.get(0));\n",
       "\n",
       "    // Call onopen now - mpl needs it, as it is assuming we've passed it a real\n",
       "    // web socket which is closed, not our websocket->open comm proxy.\n",
       "    ws_proxy.onopen();\n",
       "\n",
       "    fig.parent_element = element.get(0);\n",
       "    fig.cell_info = mpl.find_output_cell(\"<div id='\" + id + \"'></div>\");\n",
       "    if (!fig.cell_info) {\n",
       "        console.error(\"Failed to find cell for figure\", id, fig);\n",
       "        return;\n",
       "    }\n",
       "\n",
       "    var output_index = fig.cell_info[2]\n",
       "    var cell = fig.cell_info[0];\n",
       "\n",
       "};\n",
       "\n",
       "mpl.figure.prototype.handle_close = function(fig, msg) {\n",
       "    var width = fig.canvas.width/mpl.ratio\n",
       "    fig.root.unbind('remove')\n",
       "\n",
       "    // Update the output cell to use the data from the current canvas.\n",
       "    fig.push_to_output();\n",
       "    var dataURL = fig.canvas.toDataURL();\n",
       "    // Re-enable the keyboard manager in IPython - without this line, in FF,\n",
       "    // the notebook keyboard shortcuts fail.\n",
       "    IPython.keyboard_manager.enable()\n",
       "    $(fig.parent_element).html('<img src=\"' + dataURL + '\" width=\"' + width + '\">');\n",
       "    fig.close_ws(fig, msg);\n",
       "}\n",
       "\n",
       "mpl.figure.prototype.close_ws = function(fig, msg){\n",
       "    fig.send_message('closing', msg);\n",
       "    // fig.ws.close()\n",
       "}\n",
       "\n",
       "mpl.figure.prototype.push_to_output = function(remove_interactive) {\n",
       "    // Turn the data on the canvas into data in the output cell.\n",
       "    var width = this.canvas.width/mpl.ratio\n",
       "    var dataURL = this.canvas.toDataURL();\n",
       "    this.cell_info[1]['text/html'] = '<img src=\"' + dataURL + '\" width=\"' + width + '\">';\n",
       "}\n",
       "\n",
       "mpl.figure.prototype.updated_canvas_event = function() {\n",
       "    // Tell IPython that the notebook contents must change.\n",
       "    IPython.notebook.set_dirty(true);\n",
       "    this.send_message(\"ack\", {});\n",
       "    var fig = this;\n",
       "    // Wait a second, then push the new image to the DOM so\n",
       "    // that it is saved nicely (might be nice to debounce this).\n",
       "    setTimeout(function () { fig.push_to_output() }, 1000);\n",
       "}\n",
       "\n",
       "mpl.figure.prototype._init_toolbar = function() {\n",
       "    var fig = this;\n",
       "\n",
       "    var nav_element = $('<div/>')\n",
       "    nav_element.attr('style', 'width: 100%');\n",
       "    this.root.append(nav_element);\n",
       "\n",
       "    // Define a callback function for later on.\n",
       "    function toolbar_event(event) {\n",
       "        return fig.toolbar_button_onclick(event['data']);\n",
       "    }\n",
       "    function toolbar_mouse_event(event) {\n",
       "        return fig.toolbar_button_onmouseover(event['data']);\n",
       "    }\n",
       "\n",
       "    for(var toolbar_ind in mpl.toolbar_items){\n",
       "        var name = mpl.toolbar_items[toolbar_ind][0];\n",
       "        var tooltip = mpl.toolbar_items[toolbar_ind][1];\n",
       "        var image = mpl.toolbar_items[toolbar_ind][2];\n",
       "        var method_name = mpl.toolbar_items[toolbar_ind][3];\n",
       "\n",
       "        if (!name) { continue; };\n",
       "\n",
       "        var button = $('<button class=\"btn btn-default\" href=\"#\" title=\"' + name + '\"><i class=\"fa ' + image + ' fa-lg\"></i></button>');\n",
       "        button.click(method_name, toolbar_event);\n",
       "        button.mouseover(tooltip, toolbar_mouse_event);\n",
       "        nav_element.append(button);\n",
       "    }\n",
       "\n",
       "    // Add the status bar.\n",
       "    var status_bar = $('<span class=\"mpl-message\" style=\"text-align:right; float: right;\"/>');\n",
       "    nav_element.append(status_bar);\n",
       "    this.message = status_bar[0];\n",
       "\n",
       "    // Add the close button to the window.\n",
       "    var buttongrp = $('<div class=\"btn-group inline pull-right\"></div>');\n",
       "    var button = $('<button class=\"btn btn-mini btn-primary\" href=\"#\" title=\"Stop Interaction\"><i class=\"fa fa-power-off icon-remove icon-large\"></i></button>');\n",
       "    button.click(function (evt) { fig.handle_close(fig, {}); } );\n",
       "    button.mouseover('Stop Interaction', toolbar_mouse_event);\n",
       "    buttongrp.append(button);\n",
       "    var titlebar = this.root.find($('.ui-dialog-titlebar'));\n",
       "    titlebar.prepend(buttongrp);\n",
       "}\n",
       "\n",
       "mpl.figure.prototype._root_extra_style = function(el){\n",
       "    var fig = this\n",
       "    el.on(\"remove\", function(){\n",
       "\tfig.close_ws(fig, {});\n",
       "    });\n",
       "}\n",
       "\n",
       "mpl.figure.prototype._canvas_extra_style = function(el){\n",
       "    // this is important to make the div 'focusable\n",
       "    el.attr('tabindex', 0)\n",
       "    // reach out to IPython and tell the keyboard manager to turn it's self\n",
       "    // off when our div gets focus\n",
       "\n",
       "    // location in version 3\n",
       "    if (IPython.notebook.keyboard_manager) {\n",
       "        IPython.notebook.keyboard_manager.register_events(el);\n",
       "    }\n",
       "    else {\n",
       "        // location in version 2\n",
       "        IPython.keyboard_manager.register_events(el);\n",
       "    }\n",
       "\n",
       "}\n",
       "\n",
       "mpl.figure.prototype._key_event_extra = function(event, name) {\n",
       "    var manager = IPython.notebook.keyboard_manager;\n",
       "    if (!manager)\n",
       "        manager = IPython.keyboard_manager;\n",
       "\n",
       "    // Check for shift+enter\n",
       "    if (event.shiftKey && event.which == 13) {\n",
       "        this.canvas_div.blur();\n",
       "        event.shiftKey = false;\n",
       "        // Send a \"J\" for go to next cell\n",
       "        event.which = 74;\n",
       "        event.keyCode = 74;\n",
       "        manager.command_mode();\n",
       "        manager.handle_keydown(event);\n",
       "    }\n",
       "}\n",
       "\n",
       "mpl.figure.prototype.handle_save = function(fig, msg) {\n",
       "    fig.ondownload(fig, null);\n",
       "}\n",
       "\n",
       "\n",
       "mpl.find_output_cell = function(html_output) {\n",
       "    // Return the cell and output element which can be found *uniquely* in the notebook.\n",
       "    // Note - this is a bit hacky, but it is done because the \"notebook_saving.Notebook\"\n",
       "    // IPython event is triggered only after the cells have been serialised, which for\n",
       "    // our purposes (turning an active figure into a static one), is too late.\n",
       "    var cells = IPython.notebook.get_cells();\n",
       "    var ncells = cells.length;\n",
       "    for (var i=0; i<ncells; i++) {\n",
       "        var cell = cells[i];\n",
       "        if (cell.cell_type === 'code'){\n",
       "            for (var j=0; j<cell.output_area.outputs.length; j++) {\n",
       "                var data = cell.output_area.outputs[j];\n",
       "                if (data.data) {\n",
       "                    // IPython >= 3 moved mimebundle to data attribute of output\n",
       "                    data = data.data;\n",
       "                }\n",
       "                if (data['text/html'] == html_output) {\n",
       "                    return [cell, data, j];\n",
       "                }\n",
       "            }\n",
       "        }\n",
       "    }\n",
       "}\n",
       "\n",
       "// Register the function which deals with the matplotlib target/channel.\n",
       "// The kernel may be null if the page has been refreshed.\n",
       "if (IPython.notebook.kernel != null) {\n",
       "    IPython.notebook.kernel.comm_manager.register_target('matplotlib', mpl.mpl_figure_comm);\n",
       "}\n"
      ],
      "text/plain": [
       "<IPython.core.display.Javascript object>"
      ]
     },
     "metadata": {},
     "output_type": "display_data"
    },
    {
     "data": {
      "text/html": [
       "<img src=\"data:image/png;base64,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\" width=\"640\">"
      ],
      "text/plain": [
       "<IPython.core.display.HTML object>"
      ]
     },
     "metadata": {},
     "output_type": "display_data"
    }
   ],
   "source": [
    "import pandas as pd\n",
    "import numpy as np\n",
    "import matplotlib.pyplot as plt\n",
    "%matplotlib notebook\n",
    "acc = np.transpose([train_acc, test_acc])\n",
    "acc = pd.DataFrame(data=acc, columns=['train_acc', 'test_acc'])\n",
    "boxplot = acc.boxplot(column=['train_acc', 'test_acc'])\n",
    "plt.show()"
   ]
  },
  {
   "cell_type": "code",
   "execution_count": 12,
   "metadata": {
    "collapsed": false
   },
   "outputs": [
    {
     "data": {
      "text/html": [
       "<div>\n",
       "<style scoped>\n",
       "    .dataframe tbody tr th:only-of-type {\n",
       "        vertical-align: middle;\n",
       "    }\n",
       "\n",
       "    .dataframe tbody tr th {\n",
       "        vertical-align: top;\n",
       "    }\n",
       "\n",
       "    .dataframe thead th {\n",
       "        text-align: right;\n",
       "    }\n",
       "</style>\n",
       "<table border=\"1\" class=\"dataframe\">\n",
       "  <thead>\n",
       "    <tr style=\"text-align: right;\">\n",
       "      <th></th>\n",
       "      <th>train_acc</th>\n",
       "      <th>test_acc</th>\n",
       "    </tr>\n",
       "  </thead>\n",
       "  <tbody>\n",
       "    <tr>\n",
       "      <th>count</th>\n",
       "      <td>30.000000</td>\n",
       "      <td>30.000000</td>\n",
       "    </tr>\n",
       "    <tr>\n",
       "      <th>mean</th>\n",
       "      <td>0.996250</td>\n",
       "      <td>0.666667</td>\n",
       "    </tr>\n",
       "    <tr>\n",
       "      <th>std</th>\n",
       "      <td>0.006687</td>\n",
       "      <td>0.023973</td>\n",
       "    </tr>\n",
       "    <tr>\n",
       "      <th>min</th>\n",
       "      <td>0.975000</td>\n",
       "      <td>0.650000</td>\n",
       "    </tr>\n",
       "    <tr>\n",
       "      <th>25%</th>\n",
       "      <td>0.990625</td>\n",
       "      <td>0.650000</td>\n",
       "    </tr>\n",
       "    <tr>\n",
       "      <th>50%</th>\n",
       "      <td>1.000000</td>\n",
       "      <td>0.650000</td>\n",
       "    </tr>\n",
       "    <tr>\n",
       "      <th>75%</th>\n",
       "      <td>1.000000</td>\n",
       "      <td>0.700000</td>\n",
       "    </tr>\n",
       "    <tr>\n",
       "      <th>max</th>\n",
       "      <td>1.000000</td>\n",
       "      <td>0.700000</td>\n",
       "    </tr>\n",
       "  </tbody>\n",
       "</table>\n",
       "</div>"
      ],
      "text/plain": [
       "       train_acc   test_acc\n",
       "count  30.000000  30.000000\n",
       "mean    0.996250   0.666667\n",
       "std     0.006687   0.023973\n",
       "min     0.975000   0.650000\n",
       "25%     0.990625   0.650000\n",
       "50%     1.000000   0.650000\n",
       "75%     1.000000   0.700000\n",
       "max     1.000000   0.700000"
      ]
     },
     "execution_count": 12,
     "metadata": {},
     "output_type": "execute_result"
    }
   ],
   "source": [
    "acc.describe()"
   ]
  },
  {
   "cell_type": "markdown",
   "metadata": {},
   "source": [
    "# References"
   ]
  },
  {
   "cell_type": "markdown",
   "metadata": {},
   "source": [
    "<div class=\"cite2c-biblio\"></div>"
   ]
  }
 ],
 "metadata": {
  "cite2c": {
   "citations": {
    "6013574/QDJUJ23A": {
     "URL": "http://urlib.net/8JMKD3MGPAW/3MDH39S",
     "author": [
      {
       "family": "Rezende",
       "given": "Tamires"
      },
      {
       "family": "Castro",
       "given": "Cristiano"
      },
      {
       "family": "Almeida",
       "given": "Sílvia"
      }
     ],
     "container-title": "CONFERENCE ON GRAPHICS, PATTERNS AND IMAGES (SIBGRAPI)",
     "issued": {
      "date-parts": [
       [
        2016
       ]
      ]
     },
     "title": "An approach for Brazilian Sign Language (BSL) recognition based on facial expression and k-NN classifier",
     "type": "article-journal",
     "volume": "29"
    },
    "6013574/XD5B9TZQ": {
     "URL": "https://www.ppgee.ufmg.br/defesas/1393M.PDF",
     "author": [
      {
       "family": "Rezende",
       "given": "Tamires"
      }
     ],
     "genre": "Master Thesis",
     "id": "6013574/XD5B9TZQ",
     "issued": {
      "year": 2016
     },
     "language": "Portuguese",
     "publisher": "UFMG",
     "title": "Aplicação de Técnicas de Inteligência Computacional para Análise da Expressão Facial em Reconhecimento de Sinais de Libras",
     "type": "thesis"
    }
   }
  },
  "kernelspec": {
   "display_name": "Python 3",
   "language": "python",
   "name": "python3"
  },
  "language_info": {
   "codemirror_mode": {
    "name": "ipython",
    "version": 3
   },
   "file_extension": ".py",
   "mimetype": "text/x-python",
   "name": "python",
   "nbconvert_exporter": "python",
   "pygments_lexer": "ipython3",
   "version": "3.4.5"
  }
 },
 "nbformat": 4,
 "nbformat_minor": 2
}
