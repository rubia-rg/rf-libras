{
 "cells": [
  {
   "cell_type": "markdown",
   "metadata": {},
   "source": [
    "# Classification: Distances"
   ]
  },
  {
   "cell_type": "markdown",
   "metadata": {},
   "source": [
    "Exploring euclidean distances between facial points caputred by nuiCapture as candidate features.\n",
    "<p>\n",
    "    <img src=\"nuicapture.png\">\n",
    "    <em>Source: CadavidConcepts</em>\n",
    "</p>"
   ]
  },
  {
   "cell_type": "code",
   "execution_count": 1,
   "metadata": {},
   "outputs": [],
   "source": [
    "import glob as gl\n",
    "import numpy as np\n",
    "from scipy.io import loadmat\n",
    "from typing import List\n",
    "import pandas as pd\n",
    "from scipy.spatial import distance\n",
    "import matplotlib.pyplot as plt\n",
    "%matplotlib notebook"
   ]
  },
  {
   "cell_type": "code",
   "execution_count": 2,
   "metadata": {},
   "outputs": [],
   "source": [
    "def labelname(file_name):  # Extract labels from filenames \n",
    "    label = file_name.replace(\"data/fundamental/sample\", \"\").lower()\n",
    "    label = label.replace(\".mat\", \"\").lower()\n",
    "    label = label.split('-', 1)[-1]\n",
    "    return label\n",
    "\n",
    "\n",
    "class Signal:  # Signal representation containing x and y coordinates and corresponding label\n",
    "    def __init__(self, x, y, label):\n",
    "        self.x = x\n",
    "        self.y = y\n",
    "        self.label = label"
   ]
  },
  {
   "cell_type": "markdown",
   "metadata": {},
   "source": [
    "## Dataset preparation"
   ]
  },
  {
   "cell_type": "code",
   "execution_count": 3,
   "metadata": {},
   "outputs": [],
   "source": [
    "files = gl.glob(\"data/fundamental/*.mat\")  # type: list\n",
    "signals = []  # type: List[Signal]\n",
    "\n",
    "for f in files:\n",
    "    data = loadmat(f).get('pontosSinal')\n",
    "    signals.append(Signal(data[:, ::2], data[:, 1::2], labelname(f)))\n",
    "\n",
    "nsigns = len(signals)\n",
    "nrecs, nx = np.shape(signals[0].x)  # Number of recordings and number of features\n",
    "nframes = 5\n",
    "\n",
    "signals_feat = []  # Updated signals, according to each experiment\n",
    "signals_labels = []\n",
    "labels_dict = {'angry': 1, 'disgusted': 2, 'fearful': 3, 'happy': 4, 'sad': 5, 'surprised': 6, \n",
    "               'neutral': 7, 'suckedcheeks': 8, 'inflatedcheeks': 9}  # Dictionary of signals' labels, for reference\n",
    "\n",
    "points = [3,  6,  8,  9, 11, 16, 17, 20, 25, 32, 49, 50, 53, 58, 65, 91, 92]\n",
    "points = np.array(points)\n",
    "npoints = np.shape(points)[0]\n",
    "\n",
    "frame_x = []\n",
    "frame_y = []\n",
    "\n",
    "for s in signals:\n",
    "    frame_x.append(np.split(s.x, 5, axis=1))\n",
    "    frame_y.append(np.split(s.y, 5, axis=1))\n",
    "    signals_labels.append([labels_dict[s.label]] * nrecs)\n",
    "\n",
    "frame_x = np.array(frame_x)\n",
    "frame_y = np.array(frame_y)\n",
    "new_frame_x = []\n",
    "new_frame_y = []\n",
    "\n",
    "for s in range(nsigns):\n",
    "    new_frame_x.append(np.transpose(frame_x[s,:,:,points]))\n",
    "    new_frame_y.append(np.transpose(frame_y[s,:,:,points]))\n",
    "\n",
    "sig_features = np.empty((nrecs*nsigns, nframes*npoints*2))\n",
    "sig_features[:,::2] = (np.vstack(new_frame_x)).reshape(nrecs*nsigns,npoints*5)\n",
    "sig_features[:,1::2] = (np.vstack(new_frame_y)).reshape(nrecs*nsigns,npoints*5)\n",
    "\n",
    "sig_labels = np.reshape(signals_labels, (nsigns * nrecs,))\n",
    "\n",
    "np.savetxt(\"data/csv/distances-labels.csv\",sig_labels,fmt='%i',delimiter=\",\")\n",
    "np.savetxt(\"data/csv/distances.csv\",sig_features,delimiter=\",\")"
   ]
  },
  {
   "cell_type": "markdown",
   "metadata": {},
   "source": [
    "## Classification"
   ]
  },
  {
   "cell_type": "code",
   "execution_count": 4,
   "metadata": {},
   "outputs": [],
   "source": [
    "from sklearn.model_selection import StratifiedShuffleSplit\n",
    "from sklearn.ensemble import RandomForestClassifier\n",
    "from sklearn.metrics import accuracy_score\n",
    "from sklearn.metrics import confusion_matrix\n",
    "from sklearn.model_selection import RandomizedSearchCV\n",
    "from sklearn.metrics import classification_report\n",
    "from pprint import pprint"
   ]
  },
  {
   "cell_type": "code",
   "execution_count": 5,
   "metadata": {},
   "outputs": [],
   "source": [
    "# Number of trees in random forest\n",
    "n_estimators = [int(x) for x in np.linspace(start=800, stop=2000, num=10)]\n",
    "# Number of features to consider at every split\n",
    "max_features = ['log2', 'sqrt', 0.3]\n",
    "# Maximum number of levels in tree\n",
    "max_depth = [int(x) for x in np.linspace(10, 80, num=10)]\n",
    "max_depth.append(None)\n",
    "# Minimum number of samples required to split a node\n",
    "min_samples_split = [3, 5, 7]\n",
    "# Minimum number of samples required at each leaf node\n",
    "min_samples_leaf = [2, 3, 4]\n",
    "# Method of selecting samples for training each tree\n",
    "bootstrap = [True, False]\n",
    "# Criterion\n",
    "criterion = ['gini', 'entropy']\n",
    "# Create the random grid\n",
    "random_grid = {'n_estimators': n_estimators,\n",
    "               'max_features': max_features,\n",
    "               'max_depth': max_depth,\n",
    "               'min_samples_split': min_samples_split,\n",
    "               'min_samples_leaf': min_samples_leaf,\n",
    "               'bootstrap': bootstrap,\n",
    "               'criterion': criterion\n",
    "              }"
   ]
  },
  {
   "cell_type": "code",
   "execution_count": 6,
   "metadata": {},
   "outputs": [
    {
     "name": "stdout",
     "output_type": "stream",
     "text": [
      "Iteration::  0\n",
      "Fitting 3 folds for each of 500 candidates, totalling 1500 fits\n"
     ]
    },
    {
     "name": "stderr",
     "output_type": "stream",
     "text": [
      "[Parallel(n_jobs=-1)]: Done  42 tasks      | elapsed:   21.3s\n",
      "[Parallel(n_jobs=-1)]: Done 192 tasks      | elapsed:  2.7min\n",
      "[Parallel(n_jobs=-1)]: Done 442 tasks      | elapsed:  7.1min\n",
      "[Parallel(n_jobs=-1)]: Done 792 tasks      | elapsed: 12.7min\n",
      "[Parallel(n_jobs=-1)]: Done 1242 tasks      | elapsed: 20.5min\n",
      "[Parallel(n_jobs=-1)]: Done 1500 out of 1500 | elapsed: 25.3min finished\n",
      "C:\\Users\\rubiarg\\Anaconda3\\envs\\tensorflow\\lib\\site-packages\\sklearn\\metrics\\classification.py:1428: UserWarning: labels size, 6, does not match size of target_names, 9\n",
      "  .format(len(labels), len(target_names))\n"
     ]
    },
    {
     "name": "stdout",
     "output_type": "stream",
     "text": [
      "Iteration::  1\n",
      "Fitting 3 folds for each of 500 candidates, totalling 1500 fits\n"
     ]
    },
    {
     "name": "stderr",
     "output_type": "stream",
     "text": [
      "[Parallel(n_jobs=-1)]: Done  42 tasks      | elapsed:   46.4s\n",
      "[Parallel(n_jobs=-1)]: Done 192 tasks      | elapsed:  3.5min\n",
      "[Parallel(n_jobs=-1)]: Done 442 tasks      | elapsed:  7.7min\n",
      "[Parallel(n_jobs=-1)]: Done 792 tasks      | elapsed: 13.8min\n",
      "[Parallel(n_jobs=-1)]: Done 1242 tasks      | elapsed: 21.4min\n",
      "[Parallel(n_jobs=-1)]: Done 1500 out of 1500 | elapsed: 25.5min finished\n",
      "C:\\Users\\rubiarg\\Anaconda3\\envs\\tensorflow\\lib\\site-packages\\sklearn\\metrics\\classification.py:1428: UserWarning: labels size, 6, does not match size of target_names, 9\n",
      "  .format(len(labels), len(target_names))\n"
     ]
    },
    {
     "name": "stdout",
     "output_type": "stream",
     "text": [
      "Iteration::  2\n",
      "Fitting 3 folds for each of 500 candidates, totalling 1500 fits\n"
     ]
    },
    {
     "name": "stderr",
     "output_type": "stream",
     "text": [
      "[Parallel(n_jobs=-1)]: Done  42 tasks      | elapsed:   52.4s\n",
      "[Parallel(n_jobs=-1)]: Done 192 tasks      | elapsed:  3.7min\n",
      "[Parallel(n_jobs=-1)]: Done 442 tasks      | elapsed:  7.6min\n",
      "[Parallel(n_jobs=-1)]: Done 792 tasks      | elapsed: 13.5min\n",
      "[Parallel(n_jobs=-1)]: Done 1242 tasks      | elapsed: 21.0min\n",
      "[Parallel(n_jobs=-1)]: Done 1500 out of 1500 | elapsed: 25.4min finished\n",
      "C:\\Users\\rubiarg\\Anaconda3\\envs\\tensorflow\\lib\\site-packages\\sklearn\\metrics\\classification.py:1428: UserWarning: labels size, 6, does not match size of target_names, 9\n",
      "  .format(len(labels), len(target_names))\n"
     ]
    },
    {
     "name": "stdout",
     "output_type": "stream",
     "text": [
      "Iteration::  3\n",
      "Fitting 3 folds for each of 500 candidates, totalling 1500 fits\n"
     ]
    },
    {
     "name": "stderr",
     "output_type": "stream",
     "text": [
      "[Parallel(n_jobs=-1)]: Done  42 tasks      | elapsed:   49.2s\n",
      "[Parallel(n_jobs=-1)]: Done 192 tasks      | elapsed:  3.6min\n",
      "[Parallel(n_jobs=-1)]: Done 442 tasks      | elapsed:  7.8min\n",
      "[Parallel(n_jobs=-1)]: Done 792 tasks      | elapsed: 13.5min\n",
      "[Parallel(n_jobs=-1)]: Done 1242 tasks      | elapsed: 21.3min\n",
      "[Parallel(n_jobs=-1)]: Done 1500 out of 1500 | elapsed: 25.5min finished\n",
      "C:\\Users\\rubiarg\\Anaconda3\\envs\\tensorflow\\lib\\site-packages\\sklearn\\metrics\\classification.py:1428: UserWarning: labels size, 6, does not match size of target_names, 9\n",
      "  .format(len(labels), len(target_names))\n"
     ]
    },
    {
     "name": "stdout",
     "output_type": "stream",
     "text": [
      "Iteration::  4\n",
      "Fitting 3 folds for each of 500 candidates, totalling 1500 fits\n"
     ]
    },
    {
     "name": "stderr",
     "output_type": "stream",
     "text": [
      "[Parallel(n_jobs=-1)]: Done  42 tasks      | elapsed:   51.0s\n",
      "[Parallel(n_jobs=-1)]: Done 192 tasks      | elapsed:  3.6min\n",
      "[Parallel(n_jobs=-1)]: Done 442 tasks      | elapsed:  7.7min\n",
      "[Parallel(n_jobs=-1)]: Done 792 tasks      | elapsed: 14.1min\n",
      "[Parallel(n_jobs=-1)]: Done 1242 tasks      | elapsed: 21.4min\n",
      "[Parallel(n_jobs=-1)]: Done 1500 out of 1500 | elapsed: 25.6min finished\n",
      "C:\\Users\\rubiarg\\Anaconda3\\envs\\tensorflow\\lib\\site-packages\\sklearn\\metrics\\classification.py:1428: UserWarning: labels size, 6, does not match size of target_names, 9\n",
      "  .format(len(labels), len(target_names))\n"
     ]
    },
    {
     "name": "stdout",
     "output_type": "stream",
     "text": [
      "Iteration::  5\n",
      "Fitting 3 folds for each of 500 candidates, totalling 1500 fits\n"
     ]
    },
    {
     "name": "stderr",
     "output_type": "stream",
     "text": [
      "[Parallel(n_jobs=-1)]: Done  42 tasks      | elapsed:   40.2s\n",
      "[Parallel(n_jobs=-1)]: Done 192 tasks      | elapsed:  3.2min\n",
      "[Parallel(n_jobs=-1)]: Done 442 tasks      | elapsed:  7.5min\n",
      "[Parallel(n_jobs=-1)]: Done 792 tasks      | elapsed: 13.5min\n",
      "[Parallel(n_jobs=-1)]: Done 1242 tasks      | elapsed: 21.1min\n",
      "[Parallel(n_jobs=-1)]: Done 1500 out of 1500 | elapsed: 25.4min finished\n",
      "C:\\Users\\rubiarg\\Anaconda3\\envs\\tensorflow\\lib\\site-packages\\sklearn\\metrics\\classification.py:1428: UserWarning: labels size, 6, does not match size of target_names, 9\n",
      "  .format(len(labels), len(target_names))\n"
     ]
    },
    {
     "name": "stdout",
     "output_type": "stream",
     "text": [
      "Iteration::  6\n",
      "Fitting 3 folds for each of 500 candidates, totalling 1500 fits\n"
     ]
    },
    {
     "name": "stderr",
     "output_type": "stream",
     "text": [
      "[Parallel(n_jobs=-1)]: Done  42 tasks      | elapsed:   50.5s\n",
      "[Parallel(n_jobs=-1)]: Done 192 tasks      | elapsed:  3.5min\n",
      "[Parallel(n_jobs=-1)]: Done 442 tasks      | elapsed:  7.6min\n",
      "[Parallel(n_jobs=-1)]: Done 792 tasks      | elapsed: 13.5min\n",
      "[Parallel(n_jobs=-1)]: Done 1242 tasks      | elapsed: 21.0min\n",
      "[Parallel(n_jobs=-1)]: Done 1500 out of 1500 | elapsed: 25.4min finished\n",
      "C:\\Users\\rubiarg\\Anaconda3\\envs\\tensorflow\\lib\\site-packages\\sklearn\\metrics\\classification.py:1428: UserWarning: labels size, 6, does not match size of target_names, 9\n",
      "  .format(len(labels), len(target_names))\n"
     ]
    },
    {
     "name": "stdout",
     "output_type": "stream",
     "text": [
      "Iteration::  7\n",
      "Fitting 3 folds for each of 500 candidates, totalling 1500 fits\n"
     ]
    },
    {
     "name": "stderr",
     "output_type": "stream",
     "text": [
      "[Parallel(n_jobs=-1)]: Done  42 tasks      | elapsed:   50.0s\n",
      "[Parallel(n_jobs=-1)]: Done 192 tasks      | elapsed:  3.4min\n",
      "[Parallel(n_jobs=-1)]: Done 442 tasks      | elapsed:  7.4min\n",
      "[Parallel(n_jobs=-1)]: Done 792 tasks      | elapsed: 13.5min\n",
      "[Parallel(n_jobs=-1)]: Done 1242 tasks      | elapsed: 21.7min\n",
      "[Parallel(n_jobs=-1)]: Done 1500 out of 1500 | elapsed: 26.3min finished\n",
      "C:\\Users\\rubiarg\\Anaconda3\\envs\\tensorflow\\lib\\site-packages\\sklearn\\metrics\\classification.py:1428: UserWarning: labels size, 6, does not match size of target_names, 9\n",
      "  .format(len(labels), len(target_names))\n"
     ]
    },
    {
     "name": "stdout",
     "output_type": "stream",
     "text": [
      "Iteration::  8\n",
      "Fitting 3 folds for each of 500 candidates, totalling 1500 fits\n"
     ]
    },
    {
     "name": "stderr",
     "output_type": "stream",
     "text": [
      "[Parallel(n_jobs=-1)]: Done  42 tasks      | elapsed:   47.2s\n",
      "[Parallel(n_jobs=-1)]: Done 192 tasks      | elapsed:  3.2min\n",
      "[Parallel(n_jobs=-1)]: Done 442 tasks      | elapsed:  7.7min\n",
      "[Parallel(n_jobs=-1)]: Done 792 tasks      | elapsed: 13.8min\n",
      "[Parallel(n_jobs=-1)]: Done 1242 tasks      | elapsed: 21.4min\n",
      "[Parallel(n_jobs=-1)]: Done 1500 out of 1500 | elapsed: 26.3min finished\n",
      "C:\\Users\\rubiarg\\Anaconda3\\envs\\tensorflow\\lib\\site-packages\\sklearn\\metrics\\classification.py:1428: UserWarning: labels size, 6, does not match size of target_names, 9\n",
      "  .format(len(labels), len(target_names))\n"
     ]
    },
    {
     "name": "stdout",
     "output_type": "stream",
     "text": [
      "Iteration::  9\n",
      "Fitting 3 folds for each of 500 candidates, totalling 1500 fits\n"
     ]
    },
    {
     "name": "stderr",
     "output_type": "stream",
     "text": [
      "[Parallel(n_jobs=-1)]: Done  42 tasks      | elapsed:   42.1s\n",
      "[Parallel(n_jobs=-1)]: Done 192 tasks      | elapsed:  3.3min\n",
      "[Parallel(n_jobs=-1)]: Done 442 tasks      | elapsed:  7.7min\n",
      "[Parallel(n_jobs=-1)]: Done 792 tasks      | elapsed: 14.1min\n",
      "[Parallel(n_jobs=-1)]: Done 1242 tasks      | elapsed: 22.2min\n",
      "[Parallel(n_jobs=-1)]: Done 1500 out of 1500 | elapsed: 26.4min finished\n",
      "C:\\Users\\rubiarg\\Anaconda3\\envs\\tensorflow\\lib\\site-packages\\sklearn\\metrics\\classification.py:1428: UserWarning: labels size, 6, does not match size of target_names, 9\n",
      "  .format(len(labels), len(target_names))\n"
     ]
    },
    {
     "name": "stdout",
     "output_type": "stream",
     "text": [
      "Iteration::  10\n",
      "Fitting 3 folds for each of 500 candidates, totalling 1500 fits\n"
     ]
    },
    {
     "name": "stderr",
     "output_type": "stream",
     "text": [
      "[Parallel(n_jobs=-1)]: Done  42 tasks      | elapsed:   49.4s\n",
      "[Parallel(n_jobs=-1)]: Done 192 tasks      | elapsed:  3.4min\n",
      "[Parallel(n_jobs=-1)]: Done 442 tasks      | elapsed:  7.7min\n",
      "[Parallel(n_jobs=-1)]: Done 792 tasks      | elapsed: 14.2min\n",
      "[Parallel(n_jobs=-1)]: Done 1242 tasks      | elapsed: 22.6min\n",
      "[Parallel(n_jobs=-1)]: Done 1500 out of 1500 | elapsed: 26.5min finished\n",
      "C:\\Users\\rubiarg\\Anaconda3\\envs\\tensorflow\\lib\\site-packages\\sklearn\\metrics\\classification.py:1428: UserWarning: labels size, 6, does not match size of target_names, 9\n",
      "  .format(len(labels), len(target_names))\n"
     ]
    },
    {
     "name": "stdout",
     "output_type": "stream",
     "text": [
      "Iteration::  11\n",
      "Fitting 3 folds for each of 500 candidates, totalling 1500 fits\n"
     ]
    },
    {
     "name": "stderr",
     "output_type": "stream",
     "text": [
      "[Parallel(n_jobs=-1)]: Done  42 tasks      | elapsed:   41.7s\n",
      "[Parallel(n_jobs=-1)]: Done 192 tasks      | elapsed:  3.1min\n",
      "[Parallel(n_jobs=-1)]: Done 442 tasks      | elapsed:  7.3min\n",
      "[Parallel(n_jobs=-1)]: Done 792 tasks      | elapsed: 13.2min\n",
      "[Parallel(n_jobs=-1)]: Done 1242 tasks      | elapsed: 20.9min\n",
      "[Parallel(n_jobs=-1)]: Done 1500 out of 1500 | elapsed: 25.5min finished\n",
      "C:\\Users\\rubiarg\\Anaconda3\\envs\\tensorflow\\lib\\site-packages\\sklearn\\metrics\\classification.py:1428: UserWarning: labels size, 6, does not match size of target_names, 9\n",
      "  .format(len(labels), len(target_names))\n"
     ]
    },
    {
     "name": "stdout",
     "output_type": "stream",
     "text": [
      "Iteration::  12\n",
      "Fitting 3 folds for each of 500 candidates, totalling 1500 fits\n"
     ]
    },
    {
     "name": "stderr",
     "output_type": "stream",
     "text": [
      "[Parallel(n_jobs=-1)]: Done  42 tasks      | elapsed:   45.4s\n",
      "[Parallel(n_jobs=-1)]: Done 192 tasks      | elapsed:  3.4min\n",
      "[Parallel(n_jobs=-1)]: Done 442 tasks      | elapsed:  7.9min\n",
      "[Parallel(n_jobs=-1)]: Done 792 tasks      | elapsed: 14.5min\n",
      "[Parallel(n_jobs=-1)]: Done 1242 tasks      | elapsed: 22.6min\n",
      "[Parallel(n_jobs=-1)]: Done 1500 out of 1500 | elapsed: 27.1min finished\n",
      "C:\\Users\\rubiarg\\Anaconda3\\envs\\tensorflow\\lib\\site-packages\\sklearn\\metrics\\classification.py:1428: UserWarning: labels size, 6, does not match size of target_names, 9\n",
      "  .format(len(labels), len(target_names))\n"
     ]
    },
    {
     "name": "stdout",
     "output_type": "stream",
     "text": [
      "Iteration::  13\n",
      "Fitting 3 folds for each of 500 candidates, totalling 1500 fits\n"
     ]
    },
    {
     "name": "stderr",
     "output_type": "stream",
     "text": [
      "[Parallel(n_jobs=-1)]: Done  42 tasks      | elapsed:   46.6s\n",
      "[Parallel(n_jobs=-1)]: Done 192 tasks      | elapsed:  3.3min\n",
      "[Parallel(n_jobs=-1)]: Done 442 tasks      | elapsed:  7.6min\n",
      "[Parallel(n_jobs=-1)]: Done 792 tasks      | elapsed: 13.6min\n",
      "[Parallel(n_jobs=-1)]: Done 1242 tasks      | elapsed: 20.8min\n",
      "[Parallel(n_jobs=-1)]: Done 1500 out of 1500 | elapsed: 25.2min finished\n",
      "C:\\Users\\rubiarg\\Anaconda3\\envs\\tensorflow\\lib\\site-packages\\sklearn\\metrics\\classification.py:1428: UserWarning: labels size, 6, does not match size of target_names, 9\n",
      "  .format(len(labels), len(target_names))\n"
     ]
    },
    {
     "name": "stdout",
     "output_type": "stream",
     "text": [
      "Iteration::  14\n",
      "Fitting 3 folds for each of 500 candidates, totalling 1500 fits\n"
     ]
    },
    {
     "name": "stderr",
     "output_type": "stream",
     "text": [
      "[Parallel(n_jobs=-1)]: Done  42 tasks      | elapsed:   43.0s\n",
      "[Parallel(n_jobs=-1)]: Done 192 tasks      | elapsed:  3.5min\n",
      "[Parallel(n_jobs=-1)]: Done 442 tasks      | elapsed:  7.5min\n",
      "[Parallel(n_jobs=-1)]: Done 792 tasks      | elapsed: 12.8min\n",
      "[Parallel(n_jobs=-1)]: Done 1242 tasks      | elapsed: 20.7min\n",
      "[Parallel(n_jobs=-1)]: Done 1500 out of 1500 | elapsed: 25.7min finished\n",
      "C:\\Users\\rubiarg\\Anaconda3\\envs\\tensorflow\\lib\\site-packages\\sklearn\\metrics\\classification.py:1428: UserWarning: labels size, 6, does not match size of target_names, 9\n",
      "  .format(len(labels), len(target_names))\n"
     ]
    },
    {
     "name": "stdout",
     "output_type": "stream",
     "text": [
      "Iteration::  15\n",
      "Fitting 3 folds for each of 500 candidates, totalling 1500 fits\n"
     ]
    },
    {
     "name": "stderr",
     "output_type": "stream",
     "text": [
      "[Parallel(n_jobs=-1)]: Done  42 tasks      | elapsed:   40.9s\n",
      "[Parallel(n_jobs=-1)]: Done 192 tasks      | elapsed:  3.0min\n",
      "[Parallel(n_jobs=-1)]: Done 442 tasks      | elapsed:  7.2min\n",
      "[Parallel(n_jobs=-1)]: Done 792 tasks      | elapsed: 13.1min\n",
      "[Parallel(n_jobs=-1)]: Done 1242 tasks      | elapsed: 20.8min\n",
      "[Parallel(n_jobs=-1)]: Done 1500 out of 1500 | elapsed: 25.1min finished\n",
      "C:\\Users\\rubiarg\\Anaconda3\\envs\\tensorflow\\lib\\site-packages\\sklearn\\metrics\\classification.py:1428: UserWarning: labels size, 6, does not match size of target_names, 9\n",
      "  .format(len(labels), len(target_names))\n"
     ]
    },
    {
     "name": "stdout",
     "output_type": "stream",
     "text": [
      "Iteration::  16\n",
      "Fitting 3 folds for each of 500 candidates, totalling 1500 fits\n"
     ]
    },
    {
     "name": "stderr",
     "output_type": "stream",
     "text": [
      "[Parallel(n_jobs=-1)]: Done  42 tasks      | elapsed:   46.1s\n",
      "[Parallel(n_jobs=-1)]: Done 192 tasks      | elapsed:  3.3min\n",
      "[Parallel(n_jobs=-1)]: Done 442 tasks      | elapsed:  7.4min\n",
      "[Parallel(n_jobs=-1)]: Done 792 tasks      | elapsed: 13.1min\n",
      "[Parallel(n_jobs=-1)]: Done 1242 tasks      | elapsed: 20.8min\n",
      "[Parallel(n_jobs=-1)]: Done 1500 out of 1500 | elapsed: 25.2min finished\n",
      "C:\\Users\\rubiarg\\Anaconda3\\envs\\tensorflow\\lib\\site-packages\\sklearn\\metrics\\classification.py:1428: UserWarning: labels size, 6, does not match size of target_names, 9\n",
      "  .format(len(labels), len(target_names))\n"
     ]
    },
    {
     "name": "stdout",
     "output_type": "stream",
     "text": [
      "Iteration::  17\n",
      "Fitting 3 folds for each of 500 candidates, totalling 1500 fits\n"
     ]
    },
    {
     "name": "stderr",
     "output_type": "stream",
     "text": [
      "[Parallel(n_jobs=-1)]: Done  42 tasks      | elapsed:   43.0s\n",
      "[Parallel(n_jobs=-1)]: Done 192 tasks      | elapsed:  3.4min\n",
      "[Parallel(n_jobs=-1)]: Done 442 tasks      | elapsed:  7.5min\n",
      "[Parallel(n_jobs=-1)]: Done 792 tasks      | elapsed: 13.1min\n",
      "[Parallel(n_jobs=-1)]: Done 1242 tasks      | elapsed: 20.3min\n",
      "[Parallel(n_jobs=-1)]: Done 1500 out of 1500 | elapsed: 24.7min finished\n",
      "C:\\Users\\rubiarg\\Anaconda3\\envs\\tensorflow\\lib\\site-packages\\sklearn\\metrics\\classification.py:1428: UserWarning: labels size, 6, does not match size of target_names, 9\n",
      "  .format(len(labels), len(target_names))\n"
     ]
    },
    {
     "name": "stdout",
     "output_type": "stream",
     "text": [
      "Iteration::  18\n",
      "Fitting 3 folds for each of 500 candidates, totalling 1500 fits\n"
     ]
    },
    {
     "name": "stderr",
     "output_type": "stream",
     "text": [
      "[Parallel(n_jobs=-1)]: Done  42 tasks      | elapsed:   41.7s\n",
      "[Parallel(n_jobs=-1)]: Done 192 tasks      | elapsed:  3.2min\n",
      "[Parallel(n_jobs=-1)]: Done 442 tasks      | elapsed:  7.3min\n",
      "[Parallel(n_jobs=-1)]: Done 792 tasks      | elapsed: 13.7min\n",
      "[Parallel(n_jobs=-1)]: Done 1242 tasks      | elapsed: 21.3min\n",
      "[Parallel(n_jobs=-1)]: Done 1500 out of 1500 | elapsed: 25.8min finished\n",
      "C:\\Users\\rubiarg\\Anaconda3\\envs\\tensorflow\\lib\\site-packages\\sklearn\\metrics\\classification.py:1428: UserWarning: labels size, 6, does not match size of target_names, 9\n",
      "  .format(len(labels), len(target_names))\n"
     ]
    },
    {
     "name": "stdout",
     "output_type": "stream",
     "text": [
      "Iteration::  19\n",
      "Fitting 3 folds for each of 500 candidates, totalling 1500 fits\n"
     ]
    },
    {
     "name": "stderr",
     "output_type": "stream",
     "text": [
      "[Parallel(n_jobs=-1)]: Done  42 tasks      | elapsed:   42.2s\n",
      "[Parallel(n_jobs=-1)]: Done 192 tasks      | elapsed:  3.2min\n",
      "[Parallel(n_jobs=-1)]: Done 442 tasks      | elapsed:  7.4min\n",
      "[Parallel(n_jobs=-1)]: Done 792 tasks      | elapsed: 13.5min\n",
      "[Parallel(n_jobs=-1)]: Done 1242 tasks      | elapsed: 21.3min\n",
      "[Parallel(n_jobs=-1)]: Done 1500 out of 1500 | elapsed: 25.3min finished\n",
      "C:\\Users\\rubiarg\\Anaconda3\\envs\\tensorflow\\lib\\site-packages\\sklearn\\metrics\\classification.py:1428: UserWarning: labels size, 6, does not match size of target_names, 9\n",
      "  .format(len(labels), len(target_names))\n"
     ]
    },
    {
     "name": "stdout",
     "output_type": "stream",
     "text": [
      "Iteration::  20\n",
      "Fitting 3 folds for each of 500 candidates, totalling 1500 fits\n"
     ]
    },
    {
     "name": "stderr",
     "output_type": "stream",
     "text": [
      "[Parallel(n_jobs=-1)]: Done  42 tasks      | elapsed:   39.2s\n",
      "[Parallel(n_jobs=-1)]: Done 192 tasks      | elapsed:  3.2min\n",
      "[Parallel(n_jobs=-1)]: Done 442 tasks      | elapsed:  7.5min\n",
      "[Parallel(n_jobs=-1)]: Done 792 tasks      | elapsed: 13.8min\n",
      "[Parallel(n_jobs=-1)]: Done 1242 tasks      | elapsed: 21.3min\n",
      "[Parallel(n_jobs=-1)]: Done 1500 out of 1500 | elapsed: 25.8min finished\n",
      "C:\\Users\\rubiarg\\Anaconda3\\envs\\tensorflow\\lib\\site-packages\\sklearn\\metrics\\classification.py:1428: UserWarning: labels size, 6, does not match size of target_names, 9\n",
      "  .format(len(labels), len(target_names))\n"
     ]
    },
    {
     "name": "stdout",
     "output_type": "stream",
     "text": [
      "Iteration::  21\n",
      "Fitting 3 folds for each of 500 candidates, totalling 1500 fits\n"
     ]
    },
    {
     "name": "stderr",
     "output_type": "stream",
     "text": [
      "[Parallel(n_jobs=-1)]: Done  42 tasks      | elapsed:   42.0s\n",
      "[Parallel(n_jobs=-1)]: Done 192 tasks      | elapsed:  3.1min\n",
      "[Parallel(n_jobs=-1)]: Done 442 tasks      | elapsed:  7.5min\n",
      "[Parallel(n_jobs=-1)]: Done 792 tasks      | elapsed: 13.6min\n",
      "[Parallel(n_jobs=-1)]: Done 1242 tasks      | elapsed: 20.8min\n",
      "[Parallel(n_jobs=-1)]: Done 1500 out of 1500 | elapsed: 25.0min finished\n",
      "C:\\Users\\rubiarg\\Anaconda3\\envs\\tensorflow\\lib\\site-packages\\sklearn\\metrics\\classification.py:1428: UserWarning: labels size, 6, does not match size of target_names, 9\n",
      "  .format(len(labels), len(target_names))\n"
     ]
    },
    {
     "name": "stdout",
     "output_type": "stream",
     "text": [
      "Iteration::  22\n",
      "Fitting 3 folds for each of 500 candidates, totalling 1500 fits\n"
     ]
    },
    {
     "name": "stderr",
     "output_type": "stream",
     "text": [
      "[Parallel(n_jobs=-1)]: Done  42 tasks      | elapsed:   44.2s\n",
      "[Parallel(n_jobs=-1)]: Done 192 tasks      | elapsed:  3.3min\n",
      "[Parallel(n_jobs=-1)]: Done 442 tasks      | elapsed:  7.4min\n",
      "[Parallel(n_jobs=-1)]: Done 792 tasks      | elapsed: 13.6min\n",
      "[Parallel(n_jobs=-1)]: Done 1242 tasks      | elapsed: 21.1min\n",
      "[Parallel(n_jobs=-1)]: Done 1500 out of 1500 | elapsed: 25.3min finished\n",
      "C:\\Users\\rubiarg\\Anaconda3\\envs\\tensorflow\\lib\\site-packages\\sklearn\\metrics\\classification.py:1428: UserWarning: labels size, 6, does not match size of target_names, 9\n",
      "  .format(len(labels), len(target_names))\n"
     ]
    },
    {
     "name": "stdout",
     "output_type": "stream",
     "text": [
      "Iteration::  23\n",
      "Fitting 3 folds for each of 500 candidates, totalling 1500 fits\n"
     ]
    },
    {
     "name": "stderr",
     "output_type": "stream",
     "text": [
      "[Parallel(n_jobs=-1)]: Done  42 tasks      | elapsed:   37.0s\n",
      "[Parallel(n_jobs=-1)]: Done 192 tasks      | elapsed:  3.2min\n",
      "[Parallel(n_jobs=-1)]: Done 442 tasks      | elapsed:  7.6min\n",
      "[Parallel(n_jobs=-1)]: Done 792 tasks      | elapsed: 13.4min\n",
      "[Parallel(n_jobs=-1)]: Done 1242 tasks      | elapsed: 21.4min\n",
      "[Parallel(n_jobs=-1)]: Done 1500 out of 1500 | elapsed: 25.7min finished\n",
      "C:\\Users\\rubiarg\\Anaconda3\\envs\\tensorflow\\lib\\site-packages\\sklearn\\metrics\\classification.py:1428: UserWarning: labels size, 6, does not match size of target_names, 9\n",
      "  .format(len(labels), len(target_names))\n"
     ]
    },
    {
     "name": "stdout",
     "output_type": "stream",
     "text": [
      "Iteration::  24\n",
      "Fitting 3 folds for each of 500 candidates, totalling 1500 fits\n"
     ]
    },
    {
     "name": "stderr",
     "output_type": "stream",
     "text": [
      "[Parallel(n_jobs=-1)]: Done  42 tasks      | elapsed:   44.0s\n",
      "[Parallel(n_jobs=-1)]: Done 192 tasks      | elapsed:  3.6min\n",
      "[Parallel(n_jobs=-1)]: Done 442 tasks      | elapsed:  7.8min\n",
      "[Parallel(n_jobs=-1)]: Done 792 tasks      | elapsed: 13.8min\n",
      "[Parallel(n_jobs=-1)]: Done 1242 tasks      | elapsed: 21.2min\n",
      "[Parallel(n_jobs=-1)]: Done 1500 out of 1500 | elapsed: 25.7min finished\n",
      "C:\\Users\\rubiarg\\Anaconda3\\envs\\tensorflow\\lib\\site-packages\\sklearn\\metrics\\classification.py:1428: UserWarning: labels size, 6, does not match size of target_names, 9\n",
      "  .format(len(labels), len(target_names))\n"
     ]
    },
    {
     "name": "stdout",
     "output_type": "stream",
     "text": [
      "Iteration::  25\n",
      "Fitting 3 folds for each of 500 candidates, totalling 1500 fits\n"
     ]
    },
    {
     "name": "stderr",
     "output_type": "stream",
     "text": [
      "[Parallel(n_jobs=-1)]: Done  42 tasks      | elapsed:   40.5s\n",
      "[Parallel(n_jobs=-1)]: Done 192 tasks      | elapsed:  3.1min\n",
      "[Parallel(n_jobs=-1)]: Done 442 tasks      | elapsed:  7.6min\n",
      "[Parallel(n_jobs=-1)]: Done 792 tasks      | elapsed: 13.8min\n",
      "[Parallel(n_jobs=-1)]: Done 1242 tasks      | elapsed: 21.7min\n",
      "[Parallel(n_jobs=-1)]: Done 1500 out of 1500 | elapsed: 25.8min finished\n",
      "C:\\Users\\rubiarg\\Anaconda3\\envs\\tensorflow\\lib\\site-packages\\sklearn\\metrics\\classification.py:1428: UserWarning: labels size, 6, does not match size of target_names, 9\n",
      "  .format(len(labels), len(target_names))\n"
     ]
    },
    {
     "name": "stdout",
     "output_type": "stream",
     "text": [
      "Iteration::  26\n",
      "Fitting 3 folds for each of 500 candidates, totalling 1500 fits\n"
     ]
    },
    {
     "name": "stderr",
     "output_type": "stream",
     "text": [
      "[Parallel(n_jobs=-1)]: Done  42 tasks      | elapsed:   43.6s\n",
      "[Parallel(n_jobs=-1)]: Done 192 tasks      | elapsed:  3.4min\n",
      "[Parallel(n_jobs=-1)]: Done 442 tasks      | elapsed:  7.7min\n",
      "[Parallel(n_jobs=-1)]: Done 792 tasks      | elapsed: 13.8min\n",
      "[Parallel(n_jobs=-1)]: Done 1242 tasks      | elapsed: 21.3min\n",
      "[Parallel(n_jobs=-1)]: Done 1500 out of 1500 | elapsed: 25.7min finished\n",
      "C:\\Users\\rubiarg\\Anaconda3\\envs\\tensorflow\\lib\\site-packages\\sklearn\\metrics\\classification.py:1428: UserWarning: labels size, 6, does not match size of target_names, 9\n",
      "  .format(len(labels), len(target_names))\n"
     ]
    },
    {
     "name": "stdout",
     "output_type": "stream",
     "text": [
      "Iteration::  27\n",
      "Fitting 3 folds for each of 500 candidates, totalling 1500 fits\n"
     ]
    },
    {
     "name": "stderr",
     "output_type": "stream",
     "text": [
      "[Parallel(n_jobs=-1)]: Done  42 tasks      | elapsed:   40.8s\n",
      "[Parallel(n_jobs=-1)]: Done 192 tasks      | elapsed:  3.2min\n",
      "[Parallel(n_jobs=-1)]: Done 442 tasks      | elapsed:  7.0min\n",
      "[Parallel(n_jobs=-1)]: Done 792 tasks      | elapsed: 12.9min\n",
      "[Parallel(n_jobs=-1)]: Done 1242 tasks      | elapsed: 20.8min\n",
      "[Parallel(n_jobs=-1)]: Done 1500 out of 1500 | elapsed: 25.3min finished\n",
      "C:\\Users\\rubiarg\\Anaconda3\\envs\\tensorflow\\lib\\site-packages\\sklearn\\metrics\\classification.py:1428: UserWarning: labels size, 6, does not match size of target_names, 9\n",
      "  .format(len(labels), len(target_names))\n"
     ]
    },
    {
     "name": "stdout",
     "output_type": "stream",
     "text": [
      "Iteration::  28\n",
      "Fitting 3 folds for each of 500 candidates, totalling 1500 fits\n"
     ]
    },
    {
     "name": "stderr",
     "output_type": "stream",
     "text": [
      "[Parallel(n_jobs=-1)]: Done  42 tasks      | elapsed:   43.6s\n",
      "[Parallel(n_jobs=-1)]: Done 192 tasks      | elapsed:  3.3min\n",
      "[Parallel(n_jobs=-1)]: Done 442 tasks      | elapsed:  7.5min\n",
      "[Parallel(n_jobs=-1)]: Done 792 tasks      | elapsed: 13.1min\n",
      "[Parallel(n_jobs=-1)]: Done 1242 tasks      | elapsed: 21.0min\n",
      "[Parallel(n_jobs=-1)]: Done 1500 out of 1500 | elapsed: 25.1min finished\n",
      "C:\\Users\\rubiarg\\Anaconda3\\envs\\tensorflow\\lib\\site-packages\\sklearn\\metrics\\classification.py:1428: UserWarning: labels size, 6, does not match size of target_names, 9\n",
      "  .format(len(labels), len(target_names))\n"
     ]
    },
    {
     "name": "stdout",
     "output_type": "stream",
     "text": [
      "Iteration::  29\n",
      "Fitting 3 folds for each of 500 candidates, totalling 1500 fits\n"
     ]
    },
    {
     "name": "stderr",
     "output_type": "stream",
     "text": [
      "[Parallel(n_jobs=-1)]: Done  42 tasks      | elapsed:   42.7s\n",
      "[Parallel(n_jobs=-1)]: Done 192 tasks      | elapsed:  3.4min\n",
      "[Parallel(n_jobs=-1)]: Done 442 tasks      | elapsed:  7.8min\n",
      "[Parallel(n_jobs=-1)]: Done 792 tasks      | elapsed: 13.4min\n",
      "[Parallel(n_jobs=-1)]: Done 1242 tasks      | elapsed: 20.5min\n",
      "[Parallel(n_jobs=-1)]: Done 1500 out of 1500 | elapsed: 24.9min finished\n",
      "C:\\Users\\rubiarg\\Anaconda3\\envs\\tensorflow\\lib\\site-packages\\sklearn\\metrics\\classification.py:1428: UserWarning: labels size, 6, does not match size of target_names, 9\n",
      "  .format(len(labels), len(target_names))\n"
     ]
    }
   ],
   "source": [
    "niter = 30\n",
    "results = []\n",
    "train_acc = []\n",
    "test_acc = []\n",
    "train_report =[]\n",
    "class_report = []\n",
    "selected_params = []\n",
    "cm = [] # confusion matrix\n",
    "feature_importance = []\n",
    "col_names = range(1,1211)\n",
    "\n",
    "for i in range(niter):\n",
    "    print(\"Iteration:: \", i)\n",
    "    sss = StratifiedShuffleSplit(n_splits=3, test_size=0.2, random_state=42)\n",
    "    sss.get_n_splits(sig_features, sig_labels)\n",
    "\n",
    "    for train_index, test_index in sss.split(sig_features, sig_labels):\n",
    "        train_x, test_x = sig_features[train_index], sig_features[test_index]\n",
    "        train_y, test_y = sig_labels[train_index], sig_labels[test_index]\n",
    "\n",
    "    rf = RandomForestClassifier()\n",
    "    rf_random = RandomizedSearchCV(estimator=rf, param_distributions=random_grid, n_iter=500, cv=3, verbose=1, n_jobs=-1)\n",
    "\n",
    "    rf_random.fit(train_x, train_y)\n",
    "    predictions = rf_random.predict(test_x)\n",
    "    \n",
    "    selected_params.append(rf_random.best_params_)\n",
    "    train_acc.append(accuracy_score(train_y, rf_random.predict(train_x)))\n",
    "    test_acc.append(accuracy_score(test_y, predictions))\n",
    "    cm.append(pd.crosstab(test_y, predictions, rownames=['True'], colnames=['Predicted'], margins=True))\n",
    "    class_report.append(classification_report(test_y, predictions, target_names=list(labels_dict.keys())))\n",
    "    feature_importance.append(pd.DataFrame(data=sorted(zip(map(lambda x: round(x, 4), \n",
    "                                                               rf_random.best_estimator_.feature_importances_), \n",
    "                                                           col_names), reverse=True)))"
   ]
  },
  {
   "cell_type": "markdown",
   "metadata": {},
   "source": [
    "## Results"
   ]
  },
  {
   "cell_type": "code",
   "execution_count": 7,
   "metadata": {},
   "outputs": [],
   "source": [
    "from functools import reduce\n",
    "\n",
    "conf_matrix = reduce(lambda x, y: x.add(y, fill_value=0), cm)\n",
    "\n",
    "np.savetxt(\"results/distances/dst-trainacc.csv\",train_acc,delimiter=\",\")\n",
    "np.savetxt(\"results/distances/dst-testacc.csv\",test_acc,delimiter=\",\")\n",
    "np.savetxt(\"results/distances/dst-selected_params.txt\",selected_params,fmt='%s',delimiter='\\n')\n",
    "np.savetxt(\"results/distances/dst-classreport.txt\",class_report,fmt='%s',delimiter='\\n')\n",
    "conf_matrix.to_csv(\"results/distances/dst-cm.csv\")\n",
    "\n",
    "import pickle\n",
    "with open('results/distances/dst-featimportance.pickle', 'wb') as fp:\n",
    "    for feat in feature_importance:\n",
    "        pickle.dump(feat, fp)"
   ]
  },
  {
   "cell_type": "code",
   "execution_count": 8,
   "metadata": {},
   "outputs": [
    {
     "data": {
      "image/png": "[encoded data removed]",
      "text/plain": [
       "<Figure size 432x288 with 1 Axes>"
      ]
     },
     "metadata": {},
     "output_type": "display_data"
    }
   ],
   "source": [
    "acc = np.transpose([train_acc, test_acc])\n",
    "acc = pd.DataFrame(data=acc, columns=['train_acc', 'test_acc'])\n",
    "boxplot = acc.boxplot(column=['train_acc', 'test_acc'])\n",
    "plt.show()"
   ]
  },
  {
   "cell_type": "code",
   "execution_count": 9,
   "metadata": {},
   "outputs": [
    {
     "data": {
      "text/html": [
       "<div>\n",
       "<style scoped>\n",
       "    .dataframe tbody tr th:only-of-type {\n",
       "        vertical-align: middle;\n",
       "    }\n",
       "\n",
       "    .dataframe tbody tr th {\n",
       "        vertical-align: top;\n",
       "    }\n",
       "\n",
       "    .dataframe thead th {\n",
       "        text-align: right;\n",
       "    }\n",
       "</style>\n",
       "<table border=\"1\" class=\"dataframe\">\n",
       "  <thead>\n",
       "    <tr style=\"text-align: right;\">\n",
       "      <th></th>\n",
       "      <th>train_acc</th>\n",
       "      <th>test_acc</th>\n",
       "    </tr>\n",
       "  </thead>\n",
       "  <tbody>\n",
       "    <tr>\n",
       "      <th>count</th>\n",
       "      <td>30.000000</td>\n",
       "      <td>30.000000</td>\n",
       "    </tr>\n",
       "    <tr>\n",
       "      <th>mean</th>\n",
       "      <td>0.997917</td>\n",
       "      <td>0.913333</td>\n",
       "    </tr>\n",
       "    <tr>\n",
       "      <th>std</th>\n",
       "      <td>0.004738</td>\n",
       "      <td>0.029165</td>\n",
       "    </tr>\n",
       "    <tr>\n",
       "      <th>min</th>\n",
       "      <td>0.987500</td>\n",
       "      <td>0.850000</td>\n",
       "    </tr>\n",
       "    <tr>\n",
       "      <th>25%</th>\n",
       "      <td>1.000000</td>\n",
       "      <td>0.900000</td>\n",
       "    </tr>\n",
       "    <tr>\n",
       "      <th>50%</th>\n",
       "      <td>1.000000</td>\n",
       "      <td>0.900000</td>\n",
       "    </tr>\n",
       "    <tr>\n",
       "      <th>75%</th>\n",
       "      <td>1.000000</td>\n",
       "      <td>0.950000</td>\n",
       "    </tr>\n",
       "    <tr>\n",
       "      <th>max</th>\n",
       "      <td>1.000000</td>\n",
       "      <td>0.950000</td>\n",
       "    </tr>\n",
       "  </tbody>\n",
       "</table>\n",
       "</div>"
      ],
      "text/plain": [
       "       train_acc   test_acc\n",
       "count  30.000000  30.000000\n",
       "mean    0.997917   0.913333\n",
       "std     0.004738   0.029165\n",
       "min     0.987500   0.850000\n",
       "25%     1.000000   0.900000\n",
       "50%     1.000000   0.900000\n",
       "75%     1.000000   0.950000\n",
       "max     1.000000   0.950000"
      ]
     },
     "execution_count": 9,
     "metadata": {},
     "output_type": "execute_result"
    }
   ],
   "source": [
    "acc.describe()"
   ]
  },
  {
   "cell_type": "code",
   "execution_count": null,
   "metadata": {},
   "outputs": [],
   "source": [
    "np.array(np.multiply(acc['test_acc'],100))\n",
    "\n",
    "import matplotlib.pyplot as plt\n",
    "%matplotlib notebook\n",
    "acc_traj = pd.DataFrame(data=np.transpose([np.array(np.multiply(acc['test_acc'],100)), \n",
    "                                           [65,70,65,60,75,65,65,70,50,40,55,75,80,75,65,65,90,70,65,50,65,55,75,70,70,45,75,75,60,70], \n",
    "                                           [45,45,45,50,55,55,60,40,45,45,40,60,45,45,35,50,60,65,55,55,40,55,55,50,60,55,60,55,50,50]]), \n",
    "                                           columns=['RF', 'SVM', 'k-NN'])\n",
    "boxplot_traj = acc_traj.boxplot(column=['RF', 'SVM', 'k-NN'], vert=False)\n",
    "plt.show()"
   ]
  },
  {
   "cell_type": "code",
   "execution_count": null,
   "metadata": {},
   "outputs": [],
   "source": []
  }
 ],
 "metadata": {
  "kernelspec": {
   "display_name": "Python 3",
   "language": "python",
   "name": "python3"
  },
  "language_info": {
   "codemirror_mode": {
    "name": "ipython",
    "version": 3
   },
   "file_extension": ".py",
   "mimetype": "text/x-python",
   "name": "python",
   "nbconvert_exporter": "python",
   "pygments_lexer": "ipython3",
   "version": "3.6.5"
  }
 },
 "nbformat": 4,
 "nbformat_minor": 2
}
