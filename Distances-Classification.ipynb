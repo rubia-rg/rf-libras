{
 "cells": [
  {
   "cell_type": "markdown",
   "metadata": {},
   "source": [
    "# Classification: Distances"
   ]
  },
  {
   "cell_type": "markdown",
   "metadata": {},
   "source": [
    "Exploring euclidean distances between facial points caputred by nuiCapture as candidate features.\n",
    "<p>\n",
    "    <img src=\"nuicapture.png\">\n",
    "    <em>Source: CadavidConcepts</em>\n",
    "</p>"
   ]
  },
  {
   "cell_type": "code",
   "execution_count": 1,
   "metadata": {
    "collapsed": true
   },
   "outputs": [],
   "source": [
    "import glob as gl\n",
    "import numpy as np\n",
    "from scipy.io import loadmat\n",
    "from typing import List\n",
    "import pandas as pd\n",
    "from scipy.spatial import distance\n",
    "import matplotlib.pyplot as plt\n",
    "%matplotlib notebook"
   ]
  },
  {
   "cell_type": "code",
   "execution_count": 2,
   "metadata": {
    "collapsed": true
   },
   "outputs": [],
   "source": [
    "def labelname(file_name):\n",
    "    label = file_name.replace(\"data/points/sample\", \"\").lower()\n",
    "    return label.replace(\".mat\", \"\")\n",
    "\n",
    "\n",
    "class Signal:\n",
    "    def __init__(self, x, y, label):\n",
    "        self.x = x\n",
    "        self.y = y\n",
    "        self.label = label\n",
    "\n",
    "def dst(sig, points):\n",
    "    frame_x = np.split(sig.x, 5, axis=1)\n",
    "    frame_y = np.split(sig.y, 5, axis=1)\n",
    "    \n",
    "    nframes, nrecs, idx = np.shape(frame_x)\n",
    "    eucdist = np.zeros((nframes, nrecs))\n",
    "    p = points[0]\n",
    "    q = points[1]\n",
    "    \n",
    "    for f in range(nframes):\n",
    "        for r in range(nrecs):\n",
    "            u = frame_x[f][r][p], frame_y[f][r][p]\n",
    "            v = frame_x[f][r][q], frame_y[f][r][q]\n",
    "            eucdist[f][r] = distance.euclidean(u, v)\n",
    "    \n",
    "    return eucdist.transpose()"
   ]
  },
  {
   "cell_type": "markdown",
   "metadata": {},
   "source": [
    "## Dataset preparation"
   ]
  },
  {
   "cell_type": "code",
   "execution_count": 3,
   "metadata": {
    "collapsed": false
   },
   "outputs": [],
   "source": [
    "files = gl.glob(\"data/points/*.mat\")  # type: list\n",
    "signals = []  # type: List[Signal]\n",
    "\n",
    "for f in files:\n",
    "    data = loadmat(f).get('pontosSinal')\n",
    "    signals.append(Signal(data[:, ::2], data[:, 1::2], labelname(f)))\n",
    "\n",
    "n_signs = len(signals)\n",
    "n_recs, n_x = np.shape(signals[0].x)  # Number of recordings and number of features\n",
    "n_frames = 5\n",
    "\n",
    "# arbitrarily defined points, refer to notebook 'Distances'\n",
    "points = [[6, 3], [6, 11], [65, 32], [8, 9], [49, 16], [50, 17], [91, 92], [20, 25], [53, 58]]\n",
    "n_points, n_dim = np.shape(points)\n",
    "\n",
    "signals_feat = []  # Updated signals, according to each experiment\n",
    "signals_labels = []\n",
    "labels_dict = {}  # Dictionary of signals' labels, for reference\n",
    "i = 0\n",
    "\n",
    "for s in signals:\n",
    "    distances = []\n",
    "    for p in points:\n",
    "        distances.append(dst(s, p))     \n",
    "    signals_feat.append(np.hstack(distances))\n",
    "    signals_labels.append([i] * n_recs)\n",
    "    labels_dict[i] = s.label\n",
    "    i += 1\n",
    "\n",
    "sig_features = np.vstack(signals_feat)\n",
    "np.savetxt(\"distances.csv\",sig_features,delimiter=\",\")\n",
    "sig_labels = np.reshape(signals_labels, (n_signs * n_recs,))\n",
    "np.savetxt(\"distances-labels.csv\",sig_labels,delimiter=\",\")"
   ]
  },
  {
   "cell_type": "markdown",
   "metadata": {},
   "source": [
    "## Classification"
   ]
  },
  {
   "cell_type": "code",
   "execution_count": 4,
   "metadata": {
    "collapsed": true
   },
   "outputs": [],
   "source": [
    "from sklearn.model_selection import StratifiedShuffleSplit\n",
    "from sklearn.ensemble import RandomForestClassifier\n",
    "from sklearn.metrics import accuracy_score\n",
    "from sklearn.metrics import confusion_matrix\n",
    "from sklearn.model_selection import RandomizedSearchCV\n",
    "# from sklearn.model_selection import GridSearchCV\n",
    "from sklearn.metrics import classification_report\n",
    "from pprint import pprint"
   ]
  },
  {
   "cell_type": "code",
   "execution_count": 5,
   "metadata": {
    "collapsed": true
   },
   "outputs": [],
   "source": [
    "# Number of trees in random forest\n",
    "n_estimators = [int(x) for x in np.linspace(start=200, stop=2000, num=10)]\n",
    "# Number of features to consider at every split\n",
    "max_features = ['log2', 'sqrt']\n",
    "# Maximum number of levels in tree\n",
    "max_depth = [int(x) for x in np.linspace(10, 110, num=11)]\n",
    "max_depth.append(None)\n",
    "# Minimum number of samples required to split a node\n",
    "min_samples_split = [2, 5, 7]\n",
    "# Minimum number of samples required at each leaf node\n",
    "min_samples_leaf = [1, 2, 4]\n",
    "# Method of selecting samples for training each tree\n",
    "bootstrap = [True, False]\n",
    "# Create the random grid\n",
    "random_grid = {'n_estimators': n_estimators,\n",
    "               'max_features': max_features,\n",
    "               'max_depth': max_depth,\n",
    "               'min_samples_split': min_samples_split,\n",
    "               'min_samples_leaf': min_samples_leaf,\n",
    "               'bootstrap': bootstrap}"
   ]
  },
  {
   "cell_type": "code",
   "execution_count": 6,
   "metadata": {
    "collapsed": false
   },
   "outputs": [
    {
     "name": "stdout",
     "output_type": "stream",
     "text": [
      "Iteration::  0\n",
      "Fitting 3 folds for each of 100 candidates, totalling 300 fits\n"
     ]
    },
    {
     "name": "stderr",
     "output_type": "stream",
     "text": [
      "[Parallel(n_jobs=-1)]: Done  42 tasks      | elapsed:   54.9s\n",
      "[Parallel(n_jobs=-1)]: Done 192 tasks      | elapsed:  4.0min\n",
      "[Parallel(n_jobs=-1)]: Done 300 out of 300 | elapsed:  6.4min finished\n"
     ]
    },
    {
     "name": "stdout",
     "output_type": "stream",
     "text": [
      "Iteration::  1\n",
      "Fitting 3 folds for each of 100 candidates, totalling 300 fits\n"
     ]
    },
    {
     "name": "stderr",
     "output_type": "stream",
     "text": [
      "/anaconda/envs/tensorflow/lib/python3.4/site-packages/sklearn/metrics/classification.py:1135: UndefinedMetricWarning: Precision and F-score are ill-defined and being set to 0.0 in labels with no predicted samples.\n",
      "  'precision', 'predicted', average, warn_for)\n",
      "[Parallel(n_jobs=-1)]: Done  42 tasks      | elapsed:  1.0min\n",
      "[Parallel(n_jobs=-1)]: Done 192 tasks      | elapsed:  3.9min\n",
      "[Parallel(n_jobs=-1)]: Done 300 out of 300 | elapsed:  6.4min finished\n"
     ]
    },
    {
     "name": "stdout",
     "output_type": "stream",
     "text": [
      "Iteration::  2\n",
      "Fitting 3 folds for each of 100 candidates, totalling 300 fits\n"
     ]
    },
    {
     "name": "stderr",
     "output_type": "stream",
     "text": [
      "[Parallel(n_jobs=-1)]: Done  42 tasks      | elapsed:   55.5s\n",
      "[Parallel(n_jobs=-1)]: Done 192 tasks      | elapsed:  4.0min\n",
      "[Parallel(n_jobs=-1)]: Done 300 out of 300 | elapsed:  6.3min finished\n"
     ]
    },
    {
     "name": "stdout",
     "output_type": "stream",
     "text": [
      "Iteration::  3\n",
      "Fitting 3 folds for each of 100 candidates, totalling 300 fits\n"
     ]
    },
    {
     "name": "stderr",
     "output_type": "stream",
     "text": [
      "[Parallel(n_jobs=-1)]: Done  42 tasks      | elapsed:   36.8s\n",
      "[Parallel(n_jobs=-1)]: Done 192 tasks      | elapsed:  3.6min\n",
      "[Parallel(n_jobs=-1)]: Done 300 out of 300 | elapsed:  5.8min finished\n"
     ]
    },
    {
     "name": "stdout",
     "output_type": "stream",
     "text": [
      "Iteration::  4\n",
      "Fitting 3 folds for each of 100 candidates, totalling 300 fits\n"
     ]
    },
    {
     "name": "stderr",
     "output_type": "stream",
     "text": [
      "/anaconda/envs/tensorflow/lib/python3.4/site-packages/sklearn/metrics/classification.py:1135: UndefinedMetricWarning: Precision and F-score are ill-defined and being set to 0.0 in labels with no predicted samples.\n",
      "  'precision', 'predicted', average, warn_for)\n",
      "[Parallel(n_jobs=-1)]: Done  42 tasks      | elapsed:   42.6s\n",
      "[Parallel(n_jobs=-1)]: Done 192 tasks      | elapsed:  3.5min\n",
      "[Parallel(n_jobs=-1)]: Done 300 out of 300 | elapsed:  5.3min finished\n"
     ]
    },
    {
     "name": "stdout",
     "output_type": "stream",
     "text": [
      "Iteration::  5\n",
      "Fitting 3 folds for each of 100 candidates, totalling 300 fits\n"
     ]
    },
    {
     "name": "stderr",
     "output_type": "stream",
     "text": [
      "/anaconda/envs/tensorflow/lib/python3.4/site-packages/sklearn/metrics/classification.py:1135: UndefinedMetricWarning: Precision and F-score are ill-defined and being set to 0.0 in labels with no predicted samples.\n",
      "  'precision', 'predicted', average, warn_for)\n",
      "[Parallel(n_jobs=-1)]: Done  42 tasks      | elapsed:   48.0s\n",
      "[Parallel(n_jobs=-1)]: Done 192 tasks      | elapsed:  3.7min\n",
      "[Parallel(n_jobs=-1)]: Done 300 out of 300 | elapsed:  5.4min finished\n"
     ]
    },
    {
     "name": "stdout",
     "output_type": "stream",
     "text": [
      "Iteration::  6\n",
      "Fitting 3 folds for each of 100 candidates, totalling 300 fits\n"
     ]
    },
    {
     "name": "stderr",
     "output_type": "stream",
     "text": [
      "/anaconda/envs/tensorflow/lib/python3.4/site-packages/sklearn/metrics/classification.py:1135: UndefinedMetricWarning: Precision and F-score are ill-defined and being set to 0.0 in labels with no predicted samples.\n",
      "  'precision', 'predicted', average, warn_for)\n",
      "[Parallel(n_jobs=-1)]: Done  42 tasks      | elapsed:   48.0s\n",
      "[Parallel(n_jobs=-1)]: Done 192 tasks      | elapsed:  2.9min\n",
      "[Parallel(n_jobs=-1)]: Done 300 out of 300 | elapsed:  4.4min finished\n"
     ]
    },
    {
     "name": "stdout",
     "output_type": "stream",
     "text": [
      "Iteration::  7\n",
      "Fitting 3 folds for each of 100 candidates, totalling 300 fits\n"
     ]
    },
    {
     "name": "stderr",
     "output_type": "stream",
     "text": [
      "/anaconda/envs/tensorflow/lib/python3.4/site-packages/sklearn/metrics/classification.py:1135: UndefinedMetricWarning: Precision and F-score are ill-defined and being set to 0.0 in labels with no predicted samples.\n",
      "  'precision', 'predicted', average, warn_for)\n",
      "[Parallel(n_jobs=-1)]: Done  42 tasks      | elapsed:   33.9s\n",
      "[Parallel(n_jobs=-1)]: Done 192 tasks      | elapsed:  2.8min\n",
      "[Parallel(n_jobs=-1)]: Done 300 out of 300 | elapsed:  4.3min finished\n"
     ]
    },
    {
     "name": "stdout",
     "output_type": "stream",
     "text": [
      "Iteration::  8\n",
      "Fitting 3 folds for each of 100 candidates, totalling 300 fits\n"
     ]
    },
    {
     "name": "stderr",
     "output_type": "stream",
     "text": [
      "[Parallel(n_jobs=-1)]: Done  42 tasks      | elapsed:   43.2s\n",
      "[Parallel(n_jobs=-1)]: Done 192 tasks      | elapsed:  3.0min\n",
      "[Parallel(n_jobs=-1)]: Done 300 out of 300 | elapsed:  4.6min finished\n"
     ]
    },
    {
     "name": "stdout",
     "output_type": "stream",
     "text": [
      "Iteration::  9\n",
      "Fitting 3 folds for each of 100 candidates, totalling 300 fits\n"
     ]
    },
    {
     "name": "stderr",
     "output_type": "stream",
     "text": [
      "[Parallel(n_jobs=-1)]: Done  42 tasks      | elapsed:   33.4s\n",
      "[Parallel(n_jobs=-1)]: Done 192 tasks      | elapsed:  2.5min\n",
      "[Parallel(n_jobs=-1)]: Done 300 out of 300 | elapsed:  4.2min finished\n"
     ]
    },
    {
     "name": "stdout",
     "output_type": "stream",
     "text": [
      "Iteration::  10\n",
      "Fitting 3 folds for each of 100 candidates, totalling 300 fits\n"
     ]
    },
    {
     "name": "stderr",
     "output_type": "stream",
     "text": [
      "/anaconda/envs/tensorflow/lib/python3.4/site-packages/sklearn/metrics/classification.py:1135: UndefinedMetricWarning: Precision and F-score are ill-defined and being set to 0.0 in labels with no predicted samples.\n",
      "  'precision', 'predicted', average, warn_for)\n",
      "[Parallel(n_jobs=-1)]: Done  42 tasks      | elapsed:   40.2s\n",
      "[Parallel(n_jobs=-1)]: Done 192 tasks      | elapsed:  2.9min\n",
      "[Parallel(n_jobs=-1)]: Done 300 out of 300 | elapsed:  4.2min finished\n"
     ]
    },
    {
     "name": "stdout",
     "output_type": "stream",
     "text": [
      "Iteration::  11\n",
      "Fitting 3 folds for each of 100 candidates, totalling 300 fits\n"
     ]
    },
    {
     "name": "stderr",
     "output_type": "stream",
     "text": [
      "[Parallel(n_jobs=-1)]: Done  42 tasks      | elapsed:   31.5s\n",
      "[Parallel(n_jobs=-1)]: Done 192 tasks      | elapsed:  3.0min\n",
      "[Parallel(n_jobs=-1)]: Done 300 out of 300 | elapsed:  4.6min finished\n"
     ]
    },
    {
     "name": "stdout",
     "output_type": "stream",
     "text": [
      "Iteration::  12\n",
      "Fitting 3 folds for each of 100 candidates, totalling 300 fits\n"
     ]
    },
    {
     "name": "stderr",
     "output_type": "stream",
     "text": [
      "[Parallel(n_jobs=-1)]: Done  42 tasks      | elapsed:   40.4s\n",
      "[Parallel(n_jobs=-1)]: Done 192 tasks      | elapsed:  3.0min\n",
      "[Parallel(n_jobs=-1)]: Done 300 out of 300 | elapsed:  4.5min finished\n"
     ]
    },
    {
     "name": "stdout",
     "output_type": "stream",
     "text": [
      "Iteration::  13\n",
      "Fitting 3 folds for each of 100 candidates, totalling 300 fits\n"
     ]
    },
    {
     "name": "stderr",
     "output_type": "stream",
     "text": [
      "/anaconda/envs/tensorflow/lib/python3.4/site-packages/sklearn/metrics/classification.py:1135: UndefinedMetricWarning: Precision and F-score are ill-defined and being set to 0.0 in labels with no predicted samples.\n",
      "  'precision', 'predicted', average, warn_for)\n",
      "[Parallel(n_jobs=-1)]: Done  42 tasks      | elapsed:   41.8s\n",
      "[Parallel(n_jobs=-1)]: Done 192 tasks      | elapsed:  2.9min\n",
      "[Parallel(n_jobs=-1)]: Done 300 out of 300 | elapsed:  4.2min finished\n"
     ]
    },
    {
     "name": "stdout",
     "output_type": "stream",
     "text": [
      "Iteration::  14\n",
      "Fitting 3 folds for each of 100 candidates, totalling 300 fits\n"
     ]
    },
    {
     "name": "stderr",
     "output_type": "stream",
     "text": [
      "/anaconda/envs/tensorflow/lib/python3.4/site-packages/sklearn/metrics/classification.py:1135: UndefinedMetricWarning: Precision and F-score are ill-defined and being set to 0.0 in labels with no predicted samples.\n",
      "  'precision', 'predicted', average, warn_for)\n",
      "[Parallel(n_jobs=-1)]: Done  42 tasks      | elapsed:   30.6s\n",
      "[Parallel(n_jobs=-1)]: Done 192 tasks      | elapsed:  2.9min\n",
      "[Parallel(n_jobs=-1)]: Done 300 out of 300 | elapsed:  4.5min finished\n"
     ]
    },
    {
     "name": "stdout",
     "output_type": "stream",
     "text": [
      "Iteration::  15\n",
      "Fitting 3 folds for each of 100 candidates, totalling 300 fits\n"
     ]
    },
    {
     "name": "stderr",
     "output_type": "stream",
     "text": [
      "/anaconda/envs/tensorflow/lib/python3.4/site-packages/sklearn/metrics/classification.py:1135: UndefinedMetricWarning: Precision and F-score are ill-defined and being set to 0.0 in labels with no predicted samples.\n",
      "  'precision', 'predicted', average, warn_for)\n",
      "[Parallel(n_jobs=-1)]: Done  42 tasks      | elapsed:   42.5s\n",
      "[Parallel(n_jobs=-1)]: Done 192 tasks      | elapsed:  3.1min\n",
      "[Parallel(n_jobs=-1)]: Done 300 out of 300 | elapsed:  4.5min finished\n"
     ]
    },
    {
     "name": "stdout",
     "output_type": "stream",
     "text": [
      "Iteration::  16\n",
      "Fitting 3 folds for each of 100 candidates, totalling 300 fits\n"
     ]
    },
    {
     "name": "stderr",
     "output_type": "stream",
     "text": [
      "/anaconda/envs/tensorflow/lib/python3.4/site-packages/sklearn/metrics/classification.py:1135: UndefinedMetricWarning: Precision and F-score are ill-defined and being set to 0.0 in labels with no predicted samples.\n",
      "  'precision', 'predicted', average, warn_for)\n",
      "[Parallel(n_jobs=-1)]: Done  42 tasks      | elapsed:   35.0s\n",
      "[Parallel(n_jobs=-1)]: Done 192 tasks      | elapsed:  2.7min\n",
      "[Parallel(n_jobs=-1)]: Done 300 out of 300 | elapsed:  4.3min finished\n"
     ]
    },
    {
     "name": "stdout",
     "output_type": "stream",
     "text": [
      "Iteration::  17\n",
      "Fitting 3 folds for each of 100 candidates, totalling 300 fits\n"
     ]
    },
    {
     "name": "stderr",
     "output_type": "stream",
     "text": [
      "[Parallel(n_jobs=-1)]: Done  42 tasks      | elapsed:   36.7s\n",
      "[Parallel(n_jobs=-1)]: Done 192 tasks      | elapsed:  2.8min\n",
      "[Parallel(n_jobs=-1)]: Done 300 out of 300 | elapsed:  4.5min finished\n"
     ]
    },
    {
     "name": "stdout",
     "output_type": "stream",
     "text": [
      "Iteration::  18\n",
      "Fitting 3 folds for each of 100 candidates, totalling 300 fits\n"
     ]
    },
    {
     "name": "stderr",
     "output_type": "stream",
     "text": [
      "/anaconda/envs/tensorflow/lib/python3.4/site-packages/sklearn/metrics/classification.py:1135: UndefinedMetricWarning: Precision and F-score are ill-defined and being set to 0.0 in labels with no predicted samples.\n",
      "  'precision', 'predicted', average, warn_for)\n",
      "[Parallel(n_jobs=-1)]: Done  42 tasks      | elapsed:   36.0s\n",
      "[Parallel(n_jobs=-1)]: Done 192 tasks      | elapsed:  2.7min\n",
      "[Parallel(n_jobs=-1)]: Done 300 out of 300 | elapsed:  4.5min finished\n"
     ]
    },
    {
     "name": "stdout",
     "output_type": "stream",
     "text": [
      "Iteration::  19\n",
      "Fitting 3 folds for each of 100 candidates, totalling 300 fits\n"
     ]
    },
    {
     "name": "stderr",
     "output_type": "stream",
     "text": [
      "/anaconda/envs/tensorflow/lib/python3.4/site-packages/sklearn/metrics/classification.py:1135: UndefinedMetricWarning: Precision and F-score are ill-defined and being set to 0.0 in labels with no predicted samples.\n",
      "  'precision', 'predicted', average, warn_for)\n",
      "[Parallel(n_jobs=-1)]: Done  42 tasks      | elapsed:   40.9s\n",
      "[Parallel(n_jobs=-1)]: Done 192 tasks      | elapsed:  2.9min\n",
      "[Parallel(n_jobs=-1)]: Done 300 out of 300 | elapsed:  4.6min finished\n"
     ]
    },
    {
     "name": "stdout",
     "output_type": "stream",
     "text": [
      "Iteration::  20\n",
      "Fitting 3 folds for each of 100 candidates, totalling 300 fits\n"
     ]
    },
    {
     "name": "stderr",
     "output_type": "stream",
     "text": [
      "/anaconda/envs/tensorflow/lib/python3.4/site-packages/sklearn/metrics/classification.py:1135: UndefinedMetricWarning: Precision and F-score are ill-defined and being set to 0.0 in labels with no predicted samples.\n",
      "  'precision', 'predicted', average, warn_for)\n",
      "[Parallel(n_jobs=-1)]: Done  42 tasks      | elapsed:   33.6s\n",
      "[Parallel(n_jobs=-1)]: Done 192 tasks      | elapsed:  3.1min\n",
      "[Parallel(n_jobs=-1)]: Done 300 out of 300 | elapsed:  4.8min finished\n"
     ]
    },
    {
     "name": "stdout",
     "output_type": "stream",
     "text": [
      "Iteration::  21\n",
      "Fitting 3 folds for each of 100 candidates, totalling 300 fits\n"
     ]
    },
    {
     "name": "stderr",
     "output_type": "stream",
     "text": [
      "/anaconda/envs/tensorflow/lib/python3.4/site-packages/sklearn/metrics/classification.py:1135: UndefinedMetricWarning: Precision and F-score are ill-defined and being set to 0.0 in labels with no predicted samples.\n",
      "  'precision', 'predicted', average, warn_for)\n",
      "[Parallel(n_jobs=-1)]: Done  42 tasks      | elapsed:   34.3s\n",
      "[Parallel(n_jobs=-1)]: Done 192 tasks      | elapsed:  2.9min\n",
      "[Parallel(n_jobs=-1)]: Done 300 out of 300 | elapsed:  4.5min finished\n"
     ]
    },
    {
     "name": "stdout",
     "output_type": "stream",
     "text": [
      "Iteration::  22\n",
      "Fitting 3 folds for each of 100 candidates, totalling 300 fits\n"
     ]
    },
    {
     "name": "stderr",
     "output_type": "stream",
     "text": [
      "/anaconda/envs/tensorflow/lib/python3.4/site-packages/sklearn/metrics/classification.py:1135: UndefinedMetricWarning: Precision and F-score are ill-defined and being set to 0.0 in labels with no predicted samples.\n",
      "  'precision', 'predicted', average, warn_for)\n",
      "[Parallel(n_jobs=-1)]: Done  42 tasks      | elapsed:   40.0s\n",
      "[Parallel(n_jobs=-1)]: Done 192 tasks      | elapsed:  2.8min\n",
      "[Parallel(n_jobs=-1)]: Done 300 out of 300 | elapsed:  4.1min finished\n"
     ]
    },
    {
     "name": "stdout",
     "output_type": "stream",
     "text": [
      "Iteration::  23\n",
      "Fitting 3 folds for each of 100 candidates, totalling 300 fits\n"
     ]
    },
    {
     "name": "stderr",
     "output_type": "stream",
     "text": [
      "/anaconda/envs/tensorflow/lib/python3.4/site-packages/sklearn/metrics/classification.py:1135: UndefinedMetricWarning: Precision and F-score are ill-defined and being set to 0.0 in labels with no predicted samples.\n",
      "  'precision', 'predicted', average, warn_for)\n",
      "[Parallel(n_jobs=-1)]: Done  42 tasks      | elapsed:   36.6s\n",
      "[Parallel(n_jobs=-1)]: Done 192 tasks      | elapsed:  2.7min\n",
      "[Parallel(n_jobs=-1)]: Done 300 out of 300 | elapsed:  4.2min finished\n"
     ]
    },
    {
     "name": "stdout",
     "output_type": "stream",
     "text": [
      "Iteration::  24\n",
      "Fitting 3 folds for each of 100 candidates, totalling 300 fits\n"
     ]
    },
    {
     "name": "stderr",
     "output_type": "stream",
     "text": [
      "/anaconda/envs/tensorflow/lib/python3.4/site-packages/sklearn/metrics/classification.py:1135: UndefinedMetricWarning: Precision and F-score are ill-defined and being set to 0.0 in labels with no predicted samples.\n",
      "  'precision', 'predicted', average, warn_for)\n",
      "[Parallel(n_jobs=-1)]: Done  42 tasks      | elapsed:   33.0s\n",
      "[Parallel(n_jobs=-1)]: Done 192 tasks      | elapsed:  2.8min\n",
      "[Parallel(n_jobs=-1)]: Done 300 out of 300 | elapsed:  4.6min finished\n"
     ]
    },
    {
     "name": "stdout",
     "output_type": "stream",
     "text": [
      "Iteration::  25\n",
      "Fitting 3 folds for each of 100 candidates, totalling 300 fits\n"
     ]
    },
    {
     "name": "stderr",
     "output_type": "stream",
     "text": [
      "/anaconda/envs/tensorflow/lib/python3.4/site-packages/sklearn/metrics/classification.py:1135: UndefinedMetricWarning: Precision and F-score are ill-defined and being set to 0.0 in labels with no predicted samples.\n",
      "  'precision', 'predicted', average, warn_for)\n",
      "[Parallel(n_jobs=-1)]: Done  42 tasks      | elapsed:   38.7s\n",
      "[Parallel(n_jobs=-1)]: Done 192 tasks      | elapsed:  2.9min\n",
      "[Parallel(n_jobs=-1)]: Done 300 out of 300 | elapsed:  4.4min finished\n"
     ]
    },
    {
     "name": "stdout",
     "output_type": "stream",
     "text": [
      "Iteration::  26\n",
      "Fitting 3 folds for each of 100 candidates, totalling 300 fits\n"
     ]
    },
    {
     "name": "stderr",
     "output_type": "stream",
     "text": [
      "/anaconda/envs/tensorflow/lib/python3.4/site-packages/sklearn/metrics/classification.py:1135: UndefinedMetricWarning: Precision and F-score are ill-defined and being set to 0.0 in labels with no predicted samples.\n",
      "  'precision', 'predicted', average, warn_for)\n",
      "[Parallel(n_jobs=-1)]: Done  42 tasks      | elapsed:   38.5s\n",
      "[Parallel(n_jobs=-1)]: Done 192 tasks      | elapsed:  2.7min\n",
      "[Parallel(n_jobs=-1)]: Done 300 out of 300 | elapsed:  4.3min finished\n"
     ]
    },
    {
     "name": "stdout",
     "output_type": "stream",
     "text": [
      "Iteration::  27\n",
      "Fitting 3 folds for each of 100 candidates, totalling 300 fits\n"
     ]
    },
    {
     "name": "stderr",
     "output_type": "stream",
     "text": [
      "/anaconda/envs/tensorflow/lib/python3.4/site-packages/sklearn/metrics/classification.py:1135: UndefinedMetricWarning: Precision and F-score are ill-defined and being set to 0.0 in labels with no predicted samples.\n",
      "  'precision', 'predicted', average, warn_for)\n",
      "[Parallel(n_jobs=-1)]: Done  42 tasks      | elapsed:   33.0s\n",
      "[Parallel(n_jobs=-1)]: Done 192 tasks      | elapsed:  2.5min\n",
      "[Parallel(n_jobs=-1)]: Done 300 out of 300 | elapsed:  4.1min finished\n"
     ]
    },
    {
     "name": "stdout",
     "output_type": "stream",
     "text": [
      "Iteration::  28\n",
      "Fitting 3 folds for each of 100 candidates, totalling 300 fits\n"
     ]
    },
    {
     "name": "stderr",
     "output_type": "stream",
     "text": [
      "/anaconda/envs/tensorflow/lib/python3.4/site-packages/sklearn/metrics/classification.py:1135: UndefinedMetricWarning: Precision and F-score are ill-defined and being set to 0.0 in labels with no predicted samples.\n",
      "  'precision', 'predicted', average, warn_for)\n",
      "[Parallel(n_jobs=-1)]: Done  42 tasks      | elapsed:   31.4s\n",
      "[Parallel(n_jobs=-1)]: Done 192 tasks      | elapsed:  3.0min\n",
      "[Parallel(n_jobs=-1)]: Done 300 out of 300 | elapsed:  4.7min finished\n"
     ]
    },
    {
     "name": "stdout",
     "output_type": "stream",
     "text": [
      "Iteration::  29\n",
      "Fitting 3 folds for each of 100 candidates, totalling 300 fits\n"
     ]
    },
    {
     "name": "stderr",
     "output_type": "stream",
     "text": [
      "/anaconda/envs/tensorflow/lib/python3.4/site-packages/sklearn/metrics/classification.py:1135: UndefinedMetricWarning: Precision and F-score are ill-defined and being set to 0.0 in labels with no predicted samples.\n",
      "  'precision', 'predicted', average, warn_for)\n",
      "[Parallel(n_jobs=-1)]: Done  42 tasks      | elapsed:   35.1s\n",
      "[Parallel(n_jobs=-1)]: Done 192 tasks      | elapsed:  2.7min\n",
      "[Parallel(n_jobs=-1)]: Done 300 out of 300 | elapsed:  4.3min finished\n"
     ]
    }
   ],
   "source": [
    "niter = 30\n",
    "results = []\n",
    "train_acc = []\n",
    "test_acc = []\n",
    "train_report =[]\n",
    "class_report = []\n",
    "selected_params = []\n",
    "cm = [] # confusion matrix\n",
    "feature_importance = []\n",
    "col_names = range(1,1211)\n",
    "\n",
    "for i in range(niter):\n",
    "    print(\"Iteration:: \", i)\n",
    "    sss = StratifiedShuffleSplit(n_splits=3, test_size=0.2, random_state=42)\n",
    "    sss.get_n_splits(sig_features, sig_labels)\n",
    "\n",
    "    for train_index, test_index in sss.split(sig_features, sig_labels):\n",
    "        train_x, test_x = sig_features[train_index], sig_features[test_index]\n",
    "        train_y, test_y = sig_labels[train_index], sig_labels[test_index]\n",
    "\n",
    "    rf = RandomForestClassifier()\n",
    "    rf_random = RandomizedSearchCV(estimator=rf, param_distributions=random_grid, n_iter=100, cv=3, verbose=1, n_jobs=-1)\n",
    "\n",
    "    rf_random.fit(train_x, train_y)\n",
    "    predictions = rf_random.predict(test_x)\n",
    "    \n",
    "    selected_params.append(rf_random.best_params_)\n",
    "    train_acc.append(accuracy_score(train_y, rf_random.predict(train_x)))\n",
    "    test_acc.append(accuracy_score(test_y, predictions))\n",
    "    cm.append(confusion_matrix(test_y, predictions, labels=test_y))\n",
    "    class_report.append(classification_report(test_y, predictions, target_names=list(labels_dict.values())))\n",
    "    feature_importance.append(pd.DataFrame(data=sorted(zip(map(lambda x: round(x, 4), \n",
    "                                                               rf_random.best_estimator_.feature_importances_), \n",
    "                                                           col_names), reverse=True)))"
   ]
  },
  {
   "cell_type": "markdown",
   "metadata": {},
   "source": [
    "## Results"
   ]
  },
  {
   "cell_type": "code",
   "execution_count": 7,
   "metadata": {
    "collapsed": false
   },
   "outputs": [],
   "source": [
    "np.savetxt(\"dsttrainacc.csv\",train_acc,delimiter=\",\")\n",
    "np.savetxt(\"dsttestacc.csv\",test_acc,delimiter=\",\")"
   ]
  },
  {
   "cell_type": "code",
   "execution_count": 8,
   "metadata": {
    "collapsed": false
   },
   "outputs": [],
   "source": [
    "np.savetxt('dstselected_params.txt',selected_params,fmt='%s',delimiter='\\n')\n",
    "np.savetxt(\"dstclassreport.txt\",class_report,fmt='%s',delimiter='\\n')\n",
    "\n",
    "import pickle\n",
    "with open('dstcm.txt', 'wb') as fp:\n",
    "    pickle.dump(cm, fp)\n",
    "with open('dstfeatimportance.txt', 'wb') as fp:\n",
    "    pickle.dump(feature_importance, fp)"
   ]
  },
  {
   "cell_type": "code",
   "execution_count": 9,
   "metadata": {
    "collapsed": false
   },
   "outputs": [
    {
     "data": {
      "application/javascript": [
       "/* Put everything inside the global mpl namespace */\n",
       "window.mpl = {};\n",
       "\n",
       "\n",
       "mpl.get_websocket_type = function() {\n",
       "    if (typeof(WebSocket) !== 'undefined') {\n",
       "        return WebSocket;\n",
       "    } else if (typeof(MozWebSocket) !== 'undefined') {\n",
       "        return MozWebSocket;\n",
       "    } else {\n",
       "        alert('Your browser does not have WebSocket support.' +\n",
       "              'Please try Chrome, Safari or Firefox ≥ 6. ' +\n",
       "              'Firefox 4 and 5 are also supported but you ' +\n",
       "              'have to enable WebSockets in about:config.');\n",
       "    };\n",
       "}\n",
       "\n",
       "mpl.figure = function(figure_id, websocket, ondownload, parent_element) {\n",
       "    this.id = figure_id;\n",
       "\n",
       "    this.ws = websocket;\n",
       "\n",
       "    this.supports_binary = (this.ws.binaryType != undefined);\n",
       "\n",
       "    if (!this.supports_binary) {\n",
       "        var warnings = document.getElementById(\"mpl-warnings\");\n",
       "        if (warnings) {\n",
       "            warnings.style.display = 'block';\n",
       "            warnings.textContent = (\n",
       "                \"This browser does not support binary websocket messages. \" +\n",
       "                    \"Performance may be slow.\");\n",
       "        }\n",
       "    }\n",
       "\n",
       "    this.imageObj = new Image();\n",
       "\n",
       "    this.context = undefined;\n",
       "    this.message = undefined;\n",
       "    this.canvas = undefined;\n",
       "    this.rubberband_canvas = undefined;\n",
       "    this.rubberband_context = undefined;\n",
       "    this.format_dropdown = undefined;\n",
       "\n",
       "    this.image_mode = 'full';\n",
       "\n",
       "    this.root = $('<div/>');\n",
       "    this._root_extra_style(this.root)\n",
       "    this.root.attr('style', 'display: inline-block');\n",
       "\n",
       "    $(parent_element).append(this.root);\n",
       "\n",
       "    this._init_header(this);\n",
       "    this._init_canvas(this);\n",
       "    this._init_toolbar(this);\n",
       "\n",
       "    var fig = this;\n",
       "\n",
       "    this.waiting = false;\n",
       "\n",
       "    this.ws.onopen =  function () {\n",
       "            fig.send_message(\"supports_binary\", {value: fig.supports_binary});\n",
       "            fig.send_message(\"send_image_mode\", {});\n",
       "            if (mpl.ratio != 1) {\n",
       "                fig.send_message(\"set_dpi_ratio\", {'dpi_ratio': mpl.ratio});\n",
       "            }\n",
       "            fig.send_message(\"refresh\", {});\n",
       "        }\n",
       "\n",
       "    this.imageObj.onload = function() {\n",
       "            if (fig.image_mode == 'full') {\n",
       "                // Full images could contain transparency (where diff images\n",
       "                // almost always do), so we need to clear the canvas so that\n",
       "                // there is no ghosting.\n",
       "                fig.context.clearRect(0, 0, fig.canvas.width, fig.canvas.height);\n",
       "            }\n",
       "            fig.context.drawImage(fig.imageObj, 0, 0);\n",
       "        };\n",
       "\n",
       "    this.imageObj.onunload = function() {\n",
       "        fig.ws.close();\n",
       "    }\n",
       "\n",
       "    this.ws.onmessage = this._make_on_message_function(this);\n",
       "\n",
       "    this.ondownload = ondownload;\n",
       "}\n",
       "\n",
       "mpl.figure.prototype._init_header = function() {\n",
       "    var titlebar = $(\n",
       "        '<div class=\"ui-dialog-titlebar ui-widget-header ui-corner-all ' +\n",
       "        'ui-helper-clearfix\"/>');\n",
       "    var titletext = $(\n",
       "        '<div class=\"ui-dialog-title\" style=\"width: 100%; ' +\n",
       "        'text-align: center; padding: 3px;\"/>');\n",
       "    titlebar.append(titletext)\n",
       "    this.root.append(titlebar);\n",
       "    this.header = titletext[0];\n",
       "}\n",
       "\n",
       "\n",
       "\n",
       "mpl.figure.prototype._canvas_extra_style = function(canvas_div) {\n",
       "\n",
       "}\n",
       "\n",
       "\n",
       "mpl.figure.prototype._root_extra_style = function(canvas_div) {\n",
       "\n",
       "}\n",
       "\n",
       "mpl.figure.prototype._init_canvas = function() {\n",
       "    var fig = this;\n",
       "\n",
       "    var canvas_div = $('<div/>');\n",
       "\n",
       "    canvas_div.attr('style', 'position: relative; clear: both; outline: 0');\n",
       "\n",
       "    function canvas_keyboard_event(event) {\n",
       "        return fig.key_event(event, event['data']);\n",
       "    }\n",
       "\n",
       "    canvas_div.keydown('key_press', canvas_keyboard_event);\n",
       "    canvas_div.keyup('key_release', canvas_keyboard_event);\n",
       "    this.canvas_div = canvas_div\n",
       "    this._canvas_extra_style(canvas_div)\n",
       "    this.root.append(canvas_div);\n",
       "\n",
       "    var canvas = $('<canvas/>');\n",
       "    canvas.addClass('mpl-canvas');\n",
       "    canvas.attr('style', \"left: 0; top: 0; z-index: 0; outline: 0\")\n",
       "\n",
       "    this.canvas = canvas[0];\n",
       "    this.context = canvas[0].getContext(\"2d\");\n",
       "\n",
       "    var backingStore = this.context.backingStorePixelRatio ||\n",
       "\tthis.context.webkitBackingStorePixelRatio ||\n",
       "\tthis.context.mozBackingStorePixelRatio ||\n",
       "\tthis.context.msBackingStorePixelRatio ||\n",
       "\tthis.context.oBackingStorePixelRatio ||\n",
       "\tthis.context.backingStorePixelRatio || 1;\n",
       "\n",
       "    mpl.ratio = (window.devicePixelRatio || 1) / backingStore;\n",
       "\n",
       "    var rubberband = $('<canvas/>');\n",
       "    rubberband.attr('style', \"position: absolute; left: 0; top: 0; z-index: 1;\")\n",
       "\n",
       "    var pass_mouse_events = true;\n",
       "\n",
       "    canvas_div.resizable({\n",
       "        start: function(event, ui) {\n",
       "            pass_mouse_events = false;\n",
       "        },\n",
       "        resize: function(event, ui) {\n",
       "            fig.request_resize(ui.size.width, ui.size.height);\n",
       "        },\n",
       "        stop: function(event, ui) {\n",
       "            pass_mouse_events = true;\n",
       "            fig.request_resize(ui.size.width, ui.size.height);\n",
       "        },\n",
       "    });\n",
       "\n",
       "    function mouse_event_fn(event) {\n",
       "        if (pass_mouse_events)\n",
       "            return fig.mouse_event(event, event['data']);\n",
       "    }\n",
       "\n",
       "    rubberband.mousedown('button_press', mouse_event_fn);\n",
       "    rubberband.mouseup('button_release', mouse_event_fn);\n",
       "    // Throttle sequential mouse events to 1 every 20ms.\n",
       "    rubberband.mousemove('motion_notify', mouse_event_fn);\n",
       "\n",
       "    rubberband.mouseenter('figure_enter', mouse_event_fn);\n",
       "    rubberband.mouseleave('figure_leave', mouse_event_fn);\n",
       "\n",
       "    canvas_div.on(\"wheel\", function (event) {\n",
       "        event = event.originalEvent;\n",
       "        event['data'] = 'scroll'\n",
       "        if (event.deltaY < 0) {\n",
       "            event.step = 1;\n",
       "        } else {\n",
       "            event.step = -1;\n",
       "        }\n",
       "        mouse_event_fn(event);\n",
       "    });\n",
       "\n",
       "    canvas_div.append(canvas);\n",
       "    canvas_div.append(rubberband);\n",
       "\n",
       "    this.rubberband = rubberband;\n",
       "    this.rubberband_canvas = rubberband[0];\n",
       "    this.rubberband_context = rubberband[0].getContext(\"2d\");\n",
       "    this.rubberband_context.strokeStyle = \"#000000\";\n",
       "\n",
       "    this._resize_canvas = function(width, height) {\n",
       "        // Keep the size of the canvas, canvas container, and rubber band\n",
       "        // canvas in synch.\n",
       "        canvas_div.css('width', width)\n",
       "        canvas_div.css('height', height)\n",
       "\n",
       "        canvas.attr('width', width * mpl.ratio);\n",
       "        canvas.attr('height', height * mpl.ratio);\n",
       "        canvas.attr('style', 'width: ' + width + 'px; height: ' + height + 'px;');\n",
       "\n",
       "        rubberband.attr('width', width);\n",
       "        rubberband.attr('height', height);\n",
       "    }\n",
       "\n",
       "    // Set the figure to an initial 600x600px, this will subsequently be updated\n",
       "    // upon first draw.\n",
       "    this._resize_canvas(600, 600);\n",
       "\n",
       "    // Disable right mouse context menu.\n",
       "    $(this.rubberband_canvas).bind(\"contextmenu\",function(e){\n",
       "        return false;\n",
       "    });\n",
       "\n",
       "    function set_focus () {\n",
       "        canvas.focus();\n",
       "        canvas_div.focus();\n",
       "    }\n",
       "\n",
       "    window.setTimeout(set_focus, 100);\n",
       "}\n",
       "\n",
       "mpl.figure.prototype._init_toolbar = function() {\n",
       "    var fig = this;\n",
       "\n",
       "    var nav_element = $('<div/>')\n",
       "    nav_element.attr('style', 'width: 100%');\n",
       "    this.root.append(nav_element);\n",
       "\n",
       "    // Define a callback function for later on.\n",
       "    function toolbar_event(event) {\n",
       "        return fig.toolbar_button_onclick(event['data']);\n",
       "    }\n",
       "    function toolbar_mouse_event(event) {\n",
       "        return fig.toolbar_button_onmouseover(event['data']);\n",
       "    }\n",
       "\n",
       "    for(var toolbar_ind in mpl.toolbar_items) {\n",
       "        var name = mpl.toolbar_items[toolbar_ind][0];\n",
       "        var tooltip = mpl.toolbar_items[toolbar_ind][1];\n",
       "        var image = mpl.toolbar_items[toolbar_ind][2];\n",
       "        var method_name = mpl.toolbar_items[toolbar_ind][3];\n",
       "\n",
       "        if (!name) {\n",
       "            // put a spacer in here.\n",
       "            continue;\n",
       "        }\n",
       "        var button = $('<button/>');\n",
       "        button.addClass('ui-button ui-widget ui-state-default ui-corner-all ' +\n",
       "                        'ui-button-icon-only');\n",
       "        button.attr('role', 'button');\n",
       "        button.attr('aria-disabled', 'false');\n",
       "        button.click(method_name, toolbar_event);\n",
       "        button.mouseover(tooltip, toolbar_mouse_event);\n",
       "\n",
       "        var icon_img = $('<span/>');\n",
       "        icon_img.addClass('ui-button-icon-primary ui-icon');\n",
       "        icon_img.addClass(image);\n",
       "        icon_img.addClass('ui-corner-all');\n",
       "\n",
       "        var tooltip_span = $('<span/>');\n",
       "        tooltip_span.addClass('ui-button-text');\n",
       "        tooltip_span.html(tooltip);\n",
       "\n",
       "        button.append(icon_img);\n",
       "        button.append(tooltip_span);\n",
       "\n",
       "        nav_element.append(button);\n",
       "    }\n",
       "\n",
       "    var fmt_picker_span = $('<span/>');\n",
       "\n",
       "    var fmt_picker = $('<select/>');\n",
       "    fmt_picker.addClass('mpl-toolbar-option ui-widget ui-widget-content');\n",
       "    fmt_picker_span.append(fmt_picker);\n",
       "    nav_element.append(fmt_picker_span);\n",
       "    this.format_dropdown = fmt_picker[0];\n",
       "\n",
       "    for (var ind in mpl.extensions) {\n",
       "        var fmt = mpl.extensions[ind];\n",
       "        var option = $(\n",
       "            '<option/>', {selected: fmt === mpl.default_extension}).html(fmt);\n",
       "        fmt_picker.append(option)\n",
       "    }\n",
       "\n",
       "    // Add hover states to the ui-buttons\n",
       "    $( \".ui-button\" ).hover(\n",
       "        function() { $(this).addClass(\"ui-state-hover\");},\n",
       "        function() { $(this).removeClass(\"ui-state-hover\");}\n",
       "    );\n",
       "\n",
       "    var status_bar = $('<span class=\"mpl-message\"/>');\n",
       "    nav_element.append(status_bar);\n",
       "    this.message = status_bar[0];\n",
       "}\n",
       "\n",
       "mpl.figure.prototype.request_resize = function(x_pixels, y_pixels) {\n",
       "    // Request matplotlib to resize the figure. Matplotlib will then trigger a resize in the client,\n",
       "    // which will in turn request a refresh of the image.\n",
       "    this.send_message('resize', {'width': x_pixels, 'height': y_pixels});\n",
       "}\n",
       "\n",
       "mpl.figure.prototype.send_message = function(type, properties) {\n",
       "    properties['type'] = type;\n",
       "    properties['figure_id'] = this.id;\n",
       "    this.ws.send(JSON.stringify(properties));\n",
       "}\n",
       "\n",
       "mpl.figure.prototype.send_draw_message = function() {\n",
       "    if (!this.waiting) {\n",
       "        this.waiting = true;\n",
       "        this.ws.send(JSON.stringify({type: \"draw\", figure_id: this.id}));\n",
       "    }\n",
       "}\n",
       "\n",
       "\n",
       "mpl.figure.prototype.handle_save = function(fig, msg) {\n",
       "    var format_dropdown = fig.format_dropdown;\n",
       "    var format = format_dropdown.options[format_dropdown.selectedIndex].value;\n",
       "    fig.ondownload(fig, format);\n",
       "}\n",
       "\n",
       "\n",
       "mpl.figure.prototype.handle_resize = function(fig, msg) {\n",
       "    var size = msg['size'];\n",
       "    if (size[0] != fig.canvas.width || size[1] != fig.canvas.height) {\n",
       "        fig._resize_canvas(size[0], size[1]);\n",
       "        fig.send_message(\"refresh\", {});\n",
       "    };\n",
       "}\n",
       "\n",
       "mpl.figure.prototype.handle_rubberband = function(fig, msg) {\n",
       "    var x0 = msg['x0'] / mpl.ratio;\n",
       "    var y0 = (fig.canvas.height - msg['y0']) / mpl.ratio;\n",
       "    var x1 = msg['x1'] / mpl.ratio;\n",
       "    var y1 = (fig.canvas.height - msg['y1']) / mpl.ratio;\n",
       "    x0 = Math.floor(x0) + 0.5;\n",
       "    y0 = Math.floor(y0) + 0.5;\n",
       "    x1 = Math.floor(x1) + 0.5;\n",
       "    y1 = Math.floor(y1) + 0.5;\n",
       "    var min_x = Math.min(x0, x1);\n",
       "    var min_y = Math.min(y0, y1);\n",
       "    var width = Math.abs(x1 - x0);\n",
       "    var height = Math.abs(y1 - y0);\n",
       "\n",
       "    fig.rubberband_context.clearRect(\n",
       "        0, 0, fig.canvas.width, fig.canvas.height);\n",
       "\n",
       "    fig.rubberband_context.strokeRect(min_x, min_y, width, height);\n",
       "}\n",
       "\n",
       "mpl.figure.prototype.handle_figure_label = function(fig, msg) {\n",
       "    // Updates the figure title.\n",
       "    fig.header.textContent = msg['label'];\n",
       "}\n",
       "\n",
       "mpl.figure.prototype.handle_cursor = function(fig, msg) {\n",
       "    var cursor = msg['cursor'];\n",
       "    switch(cursor)\n",
       "    {\n",
       "    case 0:\n",
       "        cursor = 'pointer';\n",
       "        break;\n",
       "    case 1:\n",
       "        cursor = 'default';\n",
       "        break;\n",
       "    case 2:\n",
       "        cursor = 'crosshair';\n",
       "        break;\n",
       "    case 3:\n",
       "        cursor = 'move';\n",
       "        break;\n",
       "    }\n",
       "    fig.rubberband_canvas.style.cursor = cursor;\n",
       "}\n",
       "\n",
       "mpl.figure.prototype.handle_message = function(fig, msg) {\n",
       "    fig.message.textContent = msg['message'];\n",
       "}\n",
       "\n",
       "mpl.figure.prototype.handle_draw = function(fig, msg) {\n",
       "    // Request the server to send over a new figure.\n",
       "    fig.send_draw_message();\n",
       "}\n",
       "\n",
       "mpl.figure.prototype.handle_image_mode = function(fig, msg) {\n",
       "    fig.image_mode = msg['mode'];\n",
       "}\n",
       "\n",
       "mpl.figure.prototype.updated_canvas_event = function() {\n",
       "    // Called whenever the canvas gets updated.\n",
       "    this.send_message(\"ack\", {});\n",
       "}\n",
       "\n",
       "// A function to construct a web socket function for onmessage handling.\n",
       "// Called in the figure constructor.\n",
       "mpl.figure.prototype._make_on_message_function = function(fig) {\n",
       "    return function socket_on_message(evt) {\n",
       "        if (evt.data instanceof Blob) {\n",
       "            /* FIXME: We get \"Resource interpreted as Image but\n",
       "             * transferred with MIME type text/plain:\" errors on\n",
       "             * Chrome.  But how to set the MIME type?  It doesn't seem\n",
       "             * to be part of the websocket stream */\n",
       "            evt.data.type = \"image/png\";\n",
       "\n",
       "            /* Free the memory for the previous frames */\n",
       "            if (fig.imageObj.src) {\n",
       "                (window.URL || window.webkitURL).revokeObjectURL(\n",
       "                    fig.imageObj.src);\n",
       "            }\n",
       "\n",
       "            fig.imageObj.src = (window.URL || window.webkitURL).createObjectURL(\n",
       "                evt.data);\n",
       "            fig.updated_canvas_event();\n",
       "            fig.waiting = false;\n",
       "            return;\n",
       "        }\n",
       "        else if (typeof evt.data === 'string' && evt.data.slice(0, 21) == \"data:image/png;base64\") {\n",
       "            fig.imageObj.src = evt.data;\n",
       "            fig.updated_canvas_event();\n",
       "            fig.waiting = false;\n",
       "            return;\n",
       "        }\n",
       "\n",
       "        var msg = JSON.parse(evt.data);\n",
       "        var msg_type = msg['type'];\n",
       "\n",
       "        // Call the  \"handle_{type}\" callback, which takes\n",
       "        // the figure and JSON message as its only arguments.\n",
       "        try {\n",
       "            var callback = fig[\"handle_\" + msg_type];\n",
       "        } catch (e) {\n",
       "            console.log(\"No handler for the '\" + msg_type + \"' message type: \", msg);\n",
       "            return;\n",
       "        }\n",
       "\n",
       "        if (callback) {\n",
       "            try {\n",
       "                // console.log(\"Handling '\" + msg_type + \"' message: \", msg);\n",
       "                callback(fig, msg);\n",
       "            } catch (e) {\n",
       "                console.log(\"Exception inside the 'handler_\" + msg_type + \"' callback:\", e, e.stack, msg);\n",
       "            }\n",
       "        }\n",
       "    };\n",
       "}\n",
       "\n",
       "// from http://stackoverflow.com/questions/1114465/getting-mouse-location-in-canvas\n",
       "mpl.findpos = function(e) {\n",
       "    //this section is from http://www.quirksmode.org/js/events_properties.html\n",
       "    var targ;\n",
       "    if (!e)\n",
       "        e = window.event;\n",
       "    if (e.target)\n",
       "        targ = e.target;\n",
       "    else if (e.srcElement)\n",
       "        targ = e.srcElement;\n",
       "    if (targ.nodeType == 3) // defeat Safari bug\n",
       "        targ = targ.parentNode;\n",
       "\n",
       "    // jQuery normalizes the pageX and pageY\n",
       "    // pageX,Y are the mouse positions relative to the document\n",
       "    // offset() returns the position of the element relative to the document\n",
       "    var x = e.pageX - $(targ).offset().left;\n",
       "    var y = e.pageY - $(targ).offset().top;\n",
       "\n",
       "    return {\"x\": x, \"y\": y};\n",
       "};\n",
       "\n",
       "/*\n",
       " * return a copy of an object with only non-object keys\n",
       " * we need this to avoid circular references\n",
       " * http://stackoverflow.com/a/24161582/3208463\n",
       " */\n",
       "function simpleKeys (original) {\n",
       "  return Object.keys(original).reduce(function (obj, key) {\n",
       "    if (typeof original[key] !== 'object')\n",
       "        obj[key] = original[key]\n",
       "    return obj;\n",
       "  }, {});\n",
       "}\n",
       "\n",
       "mpl.figure.prototype.mouse_event = function(event, name) {\n",
       "    var canvas_pos = mpl.findpos(event)\n",
       "\n",
       "    if (name === 'button_press')\n",
       "    {\n",
       "        this.canvas.focus();\n",
       "        this.canvas_div.focus();\n",
       "    }\n",
       "\n",
       "    var x = canvas_pos.x * mpl.ratio;\n",
       "    var y = canvas_pos.y * mpl.ratio;\n",
       "\n",
       "    this.send_message(name, {x: x, y: y, button: event.button,\n",
       "                             step: event.step,\n",
       "                             guiEvent: simpleKeys(event)});\n",
       "\n",
       "    /* This prevents the web browser from automatically changing to\n",
       "     * the text insertion cursor when the button is pressed.  We want\n",
       "     * to control all of the cursor setting manually through the\n",
       "     * 'cursor' event from matplotlib */\n",
       "    event.preventDefault();\n",
       "    return false;\n",
       "}\n",
       "\n",
       "mpl.figure.prototype._key_event_extra = function(event, name) {\n",
       "    // Handle any extra behaviour associated with a key event\n",
       "}\n",
       "\n",
       "mpl.figure.prototype.key_event = function(event, name) {\n",
       "\n",
       "    // Prevent repeat events\n",
       "    if (name == 'key_press')\n",
       "    {\n",
       "        if (event.which === this._key)\n",
       "            return;\n",
       "        else\n",
       "            this._key = event.which;\n",
       "    }\n",
       "    if (name == 'key_release')\n",
       "        this._key = null;\n",
       "\n",
       "    var value = '';\n",
       "    if (event.ctrlKey && event.which != 17)\n",
       "        value += \"ctrl+\";\n",
       "    if (event.altKey && event.which != 18)\n",
       "        value += \"alt+\";\n",
       "    if (event.shiftKey && event.which != 16)\n",
       "        value += \"shift+\";\n",
       "\n",
       "    value += 'k';\n",
       "    value += event.which.toString();\n",
       "\n",
       "    this._key_event_extra(event, name);\n",
       "\n",
       "    this.send_message(name, {key: value,\n",
       "                             guiEvent: simpleKeys(event)});\n",
       "    return false;\n",
       "}\n",
       "\n",
       "mpl.figure.prototype.toolbar_button_onclick = function(name) {\n",
       "    if (name == 'download') {\n",
       "        this.handle_save(this, null);\n",
       "    } else {\n",
       "        this.send_message(\"toolbar_button\", {name: name});\n",
       "    }\n",
       "};\n",
       "\n",
       "mpl.figure.prototype.toolbar_button_onmouseover = function(tooltip) {\n",
       "    this.message.textContent = tooltip;\n",
       "};\n",
       "mpl.toolbar_items = [[\"Home\", \"Reset original view\", \"fa fa-home icon-home\", \"home\"], [\"Back\", \"Back to  previous view\", \"fa fa-arrow-left icon-arrow-left\", \"back\"], [\"Forward\", \"Forward to next view\", \"fa fa-arrow-right icon-arrow-right\", \"forward\"], [\"\", \"\", \"\", \"\"], [\"Pan\", \"Pan axes with left mouse, zoom with right\", \"fa fa-arrows icon-move\", \"pan\"], [\"Zoom\", \"Zoom to rectangle\", \"fa fa-square-o icon-check-empty\", \"zoom\"], [\"\", \"\", \"\", \"\"], [\"Download\", \"Download plot\", \"fa fa-floppy-o icon-save\", \"download\"]];\n",
       "\n",
       "mpl.extensions = [\"eps\", \"pdf\", \"png\", \"ps\", \"raw\", \"svg\"];\n",
       "\n",
       "mpl.default_extension = \"png\";var comm_websocket_adapter = function(comm) {\n",
       "    // Create a \"websocket\"-like object which calls the given IPython comm\n",
       "    // object with the appropriate methods. Currently this is a non binary\n",
       "    // socket, so there is still some room for performance tuning.\n",
       "    var ws = {};\n",
       "\n",
       "    ws.close = function() {\n",
       "        comm.close()\n",
       "    };\n",
       "    ws.send = function(m) {\n",
       "        //console.log('sending', m);\n",
       "        comm.send(m);\n",
       "    };\n",
       "    // Register the callback with on_msg.\n",
       "    comm.on_msg(function(msg) {\n",
       "        //console.log('receiving', msg['content']['data'], msg);\n",
       "        // Pass the mpl event to the overridden (by mpl) onmessage function.\n",
       "        ws.onmessage(msg['content']['data'])\n",
       "    });\n",
       "    return ws;\n",
       "}\n",
       "\n",
       "mpl.mpl_figure_comm = function(comm, msg) {\n",
       "    // This is the function which gets called when the mpl process\n",
       "    // starts-up an IPython Comm through the \"matplotlib\" channel.\n",
       "\n",
       "    var id = msg.content.data.id;\n",
       "    // Get hold of the div created by the display call when the Comm\n",
       "    // socket was opened in Python.\n",
       "    var element = $(\"#\" + id);\n",
       "    var ws_proxy = comm_websocket_adapter(comm)\n",
       "\n",
       "    function ondownload(figure, format) {\n",
       "        window.open(figure.imageObj.src);\n",
       "    }\n",
       "\n",
       "    var fig = new mpl.figure(id, ws_proxy,\n",
       "                           ondownload,\n",
       "                           element.get(0));\n",
       "\n",
       "    // Call onopen now - mpl needs it, as it is assuming we've passed it a real\n",
       "    // web socket which is closed, not our websocket->open comm proxy.\n",
       "    ws_proxy.onopen();\n",
       "\n",
       "    fig.parent_element = element.get(0);\n",
       "    fig.cell_info = mpl.find_output_cell(\"<div id='\" + id + \"'></div>\");\n",
       "    if (!fig.cell_info) {\n",
       "        console.error(\"Failed to find cell for figure\", id, fig);\n",
       "        return;\n",
       "    }\n",
       "\n",
       "    var output_index = fig.cell_info[2]\n",
       "    var cell = fig.cell_info[0];\n",
       "\n",
       "};\n",
       "\n",
       "mpl.figure.prototype.handle_close = function(fig, msg) {\n",
       "    var width = fig.canvas.width/mpl.ratio\n",
       "    fig.root.unbind('remove')\n",
       "\n",
       "    // Update the output cell to use the data from the current canvas.\n",
       "    fig.push_to_output();\n",
       "    var dataURL = fig.canvas.toDataURL();\n",
       "    // Re-enable the keyboard manager in IPython - without this line, in FF,\n",
       "    // the notebook keyboard shortcuts fail.\n",
       "    IPython.keyboard_manager.enable()\n",
       "    $(fig.parent_element).html('<img src=\"' + dataURL + '\" width=\"' + width + '\">');\n",
       "    fig.close_ws(fig, msg);\n",
       "}\n",
       "\n",
       "mpl.figure.prototype.close_ws = function(fig, msg){\n",
       "    fig.send_message('closing', msg);\n",
       "    // fig.ws.close()\n",
       "}\n",
       "\n",
       "mpl.figure.prototype.push_to_output = function(remove_interactive) {\n",
       "    // Turn the data on the canvas into data in the output cell.\n",
       "    var width = this.canvas.width/mpl.ratio\n",
       "    var dataURL = this.canvas.toDataURL();\n",
       "    this.cell_info[1]['text/html'] = '<img src=\"' + dataURL + '\" width=\"' + width + '\">';\n",
       "}\n",
       "\n",
       "mpl.figure.prototype.updated_canvas_event = function() {\n",
       "    // Tell IPython that the notebook contents must change.\n",
       "    IPython.notebook.set_dirty(true);\n",
       "    this.send_message(\"ack\", {});\n",
       "    var fig = this;\n",
       "    // Wait a second, then push the new image to the DOM so\n",
       "    // that it is saved nicely (might be nice to debounce this).\n",
       "    setTimeout(function () { fig.push_to_output() }, 1000);\n",
       "}\n",
       "\n",
       "mpl.figure.prototype._init_toolbar = function() {\n",
       "    var fig = this;\n",
       "\n",
       "    var nav_element = $('<div/>')\n",
       "    nav_element.attr('style', 'width: 100%');\n",
       "    this.root.append(nav_element);\n",
       "\n",
       "    // Define a callback function for later on.\n",
       "    function toolbar_event(event) {\n",
       "        return fig.toolbar_button_onclick(event['data']);\n",
       "    }\n",
       "    function toolbar_mouse_event(event) {\n",
       "        return fig.toolbar_button_onmouseover(event['data']);\n",
       "    }\n",
       "\n",
       "    for(var toolbar_ind in mpl.toolbar_items){\n",
       "        var name = mpl.toolbar_items[toolbar_ind][0];\n",
       "        var tooltip = mpl.toolbar_items[toolbar_ind][1];\n",
       "        var image = mpl.toolbar_items[toolbar_ind][2];\n",
       "        var method_name = mpl.toolbar_items[toolbar_ind][3];\n",
       "\n",
       "        if (!name) { continue; };\n",
       "\n",
       "        var button = $('<button class=\"btn btn-default\" href=\"#\" title=\"' + name + '\"><i class=\"fa ' + image + ' fa-lg\"></i></button>');\n",
       "        button.click(method_name, toolbar_event);\n",
       "        button.mouseover(tooltip, toolbar_mouse_event);\n",
       "        nav_element.append(button);\n",
       "    }\n",
       "\n",
       "    // Add the status bar.\n",
       "    var status_bar = $('<span class=\"mpl-message\" style=\"text-align:right; float: right;\"/>');\n",
       "    nav_element.append(status_bar);\n",
       "    this.message = status_bar[0];\n",
       "\n",
       "    // Add the close button to the window.\n",
       "    var buttongrp = $('<div class=\"btn-group inline pull-right\"></div>');\n",
       "    var button = $('<button class=\"btn btn-mini btn-primary\" href=\"#\" title=\"Stop Interaction\"><i class=\"fa fa-power-off icon-remove icon-large\"></i></button>');\n",
       "    button.click(function (evt) { fig.handle_close(fig, {}); } );\n",
       "    button.mouseover('Stop Interaction', toolbar_mouse_event);\n",
       "    buttongrp.append(button);\n",
       "    var titlebar = this.root.find($('.ui-dialog-titlebar'));\n",
       "    titlebar.prepend(buttongrp);\n",
       "}\n",
       "\n",
       "mpl.figure.prototype._root_extra_style = function(el){\n",
       "    var fig = this\n",
       "    el.on(\"remove\", function(){\n",
       "\tfig.close_ws(fig, {});\n",
       "    });\n",
       "}\n",
       "\n",
       "mpl.figure.prototype._canvas_extra_style = function(el){\n",
       "    // this is important to make the div 'focusable\n",
       "    el.attr('tabindex', 0)\n",
       "    // reach out to IPython and tell the keyboard manager to turn it's self\n",
       "    // off when our div gets focus\n",
       "\n",
       "    // location in version 3\n",
       "    if (IPython.notebook.keyboard_manager) {\n",
       "        IPython.notebook.keyboard_manager.register_events(el);\n",
       "    }\n",
       "    else {\n",
       "        // location in version 2\n",
       "        IPython.keyboard_manager.register_events(el);\n",
       "    }\n",
       "\n",
       "}\n",
       "\n",
       "mpl.figure.prototype._key_event_extra = function(event, name) {\n",
       "    var manager = IPython.notebook.keyboard_manager;\n",
       "    if (!manager)\n",
       "        manager = IPython.keyboard_manager;\n",
       "\n",
       "    // Check for shift+enter\n",
       "    if (event.shiftKey && event.which == 13) {\n",
       "        this.canvas_div.blur();\n",
       "        event.shiftKey = false;\n",
       "        // Send a \"J\" for go to next cell\n",
       "        event.which = 74;\n",
       "        event.keyCode = 74;\n",
       "        manager.command_mode();\n",
       "        manager.handle_keydown(event);\n",
       "    }\n",
       "}\n",
       "\n",
       "mpl.figure.prototype.handle_save = function(fig, msg) {\n",
       "    fig.ondownload(fig, null);\n",
       "}\n",
       "\n",
       "\n",
       "mpl.find_output_cell = function(html_output) {\n",
       "    // Return the cell and output element which can be found *uniquely* in the notebook.\n",
       "    // Note - this is a bit hacky, but it is done because the \"notebook_saving.Notebook\"\n",
       "    // IPython event is triggered only after the cells have been serialised, which for\n",
       "    // our purposes (turning an active figure into a static one), is too late.\n",
       "    var cells = IPython.notebook.get_cells();\n",
       "    var ncells = cells.length;\n",
       "    for (var i=0; i<ncells; i++) {\n",
       "        var cell = cells[i];\n",
       "        if (cell.cell_type === 'code'){\n",
       "            for (var j=0; j<cell.output_area.outputs.length; j++) {\n",
       "                var data = cell.output_area.outputs[j];\n",
       "                if (data.data) {\n",
       "                    // IPython >= 3 moved mimebundle to data attribute of output\n",
       "                    data = data.data;\n",
       "                }\n",
       "                if (data['text/html'] == html_output) {\n",
       "                    return [cell, data, j];\n",
       "                }\n",
       "            }\n",
       "        }\n",
       "    }\n",
       "}\n",
       "\n",
       "// Register the function which deals with the matplotlib target/channel.\n",
       "// The kernel may be null if the page has been refreshed.\n",
       "if (IPython.notebook.kernel != null) {\n",
       "    IPython.notebook.kernel.comm_manager.register_target('matplotlib', mpl.mpl_figure_comm);\n",
       "}\n"
      ],
      "text/plain": [
       "<IPython.core.display.Javascript object>"
      ]
     },
     "metadata": {},
     "output_type": "display_data"
    },
    {
     "data": {
      "text/html": [
       "<img src=\"data:image/png;base64,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\" width=\"640\">"
      ],
      "text/plain": [
       "<IPython.core.display.HTML object>"
      ]
     },
     "metadata": {},
     "output_type": "display_data"
    }
   ],
   "source": [
    "acc = np.transpose([train_acc, test_acc])\n",
    "acc = pd.DataFrame(data=acc, columns=['train_acc', 'test_acc'])\n",
    "boxplot = acc.boxplot(column=['train_acc', 'test_acc'])\n",
    "plt.show()"
   ]
  },
  {
   "cell_type": "code",
   "execution_count": 10,
   "metadata": {
    "collapsed": false
   },
   "outputs": [
    {
     "data": {
      "text/html": [
       "<div>\n",
       "<style scoped>\n",
       "    .dataframe tbody tr th:only-of-type {\n",
       "        vertical-align: middle;\n",
       "    }\n",
       "\n",
       "    .dataframe tbody tr th {\n",
       "        vertical-align: top;\n",
       "    }\n",
       "\n",
       "    .dataframe thead th {\n",
       "        text-align: right;\n",
       "    }\n",
       "</style>\n",
       "<table border=\"1\" class=\"dataframe\">\n",
       "  <thead>\n",
       "    <tr style=\"text-align: right;\">\n",
       "      <th></th>\n",
       "      <th>train_acc</th>\n",
       "      <th>test_acc</th>\n",
       "    </tr>\n",
       "  </thead>\n",
       "  <tbody>\n",
       "    <tr>\n",
       "      <th>count</th>\n",
       "      <td>30.0</td>\n",
       "      <td>30.000000</td>\n",
       "    </tr>\n",
       "    <tr>\n",
       "      <th>mean</th>\n",
       "      <td>1.0</td>\n",
       "      <td>0.530000</td>\n",
       "    </tr>\n",
       "    <tr>\n",
       "      <th>std</th>\n",
       "      <td>0.0</td>\n",
       "      <td>0.031073</td>\n",
       "    </tr>\n",
       "    <tr>\n",
       "      <th>min</th>\n",
       "      <td>1.0</td>\n",
       "      <td>0.500000</td>\n",
       "    </tr>\n",
       "    <tr>\n",
       "      <th>25%</th>\n",
       "      <td>1.0</td>\n",
       "      <td>0.500000</td>\n",
       "    </tr>\n",
       "    <tr>\n",
       "      <th>50%</th>\n",
       "      <td>1.0</td>\n",
       "      <td>0.550000</td>\n",
       "    </tr>\n",
       "    <tr>\n",
       "      <th>75%</th>\n",
       "      <td>1.0</td>\n",
       "      <td>0.550000</td>\n",
       "    </tr>\n",
       "    <tr>\n",
       "      <th>max</th>\n",
       "      <td>1.0</td>\n",
       "      <td>0.600000</td>\n",
       "    </tr>\n",
       "  </tbody>\n",
       "</table>\n",
       "</div>"
      ],
      "text/plain": [
       "       train_acc   test_acc\n",
       "count       30.0  30.000000\n",
       "mean         1.0   0.530000\n",
       "std          0.0   0.031073\n",
       "min          1.0   0.500000\n",
       "25%          1.0   0.500000\n",
       "50%          1.0   0.550000\n",
       "75%          1.0   0.550000\n",
       "max          1.0   0.600000"
      ]
     },
     "execution_count": 10,
     "metadata": {},
     "output_type": "execute_result"
    }
   ],
   "source": [
    "acc.describe()"
   ]
  }
 ],
 "metadata": {
  "kernelspec": {
   "display_name": "Python 3",
   "language": "python",
   "name": "python3"
  },
  "language_info": {
   "codemirror_mode": {
    "name": "ipython",
    "version": 3
   },
   "file_extension": ".py",
   "mimetype": "text/x-python",
   "name": "python",
   "nbconvert_exporter": "python",
   "pygments_lexer": "ipython3",
   "version": "3.4.5"
  }
 },
 "nbformat": 4,
 "nbformat_minor": 2
}
